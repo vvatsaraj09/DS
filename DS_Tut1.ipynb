{
  "cells": [
    {
      "cell_type": "markdown",
      "metadata": {
        "id": "09TbJvE2HEZx"
      },
      "source": [
        "#### **Vaidehi Vatsaraj**\n",
        "#### **2018130060**"
      ]
    },
    {
      "cell_type": "markdown",
      "metadata": {
        "id": "tZj512wdHO4p"
      },
      "source": [
        "### Data Science, 2022\n",
        "#### Tut 1: Exploratory Data Analysis\n"
      ]
    },
    {
      "cell_type": "code",
      "execution_count": null,
      "metadata": {
        "id": "UoUP0wzBlNcw"
      },
      "outputs": [],
      "source": [
        "import numpy as np\n",
        "import pandas as pd\n",
        "import matplotlib.pyplot as plt\n",
        "import seaborn as sns"
      ]
    },
    {
      "cell_type": "markdown",
      "metadata": {
        "id": "M-bpq_6dHYYB"
      },
      "source": [
        "Problem 1:\n",
        "Perform EDA such as number of data samples, number of features, number of classes, number of data samples per class, removing missing values, conversion to numbers, using seaborn library to plot different graphs."
      ]
    },
    {
      "cell_type": "markdown",
      "metadata": {
        "id": "dNDq5PKTCVMx"
      },
      "source": [
        "# Dataset Input"
      ]
    },
    {
      "cell_type": "markdown",
      "metadata": {
        "id": "c61Ck30SaZYv"
      },
      "source": [
        "Columns in dataset:\n",
        "\n",
        "YEAR\n",
        "\n",
        "1.   STATE\n",
        "2.   AGENCY\n",
        "3. UNIT_ID\n",
        "4. FIRE_NAME\n",
        "5. INC_NUM (incident number)\n",
        "6. ALARM_DATE\n",
        "7. CONT_DATE (containment date)\n",
        "8. CAUSE\n",
        "9. COMMENTS\n",
        "10. REPORT_AC (reported number of acres burned)\n",
        "11. GIS_ACRES (number of acres burned as determined by analysis of GIS data)\n",
        "12. C_METHOD\n",
        "13. OBJECTIVE"
      ]
    },
    {
      "cell_type": "code",
      "execution_count": null,
      "metadata": {
        "colab": {
          "base_uri": "https://localhost:8080/",
          "height": 444
        },
        "id": "oZsw2XS2Olwu",
        "outputId": "1564b890-80fd-46fc-a4e2-ac77c8e885d7"
      },
      "outputs": [
        {
          "data": {
            "text/html": [
              "\n",
              "  <div id=\"df-5557b898-6680-48e8-89f0-c86be2c1011c\">\n",
              "    <div class=\"colab-df-container\">\n",
              "      <div>\n",
              "<style scoped>\n",
              "    .dataframe tbody tr th:only-of-type {\n",
              "        vertical-align: middle;\n",
              "    }\n",
              "\n",
              "    .dataframe tbody tr th {\n",
              "        vertical-align: top;\n",
              "    }\n",
              "\n",
              "    .dataframe thead th {\n",
              "        text-align: right;\n",
              "    }\n",
              "</style>\n",
              "<table border=\"1\" class=\"dataframe\">\n",
              "  <thead>\n",
              "    <tr style=\"text-align: right;\">\n",
              "      <th></th>\n",
              "      <th>YEAR</th>\n",
              "      <th>STATE</th>\n",
              "      <th>AGENCY</th>\n",
              "      <th>UNIT_ID</th>\n",
              "      <th>FIRE_NAME</th>\n",
              "      <th>INC_NUM</th>\n",
              "      <th>ALARM_DATE</th>\n",
              "      <th>CONT_DATE</th>\n",
              "      <th>CAUSE</th>\n",
              "      <th>COMMENTS</th>\n",
              "      <th>REPORT_AC</th>\n",
              "      <th>GIS_ACRES</th>\n",
              "      <th>C_METHOD</th>\n",
              "      <th>OBJECTIVE</th>\n",
              "    </tr>\n",
              "  </thead>\n",
              "  <tbody>\n",
              "    <tr>\n",
              "      <th>0</th>\n",
              "      <td>1878</td>\n",
              "      <td>California</td>\n",
              "      <td>Contract County</td>\n",
              "      <td>Los Angeles County</td>\n",
              "      <td></td>\n",
              "      <td>0</td>\n",
              "      <td>&lt;Null&gt;</td>\n",
              "      <td>&lt;Null&gt;</td>\n",
              "      <td>14 - Unknown / Unidentified</td>\n",
              "      <td>NaN</td>\n",
              "      <td>&lt;Null&gt;</td>\n",
              "      <td>59468.8800</td>\n",
              "      <td>&lt;Null&gt;</td>\n",
              "      <td>Suppression (Wildfire)</td>\n",
              "    </tr>\n",
              "    <tr>\n",
              "      <th>1</th>\n",
              "      <td>1895</td>\n",
              "      <td>California</td>\n",
              "      <td>Contract County</td>\n",
              "      <td>Los Angeles County</td>\n",
              "      <td></td>\n",
              "      <td>0</td>\n",
              "      <td>&lt;Null&gt;</td>\n",
              "      <td>&lt;Null&gt;</td>\n",
              "      <td>14 - Unknown / Unidentified</td>\n",
              "      <td>NaN</td>\n",
              "      <td>&lt;Null&gt;</td>\n",
              "      <td>628.1136</td>\n",
              "      <td>&lt;Null&gt;</td>\n",
              "      <td>Suppression (Wildfire)</td>\n",
              "    </tr>\n",
              "    <tr>\n",
              "      <th>2</th>\n",
              "      <td>1896</td>\n",
              "      <td>California</td>\n",
              "      <td>Contract County</td>\n",
              "      <td>Los Angeles County</td>\n",
              "      <td></td>\n",
              "      <td>0</td>\n",
              "      <td>&lt;Null&gt;</td>\n",
              "      <td>&lt;Null&gt;</td>\n",
              "      <td>14 - Unknown / Unidentified</td>\n",
              "      <td>NaN</td>\n",
              "      <td>&lt;Null&gt;</td>\n",
              "      <td>7531.7170</td>\n",
              "      <td>&lt;Null&gt;</td>\n",
              "      <td>Suppression (Wildfire)</td>\n",
              "    </tr>\n",
              "    <tr>\n",
              "      <th>3</th>\n",
              "      <td>1898</td>\n",
              "      <td>California</td>\n",
              "      <td>Contract County</td>\n",
              "      <td>Los Angeles County</td>\n",
              "      <td></td>\n",
              "      <td>0</td>\n",
              "      <td>&lt;Null&gt;</td>\n",
              "      <td>&lt;Null&gt;</td>\n",
              "      <td>14 - Unknown / Unidentified</td>\n",
              "      <td>NaN</td>\n",
              "      <td>&lt;Null&gt;</td>\n",
              "      <td>1660.1030</td>\n",
              "      <td>&lt;Null&gt;</td>\n",
              "      <td>Suppression (Wildfire)</td>\n",
              "    </tr>\n",
              "    <tr>\n",
              "      <th>4</th>\n",
              "      <td>1898</td>\n",
              "      <td>California</td>\n",
              "      <td>Contract County</td>\n",
              "      <td>Los Angeles County</td>\n",
              "      <td></td>\n",
              "      <td>0</td>\n",
              "      <td>&lt;Null&gt;</td>\n",
              "      <td>&lt;Null&gt;</td>\n",
              "      <td>14 - Unknown / Unidentified</td>\n",
              "      <td>NaN</td>\n",
              "      <td>&lt;Null&gt;</td>\n",
              "      <td>428.4387</td>\n",
              "      <td>&lt;Null&gt;</td>\n",
              "      <td>Suppression (Wildfire)</td>\n",
              "    </tr>\n",
              "  </tbody>\n",
              "</table>\n",
              "</div>\n",
              "      <button class=\"colab-df-convert\" onclick=\"convertToInteractive('df-5557b898-6680-48e8-89f0-c86be2c1011c')\"\n",
              "              title=\"Convert this dataframe to an interactive table.\"\n",
              "              style=\"display:none;\">\n",
              "        \n",
              "  <svg xmlns=\"http://www.w3.org/2000/svg\" height=\"24px\"viewBox=\"0 0 24 24\"\n",
              "       width=\"24px\">\n",
              "    <path d=\"M0 0h24v24H0V0z\" fill=\"none\"/>\n",
              "    <path d=\"M18.56 5.44l.94 2.06.94-2.06 2.06-.94-2.06-.94-.94-2.06-.94 2.06-2.06.94zm-11 1L8.5 8.5l.94-2.06 2.06-.94-2.06-.94L8.5 2.5l-.94 2.06-2.06.94zm10 10l.94 2.06.94-2.06 2.06-.94-2.06-.94-.94-2.06-.94 2.06-2.06.94z\"/><path d=\"M17.41 7.96l-1.37-1.37c-.4-.4-.92-.59-1.43-.59-.52 0-1.04.2-1.43.59L10.3 9.45l-7.72 7.72c-.78.78-.78 2.05 0 2.83L4 21.41c.39.39.9.59 1.41.59.51 0 1.02-.2 1.41-.59l7.78-7.78 2.81-2.81c.8-.78.8-2.07 0-2.86zM5.41 20L4 18.59l7.72-7.72 1.47 1.35L5.41 20z\"/>\n",
              "  </svg>\n",
              "      </button>\n",
              "      \n",
              "  <style>\n",
              "    .colab-df-container {\n",
              "      display:flex;\n",
              "      flex-wrap:wrap;\n",
              "      gap: 12px;\n",
              "    }\n",
              "\n",
              "    .colab-df-convert {\n",
              "      background-color: #E8F0FE;\n",
              "      border: none;\n",
              "      border-radius: 50%;\n",
              "      cursor: pointer;\n",
              "      display: none;\n",
              "      fill: #1967D2;\n",
              "      height: 32px;\n",
              "      padding: 0 0 0 0;\n",
              "      width: 32px;\n",
              "    }\n",
              "\n",
              "    .colab-df-convert:hover {\n",
              "      background-color: #E2EBFA;\n",
              "      box-shadow: 0px 1px 2px rgba(60, 64, 67, 0.3), 0px 1px 3px 1px rgba(60, 64, 67, 0.15);\n",
              "      fill: #174EA6;\n",
              "    }\n",
              "\n",
              "    [theme=dark] .colab-df-convert {\n",
              "      background-color: #3B4455;\n",
              "      fill: #D2E3FC;\n",
              "    }\n",
              "\n",
              "    [theme=dark] .colab-df-convert:hover {\n",
              "      background-color: #434B5C;\n",
              "      box-shadow: 0px 1px 3px 1px rgba(0, 0, 0, 0.15);\n",
              "      filter: drop-shadow(0px 1px 2px rgba(0, 0, 0, 0.3));\n",
              "      fill: #FFFFFF;\n",
              "    }\n",
              "  </style>\n",
              "\n",
              "      <script>\n",
              "        const buttonEl =\n",
              "          document.querySelector('#df-5557b898-6680-48e8-89f0-c86be2c1011c button.colab-df-convert');\n",
              "        buttonEl.style.display =\n",
              "          google.colab.kernel.accessAllowed ? 'block' : 'none';\n",
              "\n",
              "        async function convertToInteractive(key) {\n",
              "          const element = document.querySelector('#df-5557b898-6680-48e8-89f0-c86be2c1011c');\n",
              "          const dataTable =\n",
              "            await google.colab.kernel.invokeFunction('convertToInteractive',\n",
              "                                                     [key], {});\n",
              "          if (!dataTable) return;\n",
              "\n",
              "          const docLinkHtml = 'Like what you see? Visit the ' +\n",
              "            '<a target=\"_blank\" href=https://colab.research.google.com/notebooks/data_table.ipynb>data table notebook</a>'\n",
              "            + ' to learn more about interactive tables.';\n",
              "          element.innerHTML = '';\n",
              "          dataTable['output_type'] = 'display_data';\n",
              "          await google.colab.output.renderOutput(dataTable, element);\n",
              "          const docLink = document.createElement('div');\n",
              "          docLink.innerHTML = docLinkHtml;\n",
              "          element.appendChild(docLink);\n",
              "        }\n",
              "      </script>\n",
              "    </div>\n",
              "  </div>\n",
              "  "
            ],
            "text/plain": [
              "   YEAR       STATE  ... C_METHOD               OBJECTIVE\n",
              "0  1878  California  ...   <Null>  Suppression (Wildfire)\n",
              "1  1895  California  ...   <Null>  Suppression (Wildfire)\n",
              "2  1896  California  ...   <Null>  Suppression (Wildfire)\n",
              "3  1898  California  ...   <Null>  Suppression (Wildfire)\n",
              "4  1898  California  ...   <Null>  Suppression (Wildfire)\n",
              "\n",
              "[5 rows x 14 columns]"
            ]
          },
          "execution_count": 4,
          "metadata": {},
          "output_type": "execute_result"
        }
      ],
      "source": [
        "wildfire_data_2016 = pd.read_excel('./Wildfire.xlsx', sheet_name='2016')\n",
        "wildfire_data_2016.head()"
      ]
    },
    {
      "cell_type": "markdown",
      "metadata": {
        "id": "PfYyoSYuHr7f"
      },
      "source": [
        "Number of Data Samples"
      ]
    },
    {
      "cell_type": "code",
      "execution_count": null,
      "metadata": {
        "colab": {
          "base_uri": "https://localhost:8080/"
        },
        "id": "leBU9m82Hhss",
        "outputId": "da84b3b3-0a66-421e-9c74-e397f1e23824"
      },
      "outputs": [
        {
          "name": "stdout",
          "output_type": "stream",
          "text": [
            "Number of data samples at the beginning:  11795\n"
          ]
        }
      ],
      "source": [
        "print(\"Number of data samples at the beginning: \", len(wildfire_data_2016))"
      ]
    },
    {
      "cell_type": "markdown",
      "metadata": {
        "id": "gfLCqvwJH8t9"
      },
      "source": [
        "Number of features"
      ]
    },
    {
      "cell_type": "code",
      "execution_count": null,
      "metadata": {
        "colab": {
          "base_uri": "https://localhost:8080/"
        },
        "id": "30e5p_NiIAOV",
        "outputId": "4c7b8f92-8748-4945-a5af-095a8b15c946"
      },
      "outputs": [
        {
          "name": "stdout",
          "output_type": "stream",
          "text": [
            "Number of features at the beginning:  14\n"
          ]
        }
      ],
      "source": [
        "print(\"Number of features at the beginning: \", len(wildfire_data_2016.columns))"
      ]
    },
    {
      "cell_type": "markdown",
      "metadata": {
        "id": "7V6gDPN2K4_0"
      },
      "source": [
        "Number of Classes"
      ]
    },
    {
      "cell_type": "markdown",
      "metadata": {
        "id": "5UfmOD6PwFai"
      },
      "source": [
        "Number of Data Samples per Class"
      ]
    },
    {
      "cell_type": "code",
      "execution_count": null,
      "metadata": {
        "colab": {
          "base_uri": "https://localhost:8080/"
        },
        "id": "hbQODtMmv52-",
        "outputId": "1f3ca4fe-39ce-43d5-8760-266554e32670"
      },
      "outputs": [
        {
          "data": {
            "text/plain": [
              "Suppression (Wildfire)    11575\n",
              "Resource Benefit (WFU)      164\n",
              "<Null>                       56\n",
              "Name: OBJECTIVE, dtype: int64"
            ]
          },
          "execution_count": 8,
          "metadata": {},
          "output_type": "execute_result"
        }
      ],
      "source": [
        "wildfire_data_2016['OBJECTIVE'].value_counts()"
      ]
    },
    {
      "cell_type": "markdown",
      "metadata": {
        "id": "kXfOhS4DwXeK"
      },
      "source": [
        "# Data Cleaning"
      ]
    },
    {
      "cell_type": "markdown",
      "metadata": {
        "id": "jq0Z-wppEXyb"
      },
      "source": [
        "From the above outputs of head() and info() we can see that even though the <'Null'> values are present in the columns ALARM_DATE and CONT_DATE in the head() output, those values are treated as non-null in the output of info().\n",
        "\n",
        "Pandas can handle missing data, but  <'Null'> is a non-standard representation for missing data. Hence Pandas interprets it as the non-null character string \"<'Null'>\".\n",
        "\n",
        "To solve this problem, we can use an option in pd.read_excel function to specify additional data as null values."
      ]
    },
    {
      "cell_type": "markdown",
      "metadata": {
        "id": "YevailuhGX4O"
      },
      "source": [
        "### Specifying additional data as null values"
      ]
    },
    {
      "cell_type": "code",
      "execution_count": null,
      "metadata": {
        "colab": {
          "base_uri": "https://localhost:8080/"
        },
        "id": "dcupJUmlGgnU",
        "outputId": "a080792b-d591-46e1-ef42-0f26c840d2d5"
      },
      "outputs": [
        {
          "data": {
            "text/html": [
              "\n",
              "  <div id=\"df-b264d091-d8ed-46e1-b605-8fecc92eb2b6\">\n",
              "    <div class=\"colab-df-container\">\n",
              "      <div>\n",
              "<style scoped>\n",
              "    .dataframe tbody tr th:only-of-type {\n",
              "        vertical-align: middle;\n",
              "    }\n",
              "\n",
              "    .dataframe tbody tr th {\n",
              "        vertical-align: top;\n",
              "    }\n",
              "\n",
              "    .dataframe thead th {\n",
              "        text-align: right;\n",
              "    }\n",
              "</style>\n",
              "<table border=\"1\" class=\"dataframe\">\n",
              "  <thead>\n",
              "    <tr style=\"text-align: right;\">\n",
              "      <th></th>\n",
              "      <th>YEAR</th>\n",
              "      <th>STATE</th>\n",
              "      <th>AGENCY</th>\n",
              "      <th>UNIT_ID</th>\n",
              "      <th>FIRE_NAME</th>\n",
              "      <th>INC_NUM</th>\n",
              "      <th>ALARM_DATE</th>\n",
              "      <th>CONT_DATE</th>\n",
              "      <th>CAUSE</th>\n",
              "      <th>COMMENTS</th>\n",
              "      <th>REPORT_AC</th>\n",
              "      <th>GIS_ACRES</th>\n",
              "      <th>C_METHOD</th>\n",
              "      <th>OBJECTIVE</th>\n",
              "    </tr>\n",
              "  </thead>\n",
              "  <tbody>\n",
              "    <tr>\n",
              "      <th>0</th>\n",
              "      <td>1878.0</td>\n",
              "      <td>California</td>\n",
              "      <td>Contract County</td>\n",
              "      <td>Los Angeles County</td>\n",
              "      <td></td>\n",
              "      <td>0</td>\n",
              "      <td>NaN</td>\n",
              "      <td>NaT</td>\n",
              "      <td>14 - Unknown / Unidentified</td>\n",
              "      <td>NaN</td>\n",
              "      <td>NaN</td>\n",
              "      <td>59468.8800</td>\n",
              "      <td>NaN</td>\n",
              "      <td>Suppression (Wildfire)</td>\n",
              "    </tr>\n",
              "    <tr>\n",
              "      <th>1</th>\n",
              "      <td>1895.0</td>\n",
              "      <td>California</td>\n",
              "      <td>Contract County</td>\n",
              "      <td>Los Angeles County</td>\n",
              "      <td></td>\n",
              "      <td>0</td>\n",
              "      <td>NaN</td>\n",
              "      <td>NaT</td>\n",
              "      <td>14 - Unknown / Unidentified</td>\n",
              "      <td>NaN</td>\n",
              "      <td>NaN</td>\n",
              "      <td>628.1136</td>\n",
              "      <td>NaN</td>\n",
              "      <td>Suppression (Wildfire)</td>\n",
              "    </tr>\n",
              "    <tr>\n",
              "      <th>2</th>\n",
              "      <td>1896.0</td>\n",
              "      <td>California</td>\n",
              "      <td>Contract County</td>\n",
              "      <td>Los Angeles County</td>\n",
              "      <td></td>\n",
              "      <td>0</td>\n",
              "      <td>NaN</td>\n",
              "      <td>NaT</td>\n",
              "      <td>14 - Unknown / Unidentified</td>\n",
              "      <td>NaN</td>\n",
              "      <td>NaN</td>\n",
              "      <td>7531.7170</td>\n",
              "      <td>NaN</td>\n",
              "      <td>Suppression (Wildfire)</td>\n",
              "    </tr>\n",
              "    <tr>\n",
              "      <th>3</th>\n",
              "      <td>1898.0</td>\n",
              "      <td>California</td>\n",
              "      <td>Contract County</td>\n",
              "      <td>Los Angeles County</td>\n",
              "      <td></td>\n",
              "      <td>0</td>\n",
              "      <td>NaN</td>\n",
              "      <td>NaT</td>\n",
              "      <td>14 - Unknown / Unidentified</td>\n",
              "      <td>NaN</td>\n",
              "      <td>NaN</td>\n",
              "      <td>1660.1030</td>\n",
              "      <td>NaN</td>\n",
              "      <td>Suppression (Wildfire)</td>\n",
              "    </tr>\n",
              "    <tr>\n",
              "      <th>4</th>\n",
              "      <td>1898.0</td>\n",
              "      <td>California</td>\n",
              "      <td>Contract County</td>\n",
              "      <td>Los Angeles County</td>\n",
              "      <td></td>\n",
              "      <td>0</td>\n",
              "      <td>NaN</td>\n",
              "      <td>NaT</td>\n",
              "      <td>14 - Unknown / Unidentified</td>\n",
              "      <td>NaN</td>\n",
              "      <td>NaN</td>\n",
              "      <td>428.4387</td>\n",
              "      <td>NaN</td>\n",
              "      <td>Suppression (Wildfire)</td>\n",
              "    </tr>\n",
              "  </tbody>\n",
              "</table>\n",
              "</div>\n",
              "      <button class=\"colab-df-convert\" onclick=\"convertToInteractive('df-b264d091-d8ed-46e1-b605-8fecc92eb2b6')\"\n",
              "              title=\"Convert this dataframe to an interactive table.\"\n",
              "              style=\"display:none;\">\n",
              "        \n",
              "  <svg xmlns=\"http://www.w3.org/2000/svg\" height=\"24px\"viewBox=\"0 0 24 24\"\n",
              "       width=\"24px\">\n",
              "    <path d=\"M0 0h24v24H0V0z\" fill=\"none\"/>\n",
              "    <path d=\"M18.56 5.44l.94 2.06.94-2.06 2.06-.94-2.06-.94-.94-2.06-.94 2.06-2.06.94zm-11 1L8.5 8.5l.94-2.06 2.06-.94-2.06-.94L8.5 2.5l-.94 2.06-2.06.94zm10 10l.94 2.06.94-2.06 2.06-.94-2.06-.94-.94-2.06-.94 2.06-2.06.94z\"/><path d=\"M17.41 7.96l-1.37-1.37c-.4-.4-.92-.59-1.43-.59-.52 0-1.04.2-1.43.59L10.3 9.45l-7.72 7.72c-.78.78-.78 2.05 0 2.83L4 21.41c.39.39.9.59 1.41.59.51 0 1.02-.2 1.41-.59l7.78-7.78 2.81-2.81c.8-.78.8-2.07 0-2.86zM5.41 20L4 18.59l7.72-7.72 1.47 1.35L5.41 20z\"/>\n",
              "  </svg>\n",
              "      </button>\n",
              "      \n",
              "  <style>\n",
              "    .colab-df-container {\n",
              "      display:flex;\n",
              "      flex-wrap:wrap;\n",
              "      gap: 12px;\n",
              "    }\n",
              "\n",
              "    .colab-df-convert {\n",
              "      background-color: #E8F0FE;\n",
              "      border: none;\n",
              "      border-radius: 50%;\n",
              "      cursor: pointer;\n",
              "      display: none;\n",
              "      fill: #1967D2;\n",
              "      height: 32px;\n",
              "      padding: 0 0 0 0;\n",
              "      width: 32px;\n",
              "    }\n",
              "\n",
              "    .colab-df-convert:hover {\n",
              "      background-color: #E2EBFA;\n",
              "      box-shadow: 0px 1px 2px rgba(60, 64, 67, 0.3), 0px 1px 3px 1px rgba(60, 64, 67, 0.15);\n",
              "      fill: #174EA6;\n",
              "    }\n",
              "\n",
              "    [theme=dark] .colab-df-convert {\n",
              "      background-color: #3B4455;\n",
              "      fill: #D2E3FC;\n",
              "    }\n",
              "\n",
              "    [theme=dark] .colab-df-convert:hover {\n",
              "      background-color: #434B5C;\n",
              "      box-shadow: 0px 1px 3px 1px rgba(0, 0, 0, 0.15);\n",
              "      filter: drop-shadow(0px 1px 2px rgba(0, 0, 0, 0.3));\n",
              "      fill: #FFFFFF;\n",
              "    }\n",
              "  </style>\n",
              "\n",
              "      <script>\n",
              "        const buttonEl =\n",
              "          document.querySelector('#df-b264d091-d8ed-46e1-b605-8fecc92eb2b6 button.colab-df-convert');\n",
              "        buttonEl.style.display =\n",
              "          google.colab.kernel.accessAllowed ? 'block' : 'none';\n",
              "\n",
              "        async function convertToInteractive(key) {\n",
              "          const element = document.querySelector('#df-b264d091-d8ed-46e1-b605-8fecc92eb2b6');\n",
              "          const dataTable =\n",
              "            await google.colab.kernel.invokeFunction('convertToInteractive',\n",
              "                                                     [key], {});\n",
              "          if (!dataTable) return;\n",
              "\n",
              "          const docLinkHtml = 'Like what you see? Visit the ' +\n",
              "            '<a target=\"_blank\" href=https://colab.research.google.com/notebooks/data_table.ipynb>data table notebook</a>'\n",
              "            + ' to learn more about interactive tables.';\n",
              "          element.innerHTML = '';\n",
              "          dataTable['output_type'] = 'display_data';\n",
              "          await google.colab.output.renderOutput(dataTable, element);\n",
              "          const docLink = document.createElement('div');\n",
              "          docLink.innerHTML = docLinkHtml;\n",
              "          element.appendChild(docLink);\n",
              "        }\n",
              "      </script>\n",
              "    </div>\n",
              "  </div>\n",
              "  "
            ],
            "text/plain": [
              "     YEAR       STATE  ... C_METHOD               OBJECTIVE\n",
              "0  1878.0  California  ...      NaN  Suppression (Wildfire)\n",
              "1  1895.0  California  ...      NaN  Suppression (Wildfire)\n",
              "2  1896.0  California  ...      NaN  Suppression (Wildfire)\n",
              "3  1898.0  California  ...      NaN  Suppression (Wildfire)\n",
              "4  1898.0  California  ...      NaN  Suppression (Wildfire)\n",
              "\n",
              "[5 rows x 14 columns]"
            ]
          },
          "execution_count": 12,
          "metadata": {},
          "output_type": "execute_result"
        }
      ],
      "source": [
        "wildfire_data_2016 = pd.read_excel('/content/drive/MyDrive/DS-Lab/Tutorial/Tut1/Wildfire.xlsx', sheet_name='2016', na_values=['<Null>'])\n",
        "wildfire_data_2016.head()"
      ]
    },
    {
      "cell_type": "markdown",
      "metadata": {
        "id": "ukv5tysvG2yu"
      },
      "source": [
        "For datetime64[ns] types, NaT represents missing values. This is a pseudo-native sentinel value that can be represented by NumPy in a singular dtype (datetime64[ns])."
      ]
    },
    {
      "cell_type": "markdown",
      "metadata": {
        "id": "ZzQUIXPiIXe9"
      },
      "source": [
        "ALARM_DATE is interpreted as an \"object\" (read: string), and CONT_DATE is interpreted as a date (datetype64[ns]). \n",
        "\n",
        "The reason for this discrepancy appears to be the fact that two of the ALARM_DATEs occurred before 1900, and pandas does not correctly interpret them as dates, leaving them as strings. \n",
        "It would be good if they were both interpreted as dates so that we could operate on them as such. We can use the pd.to_datetime function, either after we have read the dataframe in, or during the reading process itself by explicitly assigning a converter to each of the data fields."
      ]
    },
    {
      "cell_type": "code",
      "execution_count": null,
      "metadata": {
        "colab": {
          "base_uri": "https://localhost:8080/"
        },
        "id": "dCxB7tIDIqyx",
        "outputId": "4d0ca074-c9c3-4311-cbad-0735f6dddc72"
      },
      "outputs": [
        {
          "data": {
            "text/html": [
              "\n",
              "  <div id=\"df-bf0437c0-9b5f-482a-9f42-01f171df6b42\">\n",
              "    <div class=\"colab-df-container\">\n",
              "      <div>\n",
              "<style scoped>\n",
              "    .dataframe tbody tr th:only-of-type {\n",
              "        vertical-align: middle;\n",
              "    }\n",
              "\n",
              "    .dataframe tbody tr th {\n",
              "        vertical-align: top;\n",
              "    }\n",
              "\n",
              "    .dataframe thead th {\n",
              "        text-align: right;\n",
              "    }\n",
              "</style>\n",
              "<table border=\"1\" class=\"dataframe\">\n",
              "  <thead>\n",
              "    <tr style=\"text-align: right;\">\n",
              "      <th></th>\n",
              "      <th>YEAR</th>\n",
              "      <th>STATE</th>\n",
              "      <th>AGENCY</th>\n",
              "      <th>UNIT_ID</th>\n",
              "      <th>FIRE_NAME</th>\n",
              "      <th>INC_NUM</th>\n",
              "      <th>ALARM_DATE</th>\n",
              "      <th>CONT_DATE</th>\n",
              "      <th>CAUSE</th>\n",
              "      <th>COMMENTS</th>\n",
              "      <th>REPORT_AC</th>\n",
              "      <th>GIS_ACRES</th>\n",
              "      <th>C_METHOD</th>\n",
              "      <th>OBJECTIVE</th>\n",
              "    </tr>\n",
              "  </thead>\n",
              "  <tbody>\n",
              "    <tr>\n",
              "      <th>0</th>\n",
              "      <td>1878.0</td>\n",
              "      <td>California</td>\n",
              "      <td>Contract County</td>\n",
              "      <td>Los Angeles County</td>\n",
              "      <td></td>\n",
              "      <td>0</td>\n",
              "      <td>NaT</td>\n",
              "      <td>NaT</td>\n",
              "      <td>14 - Unknown / Unidentified</td>\n",
              "      <td>NaN</td>\n",
              "      <td>NaN</td>\n",
              "      <td>59468.8800</td>\n",
              "      <td>NaN</td>\n",
              "      <td>Suppression (Wildfire)</td>\n",
              "    </tr>\n",
              "    <tr>\n",
              "      <th>1</th>\n",
              "      <td>1895.0</td>\n",
              "      <td>California</td>\n",
              "      <td>Contract County</td>\n",
              "      <td>Los Angeles County</td>\n",
              "      <td></td>\n",
              "      <td>0</td>\n",
              "      <td>NaT</td>\n",
              "      <td>NaT</td>\n",
              "      <td>14 - Unknown / Unidentified</td>\n",
              "      <td>NaN</td>\n",
              "      <td>NaN</td>\n",
              "      <td>628.1136</td>\n",
              "      <td>NaN</td>\n",
              "      <td>Suppression (Wildfire)</td>\n",
              "    </tr>\n",
              "    <tr>\n",
              "      <th>2</th>\n",
              "      <td>1896.0</td>\n",
              "      <td>California</td>\n",
              "      <td>Contract County</td>\n",
              "      <td>Los Angeles County</td>\n",
              "      <td></td>\n",
              "      <td>0</td>\n",
              "      <td>NaT</td>\n",
              "      <td>NaT</td>\n",
              "      <td>14 - Unknown / Unidentified</td>\n",
              "      <td>NaN</td>\n",
              "      <td>NaN</td>\n",
              "      <td>7531.7170</td>\n",
              "      <td>NaN</td>\n",
              "      <td>Suppression (Wildfire)</td>\n",
              "    </tr>\n",
              "    <tr>\n",
              "      <th>3</th>\n",
              "      <td>1898.0</td>\n",
              "      <td>California</td>\n",
              "      <td>Contract County</td>\n",
              "      <td>Los Angeles County</td>\n",
              "      <td></td>\n",
              "      <td>0</td>\n",
              "      <td>NaT</td>\n",
              "      <td>NaT</td>\n",
              "      <td>14 - Unknown / Unidentified</td>\n",
              "      <td>NaN</td>\n",
              "      <td>NaN</td>\n",
              "      <td>1660.1030</td>\n",
              "      <td>NaN</td>\n",
              "      <td>Suppression (Wildfire)</td>\n",
              "    </tr>\n",
              "    <tr>\n",
              "      <th>4</th>\n",
              "      <td>1898.0</td>\n",
              "      <td>California</td>\n",
              "      <td>Contract County</td>\n",
              "      <td>Los Angeles County</td>\n",
              "      <td></td>\n",
              "      <td>0</td>\n",
              "      <td>NaT</td>\n",
              "      <td>NaT</td>\n",
              "      <td>14 - Unknown / Unidentified</td>\n",
              "      <td>NaN</td>\n",
              "      <td>NaN</td>\n",
              "      <td>428.4387</td>\n",
              "      <td>NaN</td>\n",
              "      <td>Suppression (Wildfire)</td>\n",
              "    </tr>\n",
              "  </tbody>\n",
              "</table>\n",
              "</div>\n",
              "      <button class=\"colab-df-convert\" onclick=\"convertToInteractive('df-bf0437c0-9b5f-482a-9f42-01f171df6b42')\"\n",
              "              title=\"Convert this dataframe to an interactive table.\"\n",
              "              style=\"display:none;\">\n",
              "        \n",
              "  <svg xmlns=\"http://www.w3.org/2000/svg\" height=\"24px\"viewBox=\"0 0 24 24\"\n",
              "       width=\"24px\">\n",
              "    <path d=\"M0 0h24v24H0V0z\" fill=\"none\"/>\n",
              "    <path d=\"M18.56 5.44l.94 2.06.94-2.06 2.06-.94-2.06-.94-.94-2.06-.94 2.06-2.06.94zm-11 1L8.5 8.5l.94-2.06 2.06-.94-2.06-.94L8.5 2.5l-.94 2.06-2.06.94zm10 10l.94 2.06.94-2.06 2.06-.94-2.06-.94-.94-2.06-.94 2.06-2.06.94z\"/><path d=\"M17.41 7.96l-1.37-1.37c-.4-.4-.92-.59-1.43-.59-.52 0-1.04.2-1.43.59L10.3 9.45l-7.72 7.72c-.78.78-.78 2.05 0 2.83L4 21.41c.39.39.9.59 1.41.59.51 0 1.02-.2 1.41-.59l7.78-7.78 2.81-2.81c.8-.78.8-2.07 0-2.86zM5.41 20L4 18.59l7.72-7.72 1.47 1.35L5.41 20z\"/>\n",
              "  </svg>\n",
              "      </button>\n",
              "      \n",
              "  <style>\n",
              "    .colab-df-container {\n",
              "      display:flex;\n",
              "      flex-wrap:wrap;\n",
              "      gap: 12px;\n",
              "    }\n",
              "\n",
              "    .colab-df-convert {\n",
              "      background-color: #E8F0FE;\n",
              "      border: none;\n",
              "      border-radius: 50%;\n",
              "      cursor: pointer;\n",
              "      display: none;\n",
              "      fill: #1967D2;\n",
              "      height: 32px;\n",
              "      padding: 0 0 0 0;\n",
              "      width: 32px;\n",
              "    }\n",
              "\n",
              "    .colab-df-convert:hover {\n",
              "      background-color: #E2EBFA;\n",
              "      box-shadow: 0px 1px 2px rgba(60, 64, 67, 0.3), 0px 1px 3px 1px rgba(60, 64, 67, 0.15);\n",
              "      fill: #174EA6;\n",
              "    }\n",
              "\n",
              "    [theme=dark] .colab-df-convert {\n",
              "      background-color: #3B4455;\n",
              "      fill: #D2E3FC;\n",
              "    }\n",
              "\n",
              "    [theme=dark] .colab-df-convert:hover {\n",
              "      background-color: #434B5C;\n",
              "      box-shadow: 0px 1px 3px 1px rgba(0, 0, 0, 0.15);\n",
              "      filter: drop-shadow(0px 1px 2px rgba(0, 0, 0, 0.3));\n",
              "      fill: #FFFFFF;\n",
              "    }\n",
              "  </style>\n",
              "\n",
              "      <script>\n",
              "        const buttonEl =\n",
              "          document.querySelector('#df-bf0437c0-9b5f-482a-9f42-01f171df6b42 button.colab-df-convert');\n",
              "        buttonEl.style.display =\n",
              "          google.colab.kernel.accessAllowed ? 'block' : 'none';\n",
              "\n",
              "        async function convertToInteractive(key) {\n",
              "          const element = document.querySelector('#df-bf0437c0-9b5f-482a-9f42-01f171df6b42');\n",
              "          const dataTable =\n",
              "            await google.colab.kernel.invokeFunction('convertToInteractive',\n",
              "                                                     [key], {});\n",
              "          if (!dataTable) return;\n",
              "\n",
              "          const docLinkHtml = 'Like what you see? Visit the ' +\n",
              "            '<a target=\"_blank\" href=https://colab.research.google.com/notebooks/data_table.ipynb>data table notebook</a>'\n",
              "            + ' to learn more about interactive tables.';\n",
              "          element.innerHTML = '';\n",
              "          dataTable['output_type'] = 'display_data';\n",
              "          await google.colab.output.renderOutput(dataTable, element);\n",
              "          const docLink = document.createElement('div');\n",
              "          docLink.innerHTML = docLinkHtml;\n",
              "          element.appendChild(docLink);\n",
              "        }\n",
              "      </script>\n",
              "    </div>\n",
              "  </div>\n",
              "  "
            ],
            "text/plain": [
              "     YEAR       STATE  ... C_METHOD               OBJECTIVE\n",
              "0  1878.0  California  ...      NaN  Suppression (Wildfire)\n",
              "1  1895.0  California  ...      NaN  Suppression (Wildfire)\n",
              "2  1896.0  California  ...      NaN  Suppression (Wildfire)\n",
              "3  1898.0  California  ...      NaN  Suppression (Wildfire)\n",
              "4  1898.0  California  ...      NaN  Suppression (Wildfire)\n",
              "\n",
              "[5 rows x 14 columns]"
            ]
          },
          "execution_count": 15,
          "metadata": {},
          "output_type": "execute_result"
        }
      ],
      "source": [
        "wildfire_data_2016 = pd.read_excel('/content/drive/MyDrive/DS-Lab/Tutorial/Tut1/Wildfire.xlsx', sheet_name='2016', na_values=['<Null>'], converters={'ALARM_DATE': pd.to_datetime, 'CONT_DATE': pd.to_datetime})\n",
        "wildfire_data_2016.head()"
      ]
    },
    {
      "cell_type": "markdown",
      "metadata": {
        "id": "urphGB6Mosn1"
      },
      "source": [
        "### Concatenating Datasets"
      ]
    },
    {
      "cell_type": "code",
      "execution_count": null,
      "metadata": {
        "colab": {
          "base_uri": "https://localhost:8080/"
        },
        "id": "-PQ3D5q3pcv9",
        "outputId": "efa0ad34-4e31-40c9-9c8c-3c572df938df"
      },
      "outputs": [
        {
          "data": {
            "text/html": [
              "\n",
              "  <div id=\"df-53fb4662-d210-49cf-9e56-1a305d63dcac\">\n",
              "    <div class=\"colab-df-container\">\n",
              "      <div>\n",
              "<style scoped>\n",
              "    .dataframe tbody tr th:only-of-type {\n",
              "        vertical-align: middle;\n",
              "    }\n",
              "\n",
              "    .dataframe tbody tr th {\n",
              "        vertical-align: top;\n",
              "    }\n",
              "\n",
              "    .dataframe thead th {\n",
              "        text-align: right;\n",
              "    }\n",
              "</style>\n",
              "<table border=\"1\" class=\"dataframe\">\n",
              "  <thead>\n",
              "    <tr style=\"text-align: right;\">\n",
              "      <th></th>\n",
              "      <th>YEAR_</th>\n",
              "      <th>STATE</th>\n",
              "      <th>AGENCY</th>\n",
              "      <th>UNIT_ID</th>\n",
              "      <th>FIRE_NAME</th>\n",
              "      <th>INC_NUM</th>\n",
              "      <th>ALARM_DATE</th>\n",
              "      <th>CONT_DATE</th>\n",
              "      <th>CAUSE</th>\n",
              "      <th>COMMENTS</th>\n",
              "      <th>REPORT_AC</th>\n",
              "      <th>GIS_ACRES</th>\n",
              "      <th>C_METHOD</th>\n",
              "      <th>OBJECTIVE</th>\n",
              "    </tr>\n",
              "  </thead>\n",
              "  <tbody>\n",
              "    <tr>\n",
              "      <th>0</th>\n",
              "      <td>2017</td>\n",
              "      <td>California</td>\n",
              "      <td>California Department of Forestry and Fire Pro...</td>\n",
              "      <td>Tulare County</td>\n",
              "      <td>DINELY</td>\n",
              "      <td>286</td>\n",
              "      <td>2017-06-07</td>\n",
              "      <td>2017-06-11</td>\n",
              "      <td>2 - Equipment Use</td>\n",
              "      <td>NaN</td>\n",
              "      <td>339.0</td>\n",
              "      <td>340.5638</td>\n",
              "      <td>1 - GPS Ground</td>\n",
              "      <td>Suppression (Wildfire)</td>\n",
              "    </tr>\n",
              "    <tr>\n",
              "      <th>1</th>\n",
              "      <td>2017</td>\n",
              "      <td>California</td>\n",
              "      <td>California Department of Forestry and Fire Pro...</td>\n",
              "      <td>Tulare County</td>\n",
              "      <td>ROADRUNNER</td>\n",
              "      <td>441</td>\n",
              "      <td>2017-07-30</td>\n",
              "      <td>2017-08-01</td>\n",
              "      <td>7 - Arson</td>\n",
              "      <td>NaN</td>\n",
              "      <td>2289.0</td>\n",
              "      <td>2284.5960</td>\n",
              "      <td>1 - GPS Ground</td>\n",
              "      <td>Suppression (Wildfire)</td>\n",
              "    </tr>\n",
              "    <tr>\n",
              "      <th>2</th>\n",
              "      <td>2017</td>\n",
              "      <td>California</td>\n",
              "      <td>California Department of Forestry and Fire Pro...</td>\n",
              "      <td>Tulare County</td>\n",
              "      <td>ELEPHANT 2</td>\n",
              "      <td>420</td>\n",
              "      <td>2017-07-20</td>\n",
              "      <td>2017-07-22</td>\n",
              "      <td>7 - Arson</td>\n",
              "      <td>NaN</td>\n",
              "      <td>416.0</td>\n",
              "      <td>415.2116</td>\n",
              "      <td>1 - GPS Ground</td>\n",
              "      <td>Suppression (Wildfire)</td>\n",
              "    </tr>\n",
              "    <tr>\n",
              "      <th>3</th>\n",
              "      <td>2017</td>\n",
              "      <td>California</td>\n",
              "      <td>California Department of Forestry and Fire Pro...</td>\n",
              "      <td>Tehama - Glenn CAL FIRE</td>\n",
              "      <td>TEHAMA</td>\n",
              "      <td>10345</td>\n",
              "      <td>2017-10-30</td>\n",
              "      <td>2017-10-31</td>\n",
              "      <td>10 - Vehicle</td>\n",
              "      <td>NaN</td>\n",
              "      <td>194.0</td>\n",
              "      <td>194.0017</td>\n",
              "      <td>1 - GPS Ground</td>\n",
              "      <td>Suppression (Wildfire)</td>\n",
              "    </tr>\n",
              "    <tr>\n",
              "      <th>4</th>\n",
              "      <td>2017</td>\n",
              "      <td>California</td>\n",
              "      <td>California Department of Forestry and Fire Pro...</td>\n",
              "      <td>Tuolumne - Calaveras CAL FIRE</td>\n",
              "      <td>JACKSONVILLE</td>\n",
              "      <td>9024</td>\n",
              "      <td>2017-07-29</td>\n",
              "      <td>2017-07-30</td>\n",
              "      <td>14 - Unknown / Unidentified</td>\n",
              "      <td>NaN</td>\n",
              "      <td>NaN</td>\n",
              "      <td>684.3565</td>\n",
              "      <td>1 - GPS Ground</td>\n",
              "      <td>Suppression (Wildfire)</td>\n",
              "    </tr>\n",
              "  </tbody>\n",
              "</table>\n",
              "</div>\n",
              "      <button class=\"colab-df-convert\" onclick=\"convertToInteractive('df-53fb4662-d210-49cf-9e56-1a305d63dcac')\"\n",
              "              title=\"Convert this dataframe to an interactive table.\"\n",
              "              style=\"display:none;\">\n",
              "        \n",
              "  <svg xmlns=\"http://www.w3.org/2000/svg\" height=\"24px\"viewBox=\"0 0 24 24\"\n",
              "       width=\"24px\">\n",
              "    <path d=\"M0 0h24v24H0V0z\" fill=\"none\"/>\n",
              "    <path d=\"M18.56 5.44l.94 2.06.94-2.06 2.06-.94-2.06-.94-.94-2.06-.94 2.06-2.06.94zm-11 1L8.5 8.5l.94-2.06 2.06-.94-2.06-.94L8.5 2.5l-.94 2.06-2.06.94zm10 10l.94 2.06.94-2.06 2.06-.94-2.06-.94-.94-2.06-.94 2.06-2.06.94z\"/><path d=\"M17.41 7.96l-1.37-1.37c-.4-.4-.92-.59-1.43-.59-.52 0-1.04.2-1.43.59L10.3 9.45l-7.72 7.72c-.78.78-.78 2.05 0 2.83L4 21.41c.39.39.9.59 1.41.59.51 0 1.02-.2 1.41-.59l7.78-7.78 2.81-2.81c.8-.78.8-2.07 0-2.86zM5.41 20L4 18.59l7.72-7.72 1.47 1.35L5.41 20z\"/>\n",
              "  </svg>\n",
              "      </button>\n",
              "      \n",
              "  <style>\n",
              "    .colab-df-container {\n",
              "      display:flex;\n",
              "      flex-wrap:wrap;\n",
              "      gap: 12px;\n",
              "    }\n",
              "\n",
              "    .colab-df-convert {\n",
              "      background-color: #E8F0FE;\n",
              "      border: none;\n",
              "      border-radius: 50%;\n",
              "      cursor: pointer;\n",
              "      display: none;\n",
              "      fill: #1967D2;\n",
              "      height: 32px;\n",
              "      padding: 0 0 0 0;\n",
              "      width: 32px;\n",
              "    }\n",
              "\n",
              "    .colab-df-convert:hover {\n",
              "      background-color: #E2EBFA;\n",
              "      box-shadow: 0px 1px 2px rgba(60, 64, 67, 0.3), 0px 1px 3px 1px rgba(60, 64, 67, 0.15);\n",
              "      fill: #174EA6;\n",
              "    }\n",
              "\n",
              "    [theme=dark] .colab-df-convert {\n",
              "      background-color: #3B4455;\n",
              "      fill: #D2E3FC;\n",
              "    }\n",
              "\n",
              "    [theme=dark] .colab-df-convert:hover {\n",
              "      background-color: #434B5C;\n",
              "      box-shadow: 0px 1px 3px 1px rgba(0, 0, 0, 0.15);\n",
              "      filter: drop-shadow(0px 1px 2px rgba(0, 0, 0, 0.3));\n",
              "      fill: #FFFFFF;\n",
              "    }\n",
              "  </style>\n",
              "\n",
              "      <script>\n",
              "        const buttonEl =\n",
              "          document.querySelector('#df-53fb4662-d210-49cf-9e56-1a305d63dcac button.colab-df-convert');\n",
              "        buttonEl.style.display =\n",
              "          google.colab.kernel.accessAllowed ? 'block' : 'none';\n",
              "\n",
              "        async function convertToInteractive(key) {\n",
              "          const element = document.querySelector('#df-53fb4662-d210-49cf-9e56-1a305d63dcac');\n",
              "          const dataTable =\n",
              "            await google.colab.kernel.invokeFunction('convertToInteractive',\n",
              "                                                     [key], {});\n",
              "          if (!dataTable) return;\n",
              "\n",
              "          const docLinkHtml = 'Like what you see? Visit the ' +\n",
              "            '<a target=\"_blank\" href=https://colab.research.google.com/notebooks/data_table.ipynb>data table notebook</a>'\n",
              "            + ' to learn more about interactive tables.';\n",
              "          element.innerHTML = '';\n",
              "          dataTable['output_type'] = 'display_data';\n",
              "          await google.colab.output.renderOutput(dataTable, element);\n",
              "          const docLink = document.createElement('div');\n",
              "          docLink.innerHTML = docLinkHtml;\n",
              "          element.appendChild(docLink);\n",
              "        }\n",
              "      </script>\n",
              "    </div>\n",
              "  </div>\n",
              "  "
            ],
            "text/plain": [
              "   YEAR_       STATE  ...        C_METHOD               OBJECTIVE\n",
              "0   2017  California  ...  1 - GPS Ground  Suppression (Wildfire)\n",
              "1   2017  California  ...  1 - GPS Ground  Suppression (Wildfire)\n",
              "2   2017  California  ...  1 - GPS Ground  Suppression (Wildfire)\n",
              "3   2017  California  ...  1 - GPS Ground  Suppression (Wildfire)\n",
              "4   2017  California  ...  1 - GPS Ground  Suppression (Wildfire)\n",
              "\n",
              "[5 rows x 14 columns]"
            ]
          },
          "execution_count": 18,
          "metadata": {},
          "output_type": "execute_result"
        }
      ],
      "source": [
        "wildfire_data_2017 = pd.read_excel('/content/drive/MyDrive/DS-Lab/Tutorial/Tut1/Wildfire.xlsx', sheet_name='2017', na_values=['<Null>'], converters= {'ALARM_DATE': pd.to_datetime, 'CONT_DATE': pd.to_datetime})\n",
        "wildfire_data_2017.head()"
      ]
    },
    {
      "cell_type": "code",
      "execution_count": null,
      "metadata": {
        "colab": {
          "base_uri": "https://localhost:8080/"
        },
        "id": "uUQTS5x1pjSy",
        "outputId": "fb31e4eb-1c66-4d72-9154-a2f427cbd8c4"
      },
      "outputs": [
        {
          "name": "stdout",
          "output_type": "stream",
          "text": [
            "Index(['YEAR', 'STATE', 'AGENCY', 'UNIT_ID', 'FIRE_NAME', 'INC_NUM',\n",
            "       'ALARM_DATE', 'CONT_DATE', 'CAUSE', 'COMMENTS', 'REPORT_AC',\n",
            "       'GIS_ACRES', 'C_METHOD', 'OBJECTIVE'],\n",
            "      dtype='object')\n"
          ]
        }
      ],
      "source": [
        "print(wildfire_data_2016.columns)"
      ]
    },
    {
      "cell_type": "code",
      "execution_count": null,
      "metadata": {
        "colab": {
          "base_uri": "https://localhost:8080/"
        },
        "id": "B9bUnHvMq_75",
        "outputId": "4ec1cf59-1aaf-425f-819b-e12fcea91bcf"
      },
      "outputs": [
        {
          "name": "stdout",
          "output_type": "stream",
          "text": [
            "Index(['YEAR_', 'STATE', 'AGENCY', 'UNIT_ID', 'FIRE_NAME', 'INC_NUM',\n",
            "       'ALARM_DATE', 'CONT_DATE', 'CAUSE', 'COMMENTS', 'REPORT_AC',\n",
            "       'GIS_ACRES', 'C_METHOD', 'OBJECTIVE'],\n",
            "      dtype='object')\n"
          ]
        }
      ],
      "source": [
        "print(wildfire_data_2017.columns)"
      ]
    },
    {
      "cell_type": "markdown",
      "metadata": {
        "id": "5ssIT--NrNKW"
      },
      "source": [
        "Renaming the first column in df of 2017 from YEAR_ to YEAR"
      ]
    },
    {
      "cell_type": "code",
      "execution_count": null,
      "metadata": {
        "colab": {
          "base_uri": "https://localhost:8080/"
        },
        "id": "Oyz1MVBlrXcn",
        "outputId": "9b37b60a-8817-467d-8d4b-192cd585c61a"
      },
      "outputs": [
        {
          "name": "stdout",
          "output_type": "stream",
          "text": [
            "Index(['YEAR', 'STATE', 'AGENCY', 'UNIT_ID', 'FIRE_NAME', 'INC_NUM',\n",
            "       'ALARM_DATE', 'CONT_DATE', 'CAUSE', 'COMMENTS', 'REPORT_AC',\n",
            "       'GIS_ACRES', 'C_METHOD', 'OBJECTIVE'],\n",
            "      dtype='object')\n"
          ]
        }
      ],
      "source": [
        "wildfire_data_2017.rename(columns={'YEAR_': 'YEAR'}, inplace=True)\n",
        "print(wildfire_data_2017.columns)"
      ]
    },
    {
      "cell_type": "markdown",
      "metadata": {
        "id": "fS-GOIYvrdwu"
      },
      "source": [
        "Concatenating 2 dataframes"
      ]
    },
    {
      "cell_type": "code",
      "execution_count": null,
      "metadata": {
        "colab": {
          "base_uri": "https://localhost:8080/"
        },
        "id": "L0hH1qLwraCi",
        "outputId": "ac843274-8364-42e2-b5bd-da20f7f11ddd"
      },
      "outputs": [
        {
          "data": {
            "text/html": [
              "\n",
              "  <div id=\"df-e4513810-5fc0-4a95-81b7-e5d5a5f5d5ae\">\n",
              "    <div class=\"colab-df-container\">\n",
              "      <div>\n",
              "<style scoped>\n",
              "    .dataframe tbody tr th:only-of-type {\n",
              "        vertical-align: middle;\n",
              "    }\n",
              "\n",
              "    .dataframe tbody tr th {\n",
              "        vertical-align: top;\n",
              "    }\n",
              "\n",
              "    .dataframe thead th {\n",
              "        text-align: right;\n",
              "    }\n",
              "</style>\n",
              "<table border=\"1\" class=\"dataframe\">\n",
              "  <thead>\n",
              "    <tr style=\"text-align: right;\">\n",
              "      <th></th>\n",
              "      <th>YEAR</th>\n",
              "      <th>STATE</th>\n",
              "      <th>AGENCY</th>\n",
              "      <th>UNIT_ID</th>\n",
              "      <th>FIRE_NAME</th>\n",
              "      <th>INC_NUM</th>\n",
              "      <th>ALARM_DATE</th>\n",
              "      <th>CONT_DATE</th>\n",
              "      <th>CAUSE</th>\n",
              "      <th>COMMENTS</th>\n",
              "      <th>REPORT_AC</th>\n",
              "      <th>GIS_ACRES</th>\n",
              "      <th>C_METHOD</th>\n",
              "      <th>OBJECTIVE</th>\n",
              "    </tr>\n",
              "  </thead>\n",
              "  <tbody>\n",
              "    <tr>\n",
              "      <th>0</th>\n",
              "      <td>1878.0</td>\n",
              "      <td>California</td>\n",
              "      <td>Contract County</td>\n",
              "      <td>Los Angeles County</td>\n",
              "      <td></td>\n",
              "      <td>0</td>\n",
              "      <td>NaT</td>\n",
              "      <td>NaT</td>\n",
              "      <td>14 - Unknown / Unidentified</td>\n",
              "      <td>NaN</td>\n",
              "      <td>NaN</td>\n",
              "      <td>59468.8800</td>\n",
              "      <td>NaN</td>\n",
              "      <td>Suppression (Wildfire)</td>\n",
              "    </tr>\n",
              "    <tr>\n",
              "      <th>1</th>\n",
              "      <td>1895.0</td>\n",
              "      <td>California</td>\n",
              "      <td>Contract County</td>\n",
              "      <td>Los Angeles County</td>\n",
              "      <td></td>\n",
              "      <td>0</td>\n",
              "      <td>NaT</td>\n",
              "      <td>NaT</td>\n",
              "      <td>14 - Unknown / Unidentified</td>\n",
              "      <td>NaN</td>\n",
              "      <td>NaN</td>\n",
              "      <td>628.1136</td>\n",
              "      <td>NaN</td>\n",
              "      <td>Suppression (Wildfire)</td>\n",
              "    </tr>\n",
              "    <tr>\n",
              "      <th>2</th>\n",
              "      <td>1896.0</td>\n",
              "      <td>California</td>\n",
              "      <td>Contract County</td>\n",
              "      <td>Los Angeles County</td>\n",
              "      <td></td>\n",
              "      <td>0</td>\n",
              "      <td>NaT</td>\n",
              "      <td>NaT</td>\n",
              "      <td>14 - Unknown / Unidentified</td>\n",
              "      <td>NaN</td>\n",
              "      <td>NaN</td>\n",
              "      <td>7531.7170</td>\n",
              "      <td>NaN</td>\n",
              "      <td>Suppression (Wildfire)</td>\n",
              "    </tr>\n",
              "    <tr>\n",
              "      <th>3</th>\n",
              "      <td>1898.0</td>\n",
              "      <td>California</td>\n",
              "      <td>Contract County</td>\n",
              "      <td>Los Angeles County</td>\n",
              "      <td></td>\n",
              "      <td>0</td>\n",
              "      <td>NaT</td>\n",
              "      <td>NaT</td>\n",
              "      <td>14 - Unknown / Unidentified</td>\n",
              "      <td>NaN</td>\n",
              "      <td>NaN</td>\n",
              "      <td>1660.1030</td>\n",
              "      <td>NaN</td>\n",
              "      <td>Suppression (Wildfire)</td>\n",
              "    </tr>\n",
              "    <tr>\n",
              "      <th>4</th>\n",
              "      <td>1898.0</td>\n",
              "      <td>California</td>\n",
              "      <td>Contract County</td>\n",
              "      <td>Los Angeles County</td>\n",
              "      <td></td>\n",
              "      <td>0</td>\n",
              "      <td>NaT</td>\n",
              "      <td>NaT</td>\n",
              "      <td>14 - Unknown / Unidentified</td>\n",
              "      <td>NaN</td>\n",
              "      <td>NaN</td>\n",
              "      <td>428.4387</td>\n",
              "      <td>NaN</td>\n",
              "      <td>Suppression (Wildfire)</td>\n",
              "    </tr>\n",
              "  </tbody>\n",
              "</table>\n",
              "</div>\n",
              "      <button class=\"colab-df-convert\" onclick=\"convertToInteractive('df-e4513810-5fc0-4a95-81b7-e5d5a5f5d5ae')\"\n",
              "              title=\"Convert this dataframe to an interactive table.\"\n",
              "              style=\"display:none;\">\n",
              "        \n",
              "  <svg xmlns=\"http://www.w3.org/2000/svg\" height=\"24px\"viewBox=\"0 0 24 24\"\n",
              "       width=\"24px\">\n",
              "    <path d=\"M0 0h24v24H0V0z\" fill=\"none\"/>\n",
              "    <path d=\"M18.56 5.44l.94 2.06.94-2.06 2.06-.94-2.06-.94-.94-2.06-.94 2.06-2.06.94zm-11 1L8.5 8.5l.94-2.06 2.06-.94-2.06-.94L8.5 2.5l-.94 2.06-2.06.94zm10 10l.94 2.06.94-2.06 2.06-.94-2.06-.94-.94-2.06-.94 2.06-2.06.94z\"/><path d=\"M17.41 7.96l-1.37-1.37c-.4-.4-.92-.59-1.43-.59-.52 0-1.04.2-1.43.59L10.3 9.45l-7.72 7.72c-.78.78-.78 2.05 0 2.83L4 21.41c.39.39.9.59 1.41.59.51 0 1.02-.2 1.41-.59l7.78-7.78 2.81-2.81c.8-.78.8-2.07 0-2.86zM5.41 20L4 18.59l7.72-7.72 1.47 1.35L5.41 20z\"/>\n",
              "  </svg>\n",
              "      </button>\n",
              "      \n",
              "  <style>\n",
              "    .colab-df-container {\n",
              "      display:flex;\n",
              "      flex-wrap:wrap;\n",
              "      gap: 12px;\n",
              "    }\n",
              "\n",
              "    .colab-df-convert {\n",
              "      background-color: #E8F0FE;\n",
              "      border: none;\n",
              "      border-radius: 50%;\n",
              "      cursor: pointer;\n",
              "      display: none;\n",
              "      fill: #1967D2;\n",
              "      height: 32px;\n",
              "      padding: 0 0 0 0;\n",
              "      width: 32px;\n",
              "    }\n",
              "\n",
              "    .colab-df-convert:hover {\n",
              "      background-color: #E2EBFA;\n",
              "      box-shadow: 0px 1px 2px rgba(60, 64, 67, 0.3), 0px 1px 3px 1px rgba(60, 64, 67, 0.15);\n",
              "      fill: #174EA6;\n",
              "    }\n",
              "\n",
              "    [theme=dark] .colab-df-convert {\n",
              "      background-color: #3B4455;\n",
              "      fill: #D2E3FC;\n",
              "    }\n",
              "\n",
              "    [theme=dark] .colab-df-convert:hover {\n",
              "      background-color: #434B5C;\n",
              "      box-shadow: 0px 1px 3px 1px rgba(0, 0, 0, 0.15);\n",
              "      filter: drop-shadow(0px 1px 2px rgba(0, 0, 0, 0.3));\n",
              "      fill: #FFFFFF;\n",
              "    }\n",
              "  </style>\n",
              "\n",
              "      <script>\n",
              "        const buttonEl =\n",
              "          document.querySelector('#df-e4513810-5fc0-4a95-81b7-e5d5a5f5d5ae button.colab-df-convert');\n",
              "        buttonEl.style.display =\n",
              "          google.colab.kernel.accessAllowed ? 'block' : 'none';\n",
              "\n",
              "        async function convertToInteractive(key) {\n",
              "          const element = document.querySelector('#df-e4513810-5fc0-4a95-81b7-e5d5a5f5d5ae');\n",
              "          const dataTable =\n",
              "            await google.colab.kernel.invokeFunction('convertToInteractive',\n",
              "                                                     [key], {});\n",
              "          if (!dataTable) return;\n",
              "\n",
              "          const docLinkHtml = 'Like what you see? Visit the ' +\n",
              "            '<a target=\"_blank\" href=https://colab.research.google.com/notebooks/data_table.ipynb>data table notebook</a>'\n",
              "            + ' to learn more about interactive tables.';\n",
              "          element.innerHTML = '';\n",
              "          dataTable['output_type'] = 'display_data';\n",
              "          await google.colab.output.renderOutput(dataTable, element);\n",
              "          const docLink = document.createElement('div');\n",
              "          docLink.innerHTML = docLinkHtml;\n",
              "          element.appendChild(docLink);\n",
              "        }\n",
              "      </script>\n",
              "    </div>\n",
              "  </div>\n",
              "  "
            ],
            "text/plain": [
              "     YEAR       STATE  ... C_METHOD               OBJECTIVE\n",
              "0  1878.0  California  ...      NaN  Suppression (Wildfire)\n",
              "1  1895.0  California  ...      NaN  Suppression (Wildfire)\n",
              "2  1896.0  California  ...      NaN  Suppression (Wildfire)\n",
              "3  1898.0  California  ...      NaN  Suppression (Wildfire)\n",
              "4  1898.0  California  ...      NaN  Suppression (Wildfire)\n",
              "\n",
              "[5 rows x 14 columns]"
            ]
          },
          "execution_count": 24,
          "metadata": {},
          "output_type": "execute_result"
        }
      ],
      "source": [
        "wildfire_data = pd.concat((wildfire_data_2016, wildfire_data_2017), axis=0)\n",
        "wildfire_data.head()"
      ]
    },
    {
      "cell_type": "markdown",
      "metadata": {
        "id": "fzo4epdD1oSH"
      },
      "source": [
        "Addign new column duration that represents the duration between Alarm Date and Contentment Date"
      ]
    },
    {
      "cell_type": "code",
      "execution_count": null,
      "metadata": {
        "colab": {
          "base_uri": "https://localhost:8080/"
        },
        "id": "6zQSYfz82A-k",
        "outputId": "d983b277-5bca-41e1-c66c-3a5ef9ca4adc"
      },
      "outputs": [
        {
          "data": {
            "text/html": [
              "\n",
              "  <div id=\"df-2044ed24-3778-4ee2-9a17-3bff9c613a05\">\n",
              "    <div class=\"colab-df-container\">\n",
              "      <div>\n",
              "<style scoped>\n",
              "    .dataframe tbody tr th:only-of-type {\n",
              "        vertical-align: middle;\n",
              "    }\n",
              "\n",
              "    .dataframe tbody tr th {\n",
              "        vertical-align: top;\n",
              "    }\n",
              "\n",
              "    .dataframe thead th {\n",
              "        text-align: right;\n",
              "    }\n",
              "</style>\n",
              "<table border=\"1\" class=\"dataframe\">\n",
              "  <thead>\n",
              "    <tr style=\"text-align: right;\">\n",
              "      <th></th>\n",
              "      <th>YEAR</th>\n",
              "      <th>STATE</th>\n",
              "      <th>AGENCY</th>\n",
              "      <th>UNIT_ID</th>\n",
              "      <th>FIRE_NAME</th>\n",
              "      <th>INC_NUM</th>\n",
              "      <th>ALARM_DATE</th>\n",
              "      <th>CONT_DATE</th>\n",
              "      <th>CAUSE</th>\n",
              "      <th>COMMENTS</th>\n",
              "      <th>REPORT_AC</th>\n",
              "      <th>GIS_ACRES</th>\n",
              "      <th>C_METHOD</th>\n",
              "      <th>OBJECTIVE</th>\n",
              "      <th>DURATION</th>\n",
              "    </tr>\n",
              "  </thead>\n",
              "  <tbody>\n",
              "    <tr>\n",
              "      <th>0</th>\n",
              "      <td>1878.0</td>\n",
              "      <td>California</td>\n",
              "      <td>Contract County</td>\n",
              "      <td>Los Angeles County</td>\n",
              "      <td></td>\n",
              "      <td>0</td>\n",
              "      <td>NaT</td>\n",
              "      <td>NaT</td>\n",
              "      <td>14 - Unknown / Unidentified</td>\n",
              "      <td>NaN</td>\n",
              "      <td>NaN</td>\n",
              "      <td>59468.8800</td>\n",
              "      <td>NaN</td>\n",
              "      <td>Suppression (Wildfire)</td>\n",
              "      <td>NaN</td>\n",
              "    </tr>\n",
              "    <tr>\n",
              "      <th>1</th>\n",
              "      <td>1895.0</td>\n",
              "      <td>California</td>\n",
              "      <td>Contract County</td>\n",
              "      <td>Los Angeles County</td>\n",
              "      <td></td>\n",
              "      <td>0</td>\n",
              "      <td>NaT</td>\n",
              "      <td>NaT</td>\n",
              "      <td>14 - Unknown / Unidentified</td>\n",
              "      <td>NaN</td>\n",
              "      <td>NaN</td>\n",
              "      <td>628.1136</td>\n",
              "      <td>NaN</td>\n",
              "      <td>Suppression (Wildfire)</td>\n",
              "      <td>NaN</td>\n",
              "    </tr>\n",
              "    <tr>\n",
              "      <th>2</th>\n",
              "      <td>1896.0</td>\n",
              "      <td>California</td>\n",
              "      <td>Contract County</td>\n",
              "      <td>Los Angeles County</td>\n",
              "      <td></td>\n",
              "      <td>0</td>\n",
              "      <td>NaT</td>\n",
              "      <td>NaT</td>\n",
              "      <td>14 - Unknown / Unidentified</td>\n",
              "      <td>NaN</td>\n",
              "      <td>NaN</td>\n",
              "      <td>7531.7170</td>\n",
              "      <td>NaN</td>\n",
              "      <td>Suppression (Wildfire)</td>\n",
              "      <td>NaN</td>\n",
              "    </tr>\n",
              "    <tr>\n",
              "      <th>3</th>\n",
              "      <td>1898.0</td>\n",
              "      <td>California</td>\n",
              "      <td>Contract County</td>\n",
              "      <td>Los Angeles County</td>\n",
              "      <td></td>\n",
              "      <td>0</td>\n",
              "      <td>NaT</td>\n",
              "      <td>NaT</td>\n",
              "      <td>14 - Unknown / Unidentified</td>\n",
              "      <td>NaN</td>\n",
              "      <td>NaN</td>\n",
              "      <td>1660.1030</td>\n",
              "      <td>NaN</td>\n",
              "      <td>Suppression (Wildfire)</td>\n",
              "      <td>NaN</td>\n",
              "    </tr>\n",
              "    <tr>\n",
              "      <th>4</th>\n",
              "      <td>1898.0</td>\n",
              "      <td>California</td>\n",
              "      <td>Contract County</td>\n",
              "      <td>Los Angeles County</td>\n",
              "      <td></td>\n",
              "      <td>0</td>\n",
              "      <td>NaT</td>\n",
              "      <td>NaT</td>\n",
              "      <td>14 - Unknown / Unidentified</td>\n",
              "      <td>NaN</td>\n",
              "      <td>NaN</td>\n",
              "      <td>428.4387</td>\n",
              "      <td>NaN</td>\n",
              "      <td>Suppression (Wildfire)</td>\n",
              "      <td>NaN</td>\n",
              "    </tr>\n",
              "  </tbody>\n",
              "</table>\n",
              "</div>\n",
              "      <button class=\"colab-df-convert\" onclick=\"convertToInteractive('df-2044ed24-3778-4ee2-9a17-3bff9c613a05')\"\n",
              "              title=\"Convert this dataframe to an interactive table.\"\n",
              "              style=\"display:none;\">\n",
              "        \n",
              "  <svg xmlns=\"http://www.w3.org/2000/svg\" height=\"24px\"viewBox=\"0 0 24 24\"\n",
              "       width=\"24px\">\n",
              "    <path d=\"M0 0h24v24H0V0z\" fill=\"none\"/>\n",
              "    <path d=\"M18.56 5.44l.94 2.06.94-2.06 2.06-.94-2.06-.94-.94-2.06-.94 2.06-2.06.94zm-11 1L8.5 8.5l.94-2.06 2.06-.94-2.06-.94L8.5 2.5l-.94 2.06-2.06.94zm10 10l.94 2.06.94-2.06 2.06-.94-2.06-.94-.94-2.06-.94 2.06-2.06.94z\"/><path d=\"M17.41 7.96l-1.37-1.37c-.4-.4-.92-.59-1.43-.59-.52 0-1.04.2-1.43.59L10.3 9.45l-7.72 7.72c-.78.78-.78 2.05 0 2.83L4 21.41c.39.39.9.59 1.41.59.51 0 1.02-.2 1.41-.59l7.78-7.78 2.81-2.81c.8-.78.8-2.07 0-2.86zM5.41 20L4 18.59l7.72-7.72 1.47 1.35L5.41 20z\"/>\n",
              "  </svg>\n",
              "      </button>\n",
              "      \n",
              "  <style>\n",
              "    .colab-df-container {\n",
              "      display:flex;\n",
              "      flex-wrap:wrap;\n",
              "      gap: 12px;\n",
              "    }\n",
              "\n",
              "    .colab-df-convert {\n",
              "      background-color: #E8F0FE;\n",
              "      border: none;\n",
              "      border-radius: 50%;\n",
              "      cursor: pointer;\n",
              "      display: none;\n",
              "      fill: #1967D2;\n",
              "      height: 32px;\n",
              "      padding: 0 0 0 0;\n",
              "      width: 32px;\n",
              "    }\n",
              "\n",
              "    .colab-df-convert:hover {\n",
              "      background-color: #E2EBFA;\n",
              "      box-shadow: 0px 1px 2px rgba(60, 64, 67, 0.3), 0px 1px 3px 1px rgba(60, 64, 67, 0.15);\n",
              "      fill: #174EA6;\n",
              "    }\n",
              "\n",
              "    [theme=dark] .colab-df-convert {\n",
              "      background-color: #3B4455;\n",
              "      fill: #D2E3FC;\n",
              "    }\n",
              "\n",
              "    [theme=dark] .colab-df-convert:hover {\n",
              "      background-color: #434B5C;\n",
              "      box-shadow: 0px 1px 3px 1px rgba(0, 0, 0, 0.15);\n",
              "      filter: drop-shadow(0px 1px 2px rgba(0, 0, 0, 0.3));\n",
              "      fill: #FFFFFF;\n",
              "    }\n",
              "  </style>\n",
              "\n",
              "      <script>\n",
              "        const buttonEl =\n",
              "          document.querySelector('#df-2044ed24-3778-4ee2-9a17-3bff9c613a05 button.colab-df-convert');\n",
              "        buttonEl.style.display =\n",
              "          google.colab.kernel.accessAllowed ? 'block' : 'none';\n",
              "\n",
              "        async function convertToInteractive(key) {\n",
              "          const element = document.querySelector('#df-2044ed24-3778-4ee2-9a17-3bff9c613a05');\n",
              "          const dataTable =\n",
              "            await google.colab.kernel.invokeFunction('convertToInteractive',\n",
              "                                                     [key], {});\n",
              "          if (!dataTable) return;\n",
              "\n",
              "          const docLinkHtml = 'Like what you see? Visit the ' +\n",
              "            '<a target=\"_blank\" href=https://colab.research.google.com/notebooks/data_table.ipynb>data table notebook</a>'\n",
              "            + ' to learn more about interactive tables.';\n",
              "          element.innerHTML = '';\n",
              "          dataTable['output_type'] = 'display_data';\n",
              "          await google.colab.output.renderOutput(dataTable, element);\n",
              "          const docLink = document.createElement('div');\n",
              "          docLink.innerHTML = docLinkHtml;\n",
              "          element.appendChild(docLink);\n",
              "        }\n",
              "      </script>\n",
              "    </div>\n",
              "  </div>\n",
              "  "
            ],
            "text/plain": [
              "     YEAR       STATE  ...               OBJECTIVE DURATION\n",
              "0  1878.0  California  ...  Suppression (Wildfire)      NaN\n",
              "1  1895.0  California  ...  Suppression (Wildfire)      NaN\n",
              "2  1896.0  California  ...  Suppression (Wildfire)      NaN\n",
              "3  1898.0  California  ...  Suppression (Wildfire)      NaN\n",
              "4  1898.0  California  ...  Suppression (Wildfire)      NaN\n",
              "\n",
              "[5 rows x 15 columns]"
            ]
          },
          "execution_count": 28,
          "metadata": {},
          "output_type": "execute_result"
        }
      ],
      "source": [
        "wildfire_data['DURATION'] = (wildfire_data['CONT_DATE'] - wildfire_data['ALARM_DATE']).dt.days\n",
        "wildfire_data.head()"
      ]
    },
    {
      "cell_type": "markdown",
      "metadata": {
        "id": "km61KrTC2TcQ"
      },
      "source": [
        "The minimum value of duration is -32862.000 days even though the contentment date should be later than the alarm date."
      ]
    },
    {
      "cell_type": "code",
      "execution_count": null,
      "metadata": {
        "colab": {
          "base_uri": "https://localhost:8080/"
        },
        "id": "ZpRzhHws2RtA",
        "outputId": "672b082a-0591-4034-c97e-d0debf95543b"
      },
      "outputs": [
        {
          "data": {
            "text/html": [
              "\n",
              "  <div id=\"df-1febd06e-11a8-4e89-a5b9-e483adfa6659\">\n",
              "    <div class=\"colab-df-container\">\n",
              "      <div>\n",
              "<style scoped>\n",
              "    .dataframe tbody tr th:only-of-type {\n",
              "        vertical-align: middle;\n",
              "    }\n",
              "\n",
              "    .dataframe tbody tr th {\n",
              "        vertical-align: top;\n",
              "    }\n",
              "\n",
              "    .dataframe thead th {\n",
              "        text-align: right;\n",
              "    }\n",
              "</style>\n",
              "<table border=\"1\" class=\"dataframe\">\n",
              "  <thead>\n",
              "    <tr style=\"text-align: right;\">\n",
              "      <th></th>\n",
              "      <th>YEAR</th>\n",
              "      <th>STATE</th>\n",
              "      <th>AGENCY</th>\n",
              "      <th>UNIT_ID</th>\n",
              "      <th>FIRE_NAME</th>\n",
              "      <th>INC_NUM</th>\n",
              "      <th>ALARM_DATE</th>\n",
              "      <th>CONT_DATE</th>\n",
              "      <th>CAUSE</th>\n",
              "      <th>COMMENTS</th>\n",
              "      <th>REPORT_AC</th>\n",
              "      <th>GIS_ACRES</th>\n",
              "      <th>C_METHOD</th>\n",
              "      <th>OBJECTIVE</th>\n",
              "      <th>DURATION</th>\n",
              "    </tr>\n",
              "  </thead>\n",
              "  <tbody>\n",
              "    <tr>\n",
              "      <th>6728</th>\n",
              "      <td>1978.0</td>\n",
              "      <td>California</td>\n",
              "      <td>USDA Forest Service</td>\n",
              "      <td>Stanislaus National Forest</td>\n",
              "      <td>KIBBIE</td>\n",
              "      <td>NaN</td>\n",
              "      <td>1979-08-08</td>\n",
              "      <td>1978-11-10</td>\n",
              "      <td>1 - Lightning</td>\n",
              "      <td>20090305</td>\n",
              "      <td>192.000000</td>\n",
              "      <td>227.8784</td>\n",
              "      <td>6 - Hand Drawn</td>\n",
              "      <td>Suppression (Wildfire)</td>\n",
              "      <td>-271.0</td>\n",
              "    </tr>\n",
              "    <tr>\n",
              "      <th>8159</th>\n",
              "      <td>1987.0</td>\n",
              "      <td>California</td>\n",
              "      <td>National Park Service</td>\n",
              "      <td>Sequoia - Kings Canyon NP</td>\n",
              "      <td>COFFEE</td>\n",
              "      <td>0</td>\n",
              "      <td>1987-09-29</td>\n",
              "      <td>1987-09-10</td>\n",
              "      <td>1 - Lightning</td>\n",
              "      <td>NaN</td>\n",
              "      <td>240.000000</td>\n",
              "      <td>196.1928</td>\n",
              "      <td>8 - Unknown</td>\n",
              "      <td>Suppression (Wildfire)</td>\n",
              "      <td>-19.0</td>\n",
              "    </tr>\n",
              "    <tr>\n",
              "      <th>9138</th>\n",
              "      <td>1996.0</td>\n",
              "      <td>California</td>\n",
              "      <td>California Department of Forestry and Fire Pro...</td>\n",
              "      <td>Nevada - Yuba - Placer CAL FIRE</td>\n",
              "      <td>COLUMBIA HILL</td>\n",
              "      <td>0</td>\n",
              "      <td>1996-10-21</td>\n",
              "      <td>1996-10-20</td>\n",
              "      <td>5 - Debris</td>\n",
              "      <td>NaN</td>\n",
              "      <td>NaN</td>\n",
              "      <td>1517.4430</td>\n",
              "      <td>NaN</td>\n",
              "      <td>Suppression (Wildfire)</td>\n",
              "      <td>-1.0</td>\n",
              "    </tr>\n",
              "    <tr>\n",
              "      <th>10375</th>\n",
              "      <td>2005.0</td>\n",
              "      <td>California</td>\n",
              "      <td>Contract County</td>\n",
              "      <td>Los Angeles County</td>\n",
              "      <td>SIERRA</td>\n",
              "      <td>149034</td>\n",
              "      <td>2005-07-13</td>\n",
              "      <td>2005-04-14</td>\n",
              "      <td>8 - Playing with fire</td>\n",
              "      <td>NaN</td>\n",
              "      <td>364.000000</td>\n",
              "      <td>364.3786</td>\n",
              "      <td>8 - Unknown</td>\n",
              "      <td>Suppression (Wildfire)</td>\n",
              "      <td>-90.0</td>\n",
              "    </tr>\n",
              "    <tr>\n",
              "      <th>10618</th>\n",
              "      <td>2007.0</td>\n",
              "      <td>California</td>\n",
              "      <td>Bureau of Land Management</td>\n",
              "      <td>Bakersfield District - BLM  (old)</td>\n",
              "      <td>BROWN</td>\n",
              "      <td>1504</td>\n",
              "      <td>2007-07-20</td>\n",
              "      <td>2007-06-23</td>\n",
              "      <td>9 - Miscellaneous</td>\n",
              "      <td></td>\n",
              "      <td>84.700000</td>\n",
              "      <td>1430.3170</td>\n",
              "      <td>1 - GPS Ground</td>\n",
              "      <td>Suppression (Wildfire)</td>\n",
              "      <td>-27.0</td>\n",
              "    </tr>\n",
              "    <tr>\n",
              "      <th>11511</th>\n",
              "      <td>2014.0</td>\n",
              "      <td>California</td>\n",
              "      <td>National Park Service</td>\n",
              "      <td>Yosemite National Park</td>\n",
              "      <td>DARK HOLE</td>\n",
              "      <td>57</td>\n",
              "      <td>2015-07-16</td>\n",
              "      <td>2014-09-27</td>\n",
              "      <td>1 - Lightning</td>\n",
              "      <td>Managed Lightning Ignited</td>\n",
              "      <td>1076.479248</td>\n",
              "      <td>1076.4790</td>\n",
              "      <td>1 - GPS Ground</td>\n",
              "      <td>NaN</td>\n",
              "      <td>-292.0</td>\n",
              "    </tr>\n",
              "    <tr>\n",
              "      <th>11559</th>\n",
              "      <td>2015.0</td>\n",
              "      <td>California</td>\n",
              "      <td>USDA Forest Service</td>\n",
              "      <td>Humbolt-Toiyabe National Forest</td>\n",
              "      <td>WASHINGTON</td>\n",
              "      <td>30251</td>\n",
              "      <td>2015-07-19</td>\n",
              "      <td>2015-01-01</td>\n",
              "      <td>1 - Lightning</td>\n",
              "      <td></td>\n",
              "      <td>NaN</td>\n",
              "      <td>17779.5400</td>\n",
              "      <td>3 - Infrared</td>\n",
              "      <td>Suppression (Wildfire)</td>\n",
              "      <td>-199.0</td>\n",
              "    </tr>\n",
              "    <tr>\n",
              "      <th>11639</th>\n",
              "      <td>2016.0</td>\n",
              "      <td>California</td>\n",
              "      <td>California Department of Forestry and Fire Pro...</td>\n",
              "      <td>Tuolumne - Calaveras CAL FIRE</td>\n",
              "      <td>MARSHES</td>\n",
              "      <td>10403</td>\n",
              "      <td>2106-09-26</td>\n",
              "      <td>2016-10-05</td>\n",
              "      <td>10 - Vehicle</td>\n",
              "      <td>NaN</td>\n",
              "      <td>1080.000000</td>\n",
              "      <td>930.5065</td>\n",
              "      <td>3 - Infrared</td>\n",
              "      <td>Suppression (Wildfire)</td>\n",
              "      <td>-32862.0</td>\n",
              "    </tr>\n",
              "    <tr>\n",
              "      <th>126</th>\n",
              "      <td>2017.0</td>\n",
              "      <td>California</td>\n",
              "      <td>USDA Forest Service</td>\n",
              "      <td>Plumas National Forest</td>\n",
              "      <td>SQUIRREL</td>\n",
              "      <td>1273</td>\n",
              "      <td>2017-09-27</td>\n",
              "      <td>2017-08-29</td>\n",
              "      <td>7 - Arson</td>\n",
              "      <td>NaN</td>\n",
              "      <td>350.000000</td>\n",
              "      <td>113.0544</td>\n",
              "      <td>6 - Hand Drawn</td>\n",
              "      <td>Suppression (Wildfire)</td>\n",
              "      <td>-29.0</td>\n",
              "    </tr>\n",
              "  </tbody>\n",
              "</table>\n",
              "</div>\n",
              "      <button class=\"colab-df-convert\" onclick=\"convertToInteractive('df-1febd06e-11a8-4e89-a5b9-e483adfa6659')\"\n",
              "              title=\"Convert this dataframe to an interactive table.\"\n",
              "              style=\"display:none;\">\n",
              "        \n",
              "  <svg xmlns=\"http://www.w3.org/2000/svg\" height=\"24px\"viewBox=\"0 0 24 24\"\n",
              "       width=\"24px\">\n",
              "    <path d=\"M0 0h24v24H0V0z\" fill=\"none\"/>\n",
              "    <path d=\"M18.56 5.44l.94 2.06.94-2.06 2.06-.94-2.06-.94-.94-2.06-.94 2.06-2.06.94zm-11 1L8.5 8.5l.94-2.06 2.06-.94-2.06-.94L8.5 2.5l-.94 2.06-2.06.94zm10 10l.94 2.06.94-2.06 2.06-.94-2.06-.94-.94-2.06-.94 2.06-2.06.94z\"/><path d=\"M17.41 7.96l-1.37-1.37c-.4-.4-.92-.59-1.43-.59-.52 0-1.04.2-1.43.59L10.3 9.45l-7.72 7.72c-.78.78-.78 2.05 0 2.83L4 21.41c.39.39.9.59 1.41.59.51 0 1.02-.2 1.41-.59l7.78-7.78 2.81-2.81c.8-.78.8-2.07 0-2.86zM5.41 20L4 18.59l7.72-7.72 1.47 1.35L5.41 20z\"/>\n",
              "  </svg>\n",
              "      </button>\n",
              "      \n",
              "  <style>\n",
              "    .colab-df-container {\n",
              "      display:flex;\n",
              "      flex-wrap:wrap;\n",
              "      gap: 12px;\n",
              "    }\n",
              "\n",
              "    .colab-df-convert {\n",
              "      background-color: #E8F0FE;\n",
              "      border: none;\n",
              "      border-radius: 50%;\n",
              "      cursor: pointer;\n",
              "      display: none;\n",
              "      fill: #1967D2;\n",
              "      height: 32px;\n",
              "      padding: 0 0 0 0;\n",
              "      width: 32px;\n",
              "    }\n",
              "\n",
              "    .colab-df-convert:hover {\n",
              "      background-color: #E2EBFA;\n",
              "      box-shadow: 0px 1px 2px rgba(60, 64, 67, 0.3), 0px 1px 3px 1px rgba(60, 64, 67, 0.15);\n",
              "      fill: #174EA6;\n",
              "    }\n",
              "\n",
              "    [theme=dark] .colab-df-convert {\n",
              "      background-color: #3B4455;\n",
              "      fill: #D2E3FC;\n",
              "    }\n",
              "\n",
              "    [theme=dark] .colab-df-convert:hover {\n",
              "      background-color: #434B5C;\n",
              "      box-shadow: 0px 1px 3px 1px rgba(0, 0, 0, 0.15);\n",
              "      filter: drop-shadow(0px 1px 2px rgba(0, 0, 0, 0.3));\n",
              "      fill: #FFFFFF;\n",
              "    }\n",
              "  </style>\n",
              "\n",
              "      <script>\n",
              "        const buttonEl =\n",
              "          document.querySelector('#df-1febd06e-11a8-4e89-a5b9-e483adfa6659 button.colab-df-convert');\n",
              "        buttonEl.style.display =\n",
              "          google.colab.kernel.accessAllowed ? 'block' : 'none';\n",
              "\n",
              "        async function convertToInteractive(key) {\n",
              "          const element = document.querySelector('#df-1febd06e-11a8-4e89-a5b9-e483adfa6659');\n",
              "          const dataTable =\n",
              "            await google.colab.kernel.invokeFunction('convertToInteractive',\n",
              "                                                     [key], {});\n",
              "          if (!dataTable) return;\n",
              "\n",
              "          const docLinkHtml = 'Like what you see? Visit the ' +\n",
              "            '<a target=\"_blank\" href=https://colab.research.google.com/notebooks/data_table.ipynb>data table notebook</a>'\n",
              "            + ' to learn more about interactive tables.';\n",
              "          element.innerHTML = '';\n",
              "          dataTable['output_type'] = 'display_data';\n",
              "          await google.colab.output.renderOutput(dataTable, element);\n",
              "          const docLink = document.createElement('div');\n",
              "          docLink.innerHTML = docLinkHtml;\n",
              "          element.appendChild(docLink);\n",
              "        }\n",
              "      </script>\n",
              "    </div>\n",
              "  </div>\n",
              "  "
            ],
            "text/plain": [
              "         YEAR       STATE  ...               OBJECTIVE DURATION\n",
              "6728   1978.0  California  ...  Suppression (Wildfire)   -271.0\n",
              "8159   1987.0  California  ...  Suppression (Wildfire)    -19.0\n",
              "9138   1996.0  California  ...  Suppression (Wildfire)     -1.0\n",
              "10375  2005.0  California  ...  Suppression (Wildfire)    -90.0\n",
              "10618  2007.0  California  ...  Suppression (Wildfire)    -27.0\n",
              "11511  2014.0  California  ...                     NaN   -292.0\n",
              "11559  2015.0  California  ...  Suppression (Wildfire)   -199.0\n",
              "11639  2016.0  California  ...  Suppression (Wildfire) -32862.0\n",
              "126    2017.0  California  ...  Suppression (Wildfire)    -29.0\n",
              "\n",
              "[9 rows x 15 columns]"
            ]
          },
          "execution_count": 31,
          "metadata": {},
          "output_type": "execute_result"
        }
      ],
      "source": [
        "wildfire_data[wildfire_data.DURATION < 0]"
      ]
    },
    {
      "cell_type": "markdown",
      "metadata": {
        "id": "9Sxmzi8h2xU1"
      },
      "source": [
        "Removing entries with duration less than 0 days and greater than 3000 days as both situations do not make sense"
      ]
    },
    {
      "cell_type": "code",
      "execution_count": null,
      "metadata": {
        "colab": {
          "base_uri": "https://localhost:8080/"
        },
        "id": "b78nTOMv3HmU",
        "outputId": "d71171ad-ec32-4d78-ea00-7652dca93ef2"
      },
      "outputs": [
        {
          "data": {
            "text/html": [
              "\n",
              "  <div id=\"df-c2ef9812-ef16-44f6-8034-543536988b3b\">\n",
              "    <div class=\"colab-df-container\">\n",
              "      <div>\n",
              "<style scoped>\n",
              "    .dataframe tbody tr th:only-of-type {\n",
              "        vertical-align: middle;\n",
              "    }\n",
              "\n",
              "    .dataframe tbody tr th {\n",
              "        vertical-align: top;\n",
              "    }\n",
              "\n",
              "    .dataframe thead th {\n",
              "        text-align: right;\n",
              "    }\n",
              "</style>\n",
              "<table border=\"1\" class=\"dataframe\">\n",
              "  <thead>\n",
              "    <tr style=\"text-align: right;\">\n",
              "      <th></th>\n",
              "      <th>YEAR</th>\n",
              "      <th>STATE</th>\n",
              "      <th>AGENCY</th>\n",
              "      <th>UNIT_ID</th>\n",
              "      <th>FIRE_NAME</th>\n",
              "      <th>INC_NUM</th>\n",
              "      <th>ALARM_DATE</th>\n",
              "      <th>CONT_DATE</th>\n",
              "      <th>CAUSE</th>\n",
              "      <th>COMMENTS</th>\n",
              "      <th>REPORT_AC</th>\n",
              "      <th>GIS_ACRES</th>\n",
              "      <th>C_METHOD</th>\n",
              "      <th>OBJECTIVE</th>\n",
              "      <th>DURATION</th>\n",
              "    </tr>\n",
              "  </thead>\n",
              "  <tbody>\n",
              "    <tr>\n",
              "      <th>1214</th>\n",
              "      <td>1921.0</td>\n",
              "      <td>California</td>\n",
              "      <td>USDA Forest Service</td>\n",
              "      <td>Eldorado National Forest</td>\n",
              "      <td>PENNSYLVANIA</td>\n",
              "      <td>0</td>\n",
              "      <td>1921-10-04</td>\n",
              "      <td>1921-10-04</td>\n",
              "      <td>9 - Miscellaneous</td>\n",
              "      <td>Containment 'fire_day' estimated</td>\n",
              "      <td>NaN</td>\n",
              "      <td>273.4315</td>\n",
              "      <td>NaN</td>\n",
              "      <td>Suppression (Wildfire)</td>\n",
              "      <td>0.0</td>\n",
              "    </tr>\n",
              "    <tr>\n",
              "      <th>1251</th>\n",
              "      <td>1921.0</td>\n",
              "      <td>California</td>\n",
              "      <td>National Park Service</td>\n",
              "      <td>Sequoia - Kings Canyon NP</td>\n",
              "      <td>ELK CREEK</td>\n",
              "      <td>0</td>\n",
              "      <td>1921-07-05</td>\n",
              "      <td>1921-07-17</td>\n",
              "      <td>4 - Campfire</td>\n",
              "      <td>NaN</td>\n",
              "      <td>1600.0</td>\n",
              "      <td>1551.4670</td>\n",
              "      <td>8 - Unknown</td>\n",
              "      <td>Suppression (Wildfire)</td>\n",
              "      <td>12.0</td>\n",
              "    </tr>\n",
              "    <tr>\n",
              "      <th>1340</th>\n",
              "      <td>1922.0</td>\n",
              "      <td>California</td>\n",
              "      <td>National Park Service</td>\n",
              "      <td>Sequoia - Kings Canyon NP</td>\n",
              "      <td>PANTHER</td>\n",
              "      <td>0</td>\n",
              "      <td>1922-09-19</td>\n",
              "      <td>1922-09-23</td>\n",
              "      <td>1 - Lightning</td>\n",
              "      <td>NaN</td>\n",
              "      <td>350.0</td>\n",
              "      <td>535.8748</td>\n",
              "      <td>8 - Unknown</td>\n",
              "      <td>Suppression (Wildfire)</td>\n",
              "      <td>4.0</td>\n",
              "    </tr>\n",
              "    <tr>\n",
              "      <th>1341</th>\n",
              "      <td>1922.0</td>\n",
              "      <td>California</td>\n",
              "      <td>National Park Service</td>\n",
              "      <td>Sequoia - Kings Canyon NP</td>\n",
              "      <td>HOSPITAL</td>\n",
              "      <td>0</td>\n",
              "      <td>1922-08-13</td>\n",
              "      <td>1922-08-17</td>\n",
              "      <td>4 - Campfire</td>\n",
              "      <td>NaN</td>\n",
              "      <td>550.0</td>\n",
              "      <td>667.1011</td>\n",
              "      <td>8 - Unknown</td>\n",
              "      <td>Suppression (Wildfire)</td>\n",
              "      <td>4.0</td>\n",
              "    </tr>\n",
              "    <tr>\n",
              "      <th>1342</th>\n",
              "      <td>1922.0</td>\n",
              "      <td>California</td>\n",
              "      <td>National Park Service</td>\n",
              "      <td>Sequoia - Kings Canyon NP</td>\n",
              "      <td>E.FORK</td>\n",
              "      <td>0</td>\n",
              "      <td>1922-07-04</td>\n",
              "      <td>1922-07-06</td>\n",
              "      <td>4 - Campfire</td>\n",
              "      <td>NaN</td>\n",
              "      <td>300.0</td>\n",
              "      <td>449.5453</td>\n",
              "      <td>8 - Unknown</td>\n",
              "      <td>Suppression (Wildfire)</td>\n",
              "      <td>2.0</td>\n",
              "    </tr>\n",
              "    <tr>\n",
              "      <th>...</th>\n",
              "      <td>...</td>\n",
              "      <td>...</td>\n",
              "      <td>...</td>\n",
              "      <td>...</td>\n",
              "      <td>...</td>\n",
              "      <td>...</td>\n",
              "      <td>...</td>\n",
              "      <td>...</td>\n",
              "      <td>...</td>\n",
              "      <td>...</td>\n",
              "      <td>...</td>\n",
              "      <td>...</td>\n",
              "      <td>...</td>\n",
              "      <td>...</td>\n",
              "      <td>...</td>\n",
              "    </tr>\n",
              "    <tr>\n",
              "      <th>177</th>\n",
              "      <td>2017.0</td>\n",
              "      <td>California</td>\n",
              "      <td>National Park Service</td>\n",
              "      <td>Yosemite National Park</td>\n",
              "      <td>SOUTH FORK</td>\n",
              "      <td>108</td>\n",
              "      <td>2017-08-13</td>\n",
              "      <td>2017-11-03</td>\n",
              "      <td>1 - Lightning</td>\n",
              "      <td>no new growth past 10/11</td>\n",
              "      <td>7000.0</td>\n",
              "      <td>7560.0770</td>\n",
              "      <td>8 - Unknown</td>\n",
              "      <td>Suppression (Wildfire)</td>\n",
              "      <td>82.0</td>\n",
              "    </tr>\n",
              "    <tr>\n",
              "      <th>178</th>\n",
              "      <td>2017.0</td>\n",
              "      <td>California</td>\n",
              "      <td>California Department of Forestry and Fire Pro...</td>\n",
              "      <td>Sonoma - Lake - Napa CAL FIRE</td>\n",
              "      <td>REDWOOD VALLEY</td>\n",
              "      <td>12172</td>\n",
              "      <td>2017-10-08</td>\n",
              "      <td>2017-10-25</td>\n",
              "      <td>14 - Unknown / Unidentified</td>\n",
              "      <td>Mendocino Lake Complex</td>\n",
              "      <td>NaN</td>\n",
              "      <td>36522.9500</td>\n",
              "      <td>8 - Unknown</td>\n",
              "      <td>Suppression (Wildfire)</td>\n",
              "      <td>17.0</td>\n",
              "    </tr>\n",
              "    <tr>\n",
              "      <th>179</th>\n",
              "      <td>2017.0</td>\n",
              "      <td>California</td>\n",
              "      <td>USDA Forest Service</td>\n",
              "      <td>Rouge River- Siskiyou</td>\n",
              "      <td>ABNEY</td>\n",
              "      <td>568</td>\n",
              "      <td>2017-08-10</td>\n",
              "      <td>2018-01-10</td>\n",
              "      <td>1 - Lightning</td>\n",
              "      <td>Miller Complex, cause from Incinet, Cont Date ...</td>\n",
              "      <td>NaN</td>\n",
              "      <td>32893.2600</td>\n",
              "      <td>8 - Unknown</td>\n",
              "      <td>Suppression (Wildfire)</td>\n",
              "      <td>153.0</td>\n",
              "    </tr>\n",
              "    <tr>\n",
              "      <th>180</th>\n",
              "      <td>2017.0</td>\n",
              "      <td>California</td>\n",
              "      <td>USDA Forest Service</td>\n",
              "      <td>Rouge River- Siskiyou</td>\n",
              "      <td>KNOX</td>\n",
              "      <td>612</td>\n",
              "      <td>2017-08-11</td>\n",
              "      <td>2017-11-28</td>\n",
              "      <td>1 - Lightning</td>\n",
              "      <td>Miller Complex, cause from Incinet, Cont Date ...</td>\n",
              "      <td>NaN</td>\n",
              "      <td>492.5997</td>\n",
              "      <td>8 - Unknown</td>\n",
              "      <td>Suppression (Wildfire)</td>\n",
              "      <td>109.0</td>\n",
              "    </tr>\n",
              "    <tr>\n",
              "      <th>181</th>\n",
              "      <td>2017.0</td>\n",
              "      <td>California</td>\n",
              "      <td>Department of Defense</td>\n",
              "      <td>Camp Pendleton Marine Corps Base</td>\n",
              "      <td>CRISTIANITOS</td>\n",
              "      <td>1702047</td>\n",
              "      <td>2017-06-28</td>\n",
              "      <td>2017-06-30</td>\n",
              "      <td>9 - Miscellaneous</td>\n",
              "      <td>started by RC bicycle</td>\n",
              "      <td>NaN</td>\n",
              "      <td>702.3066</td>\n",
              "      <td>5 - Photo Interpretation</td>\n",
              "      <td>Suppression (Wildfire)</td>\n",
              "      <td>2.0</td>\n",
              "    </tr>\n",
              "  </tbody>\n",
              "</table>\n",
              "<p>3140 rows × 15 columns</p>\n",
              "</div>\n",
              "      <button class=\"colab-df-convert\" onclick=\"convertToInteractive('df-c2ef9812-ef16-44f6-8034-543536988b3b')\"\n",
              "              title=\"Convert this dataframe to an interactive table.\"\n",
              "              style=\"display:none;\">\n",
              "        \n",
              "  <svg xmlns=\"http://www.w3.org/2000/svg\" height=\"24px\"viewBox=\"0 0 24 24\"\n",
              "       width=\"24px\">\n",
              "    <path d=\"M0 0h24v24H0V0z\" fill=\"none\"/>\n",
              "    <path d=\"M18.56 5.44l.94 2.06.94-2.06 2.06-.94-2.06-.94-.94-2.06-.94 2.06-2.06.94zm-11 1L8.5 8.5l.94-2.06 2.06-.94-2.06-.94L8.5 2.5l-.94 2.06-2.06.94zm10 10l.94 2.06.94-2.06 2.06-.94-2.06-.94-.94-2.06-.94 2.06-2.06.94z\"/><path d=\"M17.41 7.96l-1.37-1.37c-.4-.4-.92-.59-1.43-.59-.52 0-1.04.2-1.43.59L10.3 9.45l-7.72 7.72c-.78.78-.78 2.05 0 2.83L4 21.41c.39.39.9.59 1.41.59.51 0 1.02-.2 1.41-.59l7.78-7.78 2.81-2.81c.8-.78.8-2.07 0-2.86zM5.41 20L4 18.59l7.72-7.72 1.47 1.35L5.41 20z\"/>\n",
              "  </svg>\n",
              "      </button>\n",
              "      \n",
              "  <style>\n",
              "    .colab-df-container {\n",
              "      display:flex;\n",
              "      flex-wrap:wrap;\n",
              "      gap: 12px;\n",
              "    }\n",
              "\n",
              "    .colab-df-convert {\n",
              "      background-color: #E8F0FE;\n",
              "      border: none;\n",
              "      border-radius: 50%;\n",
              "      cursor: pointer;\n",
              "      display: none;\n",
              "      fill: #1967D2;\n",
              "      height: 32px;\n",
              "      padding: 0 0 0 0;\n",
              "      width: 32px;\n",
              "    }\n",
              "\n",
              "    .colab-df-convert:hover {\n",
              "      background-color: #E2EBFA;\n",
              "      box-shadow: 0px 1px 2px rgba(60, 64, 67, 0.3), 0px 1px 3px 1px rgba(60, 64, 67, 0.15);\n",
              "      fill: #174EA6;\n",
              "    }\n",
              "\n",
              "    [theme=dark] .colab-df-convert {\n",
              "      background-color: #3B4455;\n",
              "      fill: #D2E3FC;\n",
              "    }\n",
              "\n",
              "    [theme=dark] .colab-df-convert:hover {\n",
              "      background-color: #434B5C;\n",
              "      box-shadow: 0px 1px 3px 1px rgba(0, 0, 0, 0.15);\n",
              "      filter: drop-shadow(0px 1px 2px rgba(0, 0, 0, 0.3));\n",
              "      fill: #FFFFFF;\n",
              "    }\n",
              "  </style>\n",
              "\n",
              "      <script>\n",
              "        const buttonEl =\n",
              "          document.querySelector('#df-c2ef9812-ef16-44f6-8034-543536988b3b button.colab-df-convert');\n",
              "        buttonEl.style.display =\n",
              "          google.colab.kernel.accessAllowed ? 'block' : 'none';\n",
              "\n",
              "        async function convertToInteractive(key) {\n",
              "          const element = document.querySelector('#df-c2ef9812-ef16-44f6-8034-543536988b3b');\n",
              "          const dataTable =\n",
              "            await google.colab.kernel.invokeFunction('convertToInteractive',\n",
              "                                                     [key], {});\n",
              "          if (!dataTable) return;\n",
              "\n",
              "          const docLinkHtml = 'Like what you see? Visit the ' +\n",
              "            '<a target=\"_blank\" href=https://colab.research.google.com/notebooks/data_table.ipynb>data table notebook</a>'\n",
              "            + ' to learn more about interactive tables.';\n",
              "          element.innerHTML = '';\n",
              "          dataTable['output_type'] = 'display_data';\n",
              "          await google.colab.output.renderOutput(dataTable, element);\n",
              "          const docLink = document.createElement('div');\n",
              "          docLink.innerHTML = docLinkHtml;\n",
              "          element.appendChild(docLink);\n",
              "        }\n",
              "      </script>\n",
              "    </div>\n",
              "  </div>\n",
              "  "
            ],
            "text/plain": [
              "        YEAR       STATE  ...               OBJECTIVE DURATION\n",
              "1214  1921.0  California  ...  Suppression (Wildfire)      0.0\n",
              "1251  1921.0  California  ...  Suppression (Wildfire)     12.0\n",
              "1340  1922.0  California  ...  Suppression (Wildfire)      4.0\n",
              "1341  1922.0  California  ...  Suppression (Wildfire)      4.0\n",
              "1342  1922.0  California  ...  Suppression (Wildfire)      2.0\n",
              "...      ...         ...  ...                     ...      ...\n",
              "177   2017.0  California  ...  Suppression (Wildfire)     82.0\n",
              "178   2017.0  California  ...  Suppression (Wildfire)     17.0\n",
              "179   2017.0  California  ...  Suppression (Wildfire)    153.0\n",
              "180   2017.0  California  ...  Suppression (Wildfire)    109.0\n",
              "181   2017.0  California  ...  Suppression (Wildfire)      2.0\n",
              "\n",
              "[3140 rows x 15 columns]"
            ]
          },
          "execution_count": 33,
          "metadata": {},
          "output_type": "execute_result"
        }
      ],
      "source": [
        "wildfire_data = wildfire_data[(wildfire_data.DURATION >= 0) & (wildfire_data.DURATION < 3000)]\n",
        "wildfire_data"
      ]
    },
    {
      "cell_type": "markdown",
      "metadata": {
        "id": "0UrF_qhIzN71"
      },
      "source": [
        "Selecting required columns\n",
        "\n",
        "Removing columns ALARM_DATE and CONT_DATE because we have created a new column duration and hence we don't need them anymore"
      ]
    },
    {
      "cell_type": "code",
      "execution_count": null,
      "metadata": {
        "colab": {
          "base_uri": "https://localhost:8080/"
        },
        "id": "l09aR01wzobX",
        "outputId": "4dcc2941-9e28-42d9-ba29-c11820f2b702"
      },
      "outputs": [
        {
          "name": "stdout",
          "output_type": "stream",
          "text": [
            "<class 'pandas.core.frame.DataFrame'>\n",
            "Int64Index: 3140 entries, 1214 to 181\n",
            "Data columns (total 10 columns):\n",
            " #   Column     Non-Null Count  Dtype  \n",
            "---  ------     --------------  -----  \n",
            " 0   YEAR       3140 non-null   float64\n",
            " 1   STATE      3140 non-null   object \n",
            " 2   AGENCY     3140 non-null   object \n",
            " 3   UNIT_ID    3137 non-null   object \n",
            " 4   CAUSE      3137 non-null   object \n",
            " 5   REPORT_AC  2999 non-null   float64\n",
            " 6   GIS_ACRES  3140 non-null   float64\n",
            " 7   C_METHOD   3092 non-null   object \n",
            " 8   OBJECTIVE  3115 non-null   object \n",
            " 9   DURATION   3140 non-null   float64\n",
            "dtypes: float64(4), object(6)\n",
            "memory usage: 269.8+ KB\n"
          ]
        }
      ],
      "source": [
        "wildfire_data = wildfire_data.drop(columns=['INC_NUM', 'COMMENTS', 'ALARM_DATE', 'CONT_DATE', 'FIRE_NAME'])\n",
        "wildfire_data.info()"
      ]
    },
    {
      "cell_type": "markdown",
      "metadata": {
        "id": "P087Pg7qQST5"
      },
      "source": [
        "### Handling Missing Values"
      ]
    },
    {
      "cell_type": "code",
      "execution_count": null,
      "metadata": {
        "colab": {
          "base_uri": "https://localhost:8080/"
        },
        "id": "ZK3lJDoyQQD_",
        "outputId": "a5081271-cf7a-4c56-946b-28251ba355d8"
      },
      "outputs": [
        {
          "name": "stdout",
          "output_type": "stream",
          "text": [
            "YEAR           0\n",
            "STATE          0\n",
            "AGENCY         0\n",
            "UNIT_ID        3\n",
            "CAUSE          3\n",
            "REPORT_AC    141\n",
            "GIS_ACRES      0\n",
            "C_METHOD      48\n",
            "OBJECTIVE     25\n",
            "DURATION       0\n",
            "dtype: int64\n"
          ]
        }
      ],
      "source": [
        "# count of null values in each column\n",
        "print(wildfire_data.isnull().sum())"
      ]
    },
    {
      "cell_type": "code",
      "execution_count": null,
      "metadata": {
        "colab": {
          "base_uri": "https://localhost:8080/"
        },
        "id": "Y0X17Gfqd48U",
        "outputId": "70397283-f46d-4b17-9bf7-b07e96372e42"
      },
      "outputs": [
        {
          "name": "stdout",
          "output_type": "stream",
          "text": [
            "YEAR           0\n",
            "STATE          0\n",
            "AGENCY         0\n",
            "UNIT_ID        3\n",
            "CAUSE          3\n",
            "REPORT_AC    141\n",
            "GIS_ACRES      0\n",
            "C_METHOD      48\n",
            "OBJECTIVE     25\n",
            "DURATION       0\n",
            "dtype: int64\n"
          ]
        }
      ],
      "source": [
        "# count of null values in each column\n",
        "print(wildfire_data.isnull().sum())"
      ]
    },
    {
      "cell_type": "code",
      "execution_count": null,
      "metadata": {
        "id": "LrtyWfaBeurI"
      },
      "outputs": [],
      "source": [
        "wildfire_data = wildfire_data.dropna(axis = 0, how ='any') "
      ]
    },
    {
      "cell_type": "code",
      "execution_count": null,
      "metadata": {
        "colab": {
          "base_uri": "https://localhost:8080/"
        },
        "id": "uLdxLr39eyls",
        "outputId": "9d4b8440-0c4d-4d86-f269-f4a2813e014f"
      },
      "outputs": [
        {
          "name": "stdout",
          "output_type": "stream",
          "text": [
            "YEAR         0\n",
            "STATE        0\n",
            "AGENCY       0\n",
            "UNIT_ID      0\n",
            "CAUSE        0\n",
            "REPORT_AC    0\n",
            "GIS_ACRES    0\n",
            "C_METHOD     0\n",
            "OBJECTIVE    0\n",
            "DURATION     0\n",
            "dtype: int64\n"
          ]
        }
      ],
      "source": [
        "# count of null values in each column\n",
        "print(wildfire_data.isnull().sum())"
      ]
    },
    {
      "cell_type": "code",
      "execution_count": null,
      "metadata": {
        "colab": {
          "base_uri": "https://localhost:8080/"
        },
        "id": "wfJEdzGbe3Vb",
        "outputId": "82c3c126-142c-4d46-948e-086280578f8a"
      },
      "outputs": [
        {
          "name": "stdout",
          "output_type": "stream",
          "text": [
            "<class 'pandas.core.frame.DataFrame'>\n",
            "Int64Index: 2939 entries, 1251 to 177\n",
            "Data columns (total 10 columns):\n",
            " #   Column     Non-Null Count  Dtype  \n",
            "---  ------     --------------  -----  \n",
            " 0   YEAR       2939 non-null   float64\n",
            " 1   STATE      2939 non-null   object \n",
            " 2   AGENCY     2939 non-null   object \n",
            " 3   UNIT_ID    2939 non-null   object \n",
            " 4   CAUSE      2939 non-null   object \n",
            " 5   REPORT_AC  2939 non-null   float64\n",
            " 6   GIS_ACRES  2939 non-null   float64\n",
            " 7   C_METHOD   2939 non-null   object \n",
            " 8   OBJECTIVE  2939 non-null   object \n",
            " 9   DURATION   2939 non-null   float64\n",
            "dtypes: float64(4), object(6)\n",
            "memory usage: 252.6+ KB\n"
          ]
        }
      ],
      "source": [
        "wildfire_data.info()"
      ]
    },
    {
      "cell_type": "code",
      "execution_count": null,
      "metadata": {
        "colab": {
          "base_uri": "https://localhost:8080/"
        },
        "id": "7Zhz96Vcimoc",
        "outputId": "6c5fb7b5-3090-4548-f3ff-ba45d2a0d28d"
      },
      "outputs": [
        {
          "name": "stdout",
          "output_type": "stream",
          "text": [
            "Numerical Columns:  ['YEAR', 'REPORT_AC', 'GIS_ACRES', 'DURATION']\n",
            "\n",
            "Categorical Columns:  ['STATE', 'AGENCY', 'UNIT_ID', 'CAUSE', 'C_METHOD', 'OBJECTIVE']\n"
          ]
        }
      ],
      "source": [
        "numerics = ['int8', 'int16', 'int32', 'int64', 'float16', 'float32', 'float64']\n",
        "numerical_columns = []\n",
        "categorical_columns = []\n",
        "features = wildfire_data.columns.values.tolist()\n",
        "for col in features:\n",
        "    if wildfire_data[col].dtype in numerics:\n",
        "        numerical_columns.append(col)\n",
        "    else:\n",
        "        categorical_columns.append(col)\n",
        "print(\"Numerical Columns: \", numerical_columns)\n",
        "\n",
        "print(\"\\nCategorical Columns: \", categorical_columns)"
      ]
    },
    {
      "cell_type": "markdown",
      "metadata": {
        "id": "lDO5tvzTfbl9"
      },
      "source": [
        "# Handling Outliers"
      ]
    },
    {
      "cell_type": "code",
      "execution_count": null,
      "metadata": {
        "colab": {
          "base_uri": "https://localhost:8080/"
        },
        "id": "0Xv_30NwODaI",
        "outputId": "89dc04df-284f-4281-f8ce-2f124a71b3d5"
      },
      "outputs": [
        {
          "data": {
            "text/plain": [
              "Text(0, 0.5, 'P(YEAR)')"
            ]
          },
          "execution_count": 45,
          "metadata": {},
          "output_type": "execute_result"
        },
        {
          "data": {
            "image/png": "[encoded data removed]",
            "text/plain": [
              "<Figure size 1080x1080 with 4 Axes>"
            ]
          },
          "metadata": {
            "needs_background": "light"
          },
          "output_type": "display_data"
        }
      ],
      "source": [
        "plt.figure(figsize=[15,15])\n",
        "plt.subplot(2,2,1)\n",
        "plt.hist(wildfire_data.GIS_ACRES, bins=1000)\n",
        "plt.xlabel('GIS_ACRES'); plt.ylabel('P(GIS_ACRES)')\n",
        "\n",
        "plt.subplot(2,2,2)\n",
        "plt.hist(wildfire_data.DURATION, bins=100)\n",
        "plt.xlabel('DURATION'); plt.ylabel('P(DURATION)')\n",
        "\n",
        "plt.subplot(2,2,3)\n",
        "plt.hist(wildfire_data.REPORT_AC, bins=1000)\n",
        "plt.xlabel('REPORT_AC'); plt.ylabel('P(REPORT_AC)')\n",
        "\n",
        "plt.subplot(2,2,4)\n",
        "plt.hist(wildfire_data.YEAR, bins=10)\n",
        "plt.xlabel('YEAR'); plt.ylabel('P(YEAR)')"
      ]
    },
    {
      "cell_type": "code",
      "execution_count": null,
      "metadata": {
        "colab": {
          "base_uri": "https://localhost:8080/",
          "height": 900
        },
        "id": "_d88BqsZjPX8",
        "outputId": "fbd56854-311e-49ca-c4b6-665bf8f8522f"
      },
      "outputs": [
        {
          "data": {
            "text/plain": [
              "Text(0, 0.5, 'P(YEAR)')"
            ]
          },
          "execution_count": 46,
          "metadata": {},
          "output_type": "execute_result"
        },
        {
          "data": {
            "image/png": "[encoded data removed]",
            "text/plain": [
              "<Figure size 1080x1080 with 4 Axes>"
            ]
          },
          "metadata": {
            "needs_background": "light"
          },
          "output_type": "display_data"
        }
      ],
      "source": [
        "plt.figure(figsize=[15,15])\n",
        "plt.subplot(2,2,1)\n",
        "plt.hist(wildfire_data.GIS_ACRES, bins=1000)\n",
        "plt.loglog()\n",
        "plt.xlabel('GIS_ACRES'); plt.ylabel('P(GIS_ACRES)')\n",
        "\n",
        "plt.subplot(2,2,2)\n",
        "plt.hist(wildfire_data.DURATION, bins=100)\n",
        "plt.loglog()\n",
        "plt.xlabel('DURATION'); plt.ylabel('P(DURATION)')\n",
        "\n",
        "plt.subplot(2,2,3)\n",
        "plt.hist(wildfire_data.REPORT_AC, bins=1000)\n",
        "plt.loglog()\n",
        "plt.xlabel('REPORT_AC'); plt.ylabel('P(REPORT_AC)')\n",
        "\n",
        "plt.subplot(2,2,4)\n",
        "plt.hist(wildfire_data.YEAR, bins=10)\n",
        "plt.xlabel('YEAR'); plt.ylabel('P(YEAR)')"
      ]
    },
    {
      "cell_type": "code",
      "execution_count": null,
      "metadata": {
        "colab": {
          "base_uri": "https://localhost:8080/",
          "height": 592
        },
        "id": "_V_qbYpYlhZM",
        "outputId": "4d0c1755-94bd-4ef8-d042-04d6351e9326"
      },
      "outputs": [
        {
          "data": {
            "image/png": "[encoded data removed]",
            "text/plain": [
              "<Figure size 1440x720 with 1 Axes>"
            ]
          },
          "metadata": {
            "needs_background": "light"
          },
          "output_type": "display_data"
        }
      ],
      "source": [
        "plt.figure(figsize=(20,10))\n",
        "plt.boxplot([vals.dropna() for col, vals in wildfire_data[['REPORT_AC', 'GIS_ACRES']].iteritems()]);\n",
        "plt.xticks([1,2], ['REPORT_AC', 'GIS_ACRES']);"
      ]
    },
    {
      "cell_type": "markdown",
      "metadata": {
        "id": "cF0WruGXnUQe"
      },
      "source": [
        "Removing entries with REPORT_AC and GIS_ACRES greater than 300000"
      ]
    },
    {
      "cell_type": "code",
      "execution_count": null,
      "metadata": {
        "colab": {
          "base_uri": "https://localhost:8080/"
        },
        "id": "kRiz20Lim9pz",
        "outputId": "c3bb5a57-ce46-496d-dadd-63ac3213a178"
      },
      "outputs": [
        {
          "data": {
            "image/png": "[encoded data removed]",
            "text/plain": [
              "<Figure size 1440x720 with 1 Axes>"
            ]
          },
          "metadata": {
            "needs_background": "light"
          },
          "output_type": "display_data"
        }
      ],
      "source": [
        "wildfire_data = wildfire_data[(wildfire_data.REPORT_AC <= 300000)]\n",
        "wildfire_data = wildfire_data[(wildfire_data.GIS_ACRES <= 300000)]\n",
        "plt.figure(figsize=(20,10))\n",
        "plt.boxplot([vals.dropna() for col, vals in wildfire_data[['REPORT_AC', 'GIS_ACRES']].iteritems()]);\n",
        "plt.xticks([1,2], ['REPORT_AC', 'GIS_ACRES']);"
      ]
    },
    {
      "cell_type": "markdown",
      "metadata": {
        "id": "WpBiYvt-qAKd"
      },
      "source": [
        "# Conversion to Numbers"
      ]
    },
    {
      "cell_type": "code",
      "execution_count": null,
      "metadata": {
        "colab": {
          "base_uri": "https://localhost:8080/"
        },
        "id": "yx01dg7FqDCj",
        "outputId": "bd42f921-937d-46a1-d09c-38dc8255efc9"
      },
      "outputs": [
        {
          "name": "stdout",
          "output_type": "stream",
          "text": [
            "STATE  :  {0: 'California', 1: 'Nevada'} \n",
            "\n",
            "AGENCY  :  {0: 'Bureau of Land Management', 1: 'California Department of Forestry and Fire Protection', 2: 'Contract County', 3: 'Department of Defense', 4: 'Local Response Area', 5: 'National Park Service', 6: 'Other', 7: 'USDA Forest Service', 8: 'USDI Bureau of Indian Affairs', 9: 'USDI Fish and Wildlife Service'} \n",
            "\n",
            "UNIT_ID  :  {0: 'APV', 1: 'Amador - El Dorado CAL FIRE', 2: 'Angeles National Forest', 3: 'Bakersfield District - BLM  (old)', 4: 'Bitter Creek National Wildlife Refuge', 5: 'Butte CAL FIRE', 6: 'CA Desert District - BLM', 7: 'Camp Pendleton Marine Corps Base', 8: 'Carson City District or - BLM', 9: 'City of Weed Vol. Fire Dept.', 10: 'Cleveland National Forest', 11: 'Death Valley NP', 12: 'Eldorado National Forest', 13: 'Fresno-Kings CAL FIRE', 14: 'Hoopa Valley Tribe', 15: 'Humboldt - Del Norte CAL FIRE', 16: 'Inyo National Forest', 17: 'Joshua Tree NP', 18: 'Kern County', 19: 'Kern National Wildlife Refuge', 20: 'Klamath National Forest', 21: 'Lake Taho Basin Management Unit', 22: 'Lassen - Modoc CAL FIRE', 23: 'Lassen National Forest', 24: 'Lassen Volcanic NP', 25: 'Lava Beds National Monument', 26: 'Los Angeles City FD', 27: 'Los Angeles County', 28: 'Los Padres National Forest', 29: 'Madera - Mariposa CAL FIRE', 30: 'Marin County', 31: 'Mendocino CAL FIRE', 32: 'Mendocino National Forest', 33: 'Modoc National Forest', 34: 'Mojave - NPS', 35: 'Monterey - San Benito CAL FIRE', 36: 'Nevada - Yuba - Placer CAL FIRE', 37: 'Northern CA District - BLM', 38: 'Northern California District BLM', 39: 'Orange County', 40: 'Pinnacles National Park', 41: 'Plumas National Forest', 42: 'Redwood National and State Parks', 43: 'Riverside CAL FIRE', 44: 'Sacramento National Wildlife Refuge', 45: 'San Bernardino CAL FIRE', 46: 'San Bernardino National Forest', 47: 'San Diego CAL FIRE', 48: 'San Luis Obispo CAL FIRE', 49: 'San Mateo - Santa Cruz CAL FIRE', 50: 'Santa Barbara County', 51: 'Santa Clara CAL FIRE', 52: 'Sequoia - Kings Canyon NP', 53: 'Sequoia National Forest', 54: 'Shasta - Trinity CAL FIRE', 55: 'Shasta-Trinity National Forest', 56: 'Sierra National Forest', 57: 'Siskiyou CAL FIRE', 58: 'Six Rivers National Forest', 59: 'Sonoma - Lake - Napa CAL FIRE', 60: 'Stanislaus National Forest', 61: 'Tahoe National Forest', 62: 'Tehama - Glenn CAL FIRE', 63: 'Toiyabe National Forest', 64: 'Tulare County', 65: 'Tuolumne - Calaveras CAL FIRE', 66: 'Vandenberg Air Force Base', 67: 'Ventura County', 68: 'Yosemite National Park'} \n",
            "\n",
            "CAUSE  :  {0: '1 - Lightning', 1: '10 - Vehicle', 2: '11 - Powerline', 3: '12 - Firefighter Training', 4: '13 - Non-Firefighter Training', 5: '14 - Unknown / Unidentified', 6: '15 - Structure', 7: '16 - Aircraft', 8: '18 - Escaped Prescribed Burn', 9: '19 - Illegal Alien Campfire', 10: '2 - Equipment Use', 11: '3 - Smoking', 12: '4 - Campfire', 13: '5 - Debris', 14: '6 - Railroad', 15: '7 - Arson', 16: '8 - Playing with fire', 17: '9 - Miscellaneous'} \n",
            "\n",
            "C_METHOD  :  {0: '1 - GPS Ground', 1: '2 - GPS Air', 2: '3 - Infrared', 3: '4 - Other Imagery', 4: '5 - Photo Interpretation', 5: '6 - Hand Drawn', 6: '7 - Mixed Collection Methods', 7: '8 - Unknown'} \n",
            "\n",
            "OBJECTIVE  :  {0: 'Resource Benefit (WFU)', 1: 'Suppression (Wildfire)'} \n",
            "\n"
          ]
        }
      ],
      "source": [
        "for col in categorical_columns:\n",
        "    cat_data = wildfire_data[col].astype('category')\n",
        "    mapping = dict(enumerate(cat_data.cat.categories))\n",
        "    print(col,\" : \",mapping,\"\\n\")"
      ]
    },
    {
      "cell_type": "code",
      "execution_count": null,
      "metadata": {
        "colab": {
          "base_uri": "https://localhost:8080/"
        },
        "id": "Cj9s-z7bqPOF",
        "outputId": "e9350de7-6de9-4b88-e49d-26b22026e180"
      },
      "outputs": [
        {
          "data": {
            "text/html": [
              "\n",
              "  <div id=\"df-5c24b799-45ce-463c-ac97-200300e69b5e\">\n",
              "    <div class=\"colab-df-container\">\n",
              "      <div>\n",
              "<style scoped>\n",
              "    .dataframe tbody tr th:only-of-type {\n",
              "        vertical-align: middle;\n",
              "    }\n",
              "\n",
              "    .dataframe tbody tr th {\n",
              "        vertical-align: top;\n",
              "    }\n",
              "\n",
              "    .dataframe thead th {\n",
              "        text-align: right;\n",
              "    }\n",
              "</style>\n",
              "<table border=\"1\" class=\"dataframe\">\n",
              "  <thead>\n",
              "    <tr style=\"text-align: right;\">\n",
              "      <th></th>\n",
              "      <th>YEAR</th>\n",
              "      <th>STATE</th>\n",
              "      <th>AGENCY</th>\n",
              "      <th>UNIT_ID</th>\n",
              "      <th>CAUSE</th>\n",
              "      <th>REPORT_AC</th>\n",
              "      <th>GIS_ACRES</th>\n",
              "      <th>C_METHOD</th>\n",
              "      <th>OBJECTIVE</th>\n",
              "      <th>DURATION</th>\n",
              "    </tr>\n",
              "  </thead>\n",
              "  <tbody>\n",
              "    <tr>\n",
              "      <th>1251</th>\n",
              "      <td>1921.0</td>\n",
              "      <td>0</td>\n",
              "      <td>5</td>\n",
              "      <td>52</td>\n",
              "      <td>12</td>\n",
              "      <td>1600.0</td>\n",
              "      <td>1551.4670</td>\n",
              "      <td>7</td>\n",
              "      <td>1</td>\n",
              "      <td>12.0</td>\n",
              "    </tr>\n",
              "    <tr>\n",
              "      <th>1340</th>\n",
              "      <td>1922.0</td>\n",
              "      <td>0</td>\n",
              "      <td>5</td>\n",
              "      <td>52</td>\n",
              "      <td>0</td>\n",
              "      <td>350.0</td>\n",
              "      <td>535.8748</td>\n",
              "      <td>7</td>\n",
              "      <td>1</td>\n",
              "      <td>4.0</td>\n",
              "    </tr>\n",
              "    <tr>\n",
              "      <th>1341</th>\n",
              "      <td>1922.0</td>\n",
              "      <td>0</td>\n",
              "      <td>5</td>\n",
              "      <td>52</td>\n",
              "      <td>12</td>\n",
              "      <td>550.0</td>\n",
              "      <td>667.1011</td>\n",
              "      <td>7</td>\n",
              "      <td>1</td>\n",
              "      <td>4.0</td>\n",
              "    </tr>\n",
              "    <tr>\n",
              "      <th>1342</th>\n",
              "      <td>1922.0</td>\n",
              "      <td>0</td>\n",
              "      <td>5</td>\n",
              "      <td>52</td>\n",
              "      <td>12</td>\n",
              "      <td>300.0</td>\n",
              "      <td>449.5453</td>\n",
              "      <td>7</td>\n",
              "      <td>1</td>\n",
              "      <td>2.0</td>\n",
              "    </tr>\n",
              "    <tr>\n",
              "      <th>1814</th>\n",
              "      <td>1926.0</td>\n",
              "      <td>0</td>\n",
              "      <td>5</td>\n",
              "      <td>52</td>\n",
              "      <td>15</td>\n",
              "      <td>86000.0</td>\n",
              "      <td>34357.7000</td>\n",
              "      <td>5</td>\n",
              "      <td>1</td>\n",
              "      <td>9.0</td>\n",
              "    </tr>\n",
              "    <tr>\n",
              "      <th>...</th>\n",
              "      <td>...</td>\n",
              "      <td>...</td>\n",
              "      <td>...</td>\n",
              "      <td>...</td>\n",
              "      <td>...</td>\n",
              "      <td>...</td>\n",
              "      <td>...</td>\n",
              "      <td>...</td>\n",
              "      <td>...</td>\n",
              "      <td>...</td>\n",
              "    </tr>\n",
              "    <tr>\n",
              "      <th>173</th>\n",
              "      <td>2017.0</td>\n",
              "      <td>0</td>\n",
              "      <td>1</td>\n",
              "      <td>36</td>\n",
              "      <td>5</td>\n",
              "      <td>9989.0</td>\n",
              "      <td>16140.8000</td>\n",
              "      <td>6</td>\n",
              "      <td>1</td>\n",
              "      <td>18.0</td>\n",
              "    </tr>\n",
              "    <tr>\n",
              "      <th>174</th>\n",
              "      <td>2017.0</td>\n",
              "      <td>0</td>\n",
              "      <td>5</td>\n",
              "      <td>68</td>\n",
              "      <td>0</td>\n",
              "      <td>0.0</td>\n",
              "      <td>8577.5520</td>\n",
              "      <td>6</td>\n",
              "      <td>1</td>\n",
              "      <td>119.0</td>\n",
              "    </tr>\n",
              "    <tr>\n",
              "      <th>175</th>\n",
              "      <td>2017.0</td>\n",
              "      <td>0</td>\n",
              "      <td>2</td>\n",
              "      <td>26</td>\n",
              "      <td>5</td>\n",
              "      <td>7194.0</td>\n",
              "      <td>7051.3510</td>\n",
              "      <td>7</td>\n",
              "      <td>1</td>\n",
              "      <td>7.0</td>\n",
              "    </tr>\n",
              "    <tr>\n",
              "      <th>176</th>\n",
              "      <td>2017.0</td>\n",
              "      <td>0</td>\n",
              "      <td>7</td>\n",
              "      <td>33</td>\n",
              "      <td>0</td>\n",
              "      <td>7692.0</td>\n",
              "      <td>7693.3190</td>\n",
              "      <td>2</td>\n",
              "      <td>1</td>\n",
              "      <td>12.0</td>\n",
              "    </tr>\n",
              "    <tr>\n",
              "      <th>177</th>\n",
              "      <td>2017.0</td>\n",
              "      <td>0</td>\n",
              "      <td>5</td>\n",
              "      <td>68</td>\n",
              "      <td>0</td>\n",
              "      <td>7000.0</td>\n",
              "      <td>7560.0770</td>\n",
              "      <td>7</td>\n",
              "      <td>1</td>\n",
              "      <td>82.0</td>\n",
              "    </tr>\n",
              "  </tbody>\n",
              "</table>\n",
              "<p>2937 rows × 10 columns</p>\n",
              "</div>\n",
              "      <button class=\"colab-df-convert\" onclick=\"convertToInteractive('df-5c24b799-45ce-463c-ac97-200300e69b5e')\"\n",
              "              title=\"Convert this dataframe to an interactive table.\"\n",
              "              style=\"display:none;\">\n",
              "        \n",
              "  <svg xmlns=\"http://www.w3.org/2000/svg\" height=\"24px\"viewBox=\"0 0 24 24\"\n",
              "       width=\"24px\">\n",
              "    <path d=\"M0 0h24v24H0V0z\" fill=\"none\"/>\n",
              "    <path d=\"M18.56 5.44l.94 2.06.94-2.06 2.06-.94-2.06-.94-.94-2.06-.94 2.06-2.06.94zm-11 1L8.5 8.5l.94-2.06 2.06-.94-2.06-.94L8.5 2.5l-.94 2.06-2.06.94zm10 10l.94 2.06.94-2.06 2.06-.94-2.06-.94-.94-2.06-.94 2.06-2.06.94z\"/><path d=\"M17.41 7.96l-1.37-1.37c-.4-.4-.92-.59-1.43-.59-.52 0-1.04.2-1.43.59L10.3 9.45l-7.72 7.72c-.78.78-.78 2.05 0 2.83L4 21.41c.39.39.9.59 1.41.59.51 0 1.02-.2 1.41-.59l7.78-7.78 2.81-2.81c.8-.78.8-2.07 0-2.86zM5.41 20L4 18.59l7.72-7.72 1.47 1.35L5.41 20z\"/>\n",
              "  </svg>\n",
              "      </button>\n",
              "      \n",
              "  <style>\n",
              "    .colab-df-container {\n",
              "      display:flex;\n",
              "      flex-wrap:wrap;\n",
              "      gap: 12px;\n",
              "    }\n",
              "\n",
              "    .colab-df-convert {\n",
              "      background-color: #E8F0FE;\n",
              "      border: none;\n",
              "      border-radius: 50%;\n",
              "      cursor: pointer;\n",
              "      display: none;\n",
              "      fill: #1967D2;\n",
              "      height: 32px;\n",
              "      padding: 0 0 0 0;\n",
              "      width: 32px;\n",
              "    }\n",
              "\n",
              "    .colab-df-convert:hover {\n",
              "      background-color: #E2EBFA;\n",
              "      box-shadow: 0px 1px 2px rgba(60, 64, 67, 0.3), 0px 1px 3px 1px rgba(60, 64, 67, 0.15);\n",
              "      fill: #174EA6;\n",
              "    }\n",
              "\n",
              "    [theme=dark] .colab-df-convert {\n",
              "      background-color: #3B4455;\n",
              "      fill: #D2E3FC;\n",
              "    }\n",
              "\n",
              "    [theme=dark] .colab-df-convert:hover {\n",
              "      background-color: #434B5C;\n",
              "      box-shadow: 0px 1px 3px 1px rgba(0, 0, 0, 0.15);\n",
              "      filter: drop-shadow(0px 1px 2px rgba(0, 0, 0, 0.3));\n",
              "      fill: #FFFFFF;\n",
              "    }\n",
              "  </style>\n",
              "\n",
              "      <script>\n",
              "        const buttonEl =\n",
              "          document.querySelector('#df-5c24b799-45ce-463c-ac97-200300e69b5e button.colab-df-convert');\n",
              "        buttonEl.style.display =\n",
              "          google.colab.kernel.accessAllowed ? 'block' : 'none';\n",
              "\n",
              "        async function convertToInteractive(key) {\n",
              "          const element = document.querySelector('#df-5c24b799-45ce-463c-ac97-200300e69b5e');\n",
              "          const dataTable =\n",
              "            await google.colab.kernel.invokeFunction('convertToInteractive',\n",
              "                                                     [key], {});\n",
              "          if (!dataTable) return;\n",
              "\n",
              "          const docLinkHtml = 'Like what you see? Visit the ' +\n",
              "            '<a target=\"_blank\" href=https://colab.research.google.com/notebooks/data_table.ipynb>data table notebook</a>'\n",
              "            + ' to learn more about interactive tables.';\n",
              "          element.innerHTML = '';\n",
              "          dataTable['output_type'] = 'display_data';\n",
              "          await google.colab.output.renderOutput(dataTable, element);\n",
              "          const docLink = document.createElement('div');\n",
              "          docLink.innerHTML = docLinkHtml;\n",
              "          element.appendChild(docLink);\n",
              "        }\n",
              "      </script>\n",
              "    </div>\n",
              "  </div>\n",
              "  "
            ],
            "text/plain": [
              "        YEAR  STATE  AGENCY  UNIT_ID  ...   GIS_ACRES  C_METHOD  OBJECTIVE  DURATION\n",
              "1251  1921.0      0       5       52  ...   1551.4670         7          1      12.0\n",
              "1340  1922.0      0       5       52  ...    535.8748         7          1       4.0\n",
              "1341  1922.0      0       5       52  ...    667.1011         7          1       4.0\n",
              "1342  1922.0      0       5       52  ...    449.5453         7          1       2.0\n",
              "1814  1926.0      0       5       52  ...  34357.7000         5          1       9.0\n",
              "...      ...    ...     ...      ...  ...         ...       ...        ...       ...\n",
              "173   2017.0      0       1       36  ...  16140.8000         6          1      18.0\n",
              "174   2017.0      0       5       68  ...   8577.5520         6          1     119.0\n",
              "175   2017.0      0       2       26  ...   7051.3510         7          1       7.0\n",
              "176   2017.0      0       7       33  ...   7693.3190         2          1      12.0\n",
              "177   2017.0      0       5       68  ...   7560.0770         7          1      82.0\n",
              "\n",
              "[2937 rows x 10 columns]"
            ]
          },
          "execution_count": 53,
          "metadata": {},
          "output_type": "execute_result"
        }
      ],
      "source": [
        "for col in categorical_columns:\n",
        "    wildfire_data[col] = wildfire_data[col].astype('category').cat.codes\n",
        "wildfire_data"
      ]
    },
    {
      "cell_type": "code",
      "execution_count": null,
      "metadata": {
        "colab": {
          "base_uri": "https://localhost:8080/"
        },
        "id": "bXLDcLRAqSOQ",
        "outputId": "3005c3f3-48cf-4ecb-e4ad-89f3b4e95c27"
      },
      "outputs": [
        {
          "name": "stdout",
          "output_type": "stream",
          "text": [
            "<class 'pandas.core.frame.DataFrame'>\n",
            "Int64Index: 2937 entries, 1251 to 177\n",
            "Data columns (total 10 columns):\n",
            " #   Column     Non-Null Count  Dtype  \n",
            "---  ------     --------------  -----  \n",
            " 0   YEAR       2937 non-null   float64\n",
            " 1   STATE      2937 non-null   int8   \n",
            " 2   AGENCY     2937 non-null   int8   \n",
            " 3   UNIT_ID    2937 non-null   int8   \n",
            " 4   CAUSE      2937 non-null   int8   \n",
            " 5   REPORT_AC  2937 non-null   float64\n",
            " 6   GIS_ACRES  2937 non-null   float64\n",
            " 7   C_METHOD   2937 non-null   int8   \n",
            " 8   OBJECTIVE  2937 non-null   int8   \n",
            " 9   DURATION   2937 non-null   float64\n",
            "dtypes: float64(4), int8(6)\n",
            "memory usage: 131.9 KB\n"
          ]
        }
      ],
      "source": [
        "wildfire_data.info()"
      ]
    },
    {
      "cell_type": "markdown",
      "metadata": {
        "id": "BXYM4sHonafL"
      },
      "source": [
        "# Number of Data Samples"
      ]
    },
    {
      "cell_type": "code",
      "execution_count": null,
      "metadata": {
        "colab": {
          "base_uri": "https://localhost:8080/"
        },
        "id": "wzObfTGanafL",
        "outputId": "16faa4cf-2542-4201-e051-e5a32b73ab8d"
      },
      "outputs": [
        {
          "name": "stdout",
          "output_type": "stream",
          "text": [
            "Number of data samples:  2937\n"
          ]
        }
      ],
      "source": [
        "print(\"Number of data samples: \", len(wildfire_data))"
      ]
    },
    {
      "cell_type": "markdown",
      "metadata": {
        "id": "TlvkogF8nafM"
      },
      "source": [
        "# Number of features"
      ]
    },
    {
      "cell_type": "code",
      "execution_count": null,
      "metadata": {
        "colab": {
          "base_uri": "https://localhost:8080/"
        },
        "id": "2jYs8vFcnafM",
        "outputId": "6d1bf7a0-b838-4715-8d78-cdf05ee76819"
      },
      "outputs": [
        {
          "name": "stdout",
          "output_type": "stream",
          "text": [
            "Number of features:  10\n"
          ]
        }
      ],
      "source": [
        "print(\"Number of features: \", len(wildfire_data.columns))"
      ]
    },
    {
      "cell_type": "markdown",
      "metadata": {
        "id": "k4yKi-TJnafM"
      },
      "source": [
        "# Number of Classes"
      ]
    },
    {
      "cell_type": "code",
      "execution_count": null,
      "metadata": {
        "colab": {
          "base_uri": "https://localhost:8080/"
        },
        "id": "rWZbxCwnnafM",
        "outputId": "e93c089e-68fd-4651-c33c-fc82c470f672"
      },
      "outputs": [
        {
          "data": {
            "text/plain": [
              "array([1, 0], dtype=int8)"
            ]
          },
          "execution_count": 57,
          "metadata": {},
          "output_type": "execute_result"
        }
      ],
      "source": [
        "# Unique values in OBJECTIVE Column\n",
        "wildfire_data.OBJECTIVE.unique()"
      ]
    },
    {
      "cell_type": "markdown",
      "metadata": {
        "id": "KogpLwupnafN"
      },
      "source": [
        "# Number of Data Samples per Class"
      ]
    },
    {
      "cell_type": "code",
      "execution_count": null,
      "metadata": {
        "colab": {
          "base_uri": "https://localhost:8080/"
        },
        "id": "8OXT4ygynafN",
        "outputId": "8ed9644f-2f56-4394-db34-93421ac2422d"
      },
      "outputs": [
        {
          "data": {
            "text/plain": [
              "1    2805\n",
              "0     132\n",
              "Name: OBJECTIVE, dtype: int64"
            ]
          },
          "execution_count": 58,
          "metadata": {},
          "output_type": "execute_result"
        }
      ],
      "source": [
        "wildfire_data['OBJECTIVE'].value_counts()"
      ]
    },
    {
      "cell_type": "markdown",
      "metadata": {
        "id": "dsiW2wtu3z7h"
      },
      "source": [
        "# Data Exploration"
      ]
    },
    {
      "cell_type": "markdown",
      "metadata": {
        "id": "5jFQ9PLSqCDl"
      },
      "source": [
        "### Relationship between Size of fire and duration"
      ]
    },
    {
      "cell_type": "code",
      "execution_count": null,
      "metadata": {
        "colab": {
          "base_uri": "https://localhost:8080/"
        },
        "id": "wz65abB2OUNr",
        "outputId": "3e44a38f-8e96-4bcb-dc53-00e7c3061af6"
      },
      "outputs": [
        {
          "data": {
            "image/png": "[encoded data removed]",
            "text/plain": [
              "<Figure size 2160x720 with 1 Axes>"
            ]
          },
          "metadata": {
            "needs_background": "light"
          },
          "output_type": "display_data"
        }
      ],
      "source": [
        "plt.figure(figsize=(30,10))\n",
        "plt.scatter(wildfire_data.GIS_ACRES, wildfire_data.DURATION)\n",
        "plt.xlabel('GIS_ACRES'); plt.ylabel('DURATION')\n",
        "plt.show()"
      ]
    },
    {
      "cell_type": "markdown",
      "metadata": {
        "id": "il_c8KIwrRmv"
      },
      "source": [
        "From the above plot we can see that there is not much correlation between the size of the fire and the duration for which fire lasted."
      ]
    },
    {
      "cell_type": "code",
      "execution_count": null,
      "metadata": {
        "colab": {
          "base_uri": "https://localhost:8080/"
        },
        "id": "w3s5uXu0qvIQ",
        "outputId": "f0a79cf3-b02f-49f7-d9ee-274d57e76d1e"
      },
      "outputs": [
        {
          "data": {
            "image/png": "[encoded data removed]",
            "text/plain": [
              "<Figure size 2160x720 with 1 Axes>"
            ]
          },
          "metadata": {
            "needs_background": "light"
          },
          "output_type": "display_data"
        }
      ],
      "source": [
        "plt.figure(figsize=(30,10))\n",
        "# make a scatterplot of DURATION vs GIS_ACRES, and color each point by AGENCY\n",
        "sns.scatterplot(data=wildfire_data, x='GIS_ACRES', y='DURATION', hue='AGENCY', palette='Spectral')\n",
        "plt.show()"
      ]
    },
    {
      "cell_type": "markdown",
      "metadata": {
        "id": "RZXeL2cxr2RF"
      },
      "source": [
        "The above plot with hues corresponding to the AGENCY that dealt with the fire suggests that the lack of correlation is due to the different policies and management at the different agencies."
      ]
    },
    {
      "cell_type": "markdown",
      "metadata": {
        "id": "okn_zZYAtsgd"
      },
      "source": [
        "### Wildfire Incidents Handled based on Agency"
      ]
    },
    {
      "cell_type": "code",
      "execution_count": null,
      "metadata": {
        "colab": {
          "base_uri": "https://localhost:8080/"
        },
        "id": "x1xhFV4qr1d0",
        "outputId": "1041c07d-9b89-46f9-ca93-d6f007ebe9b2"
      },
      "outputs": [
        {
          "data": {
            "text/plain": [
              "array([1386,  809,  262,  220,  207,   23,   22,    4,    3,    1])"
            ]
          },
          "execution_count": 61,
          "metadata": {},
          "output_type": "execute_result"
        }
      ],
      "source": [
        "admin_indx = wildfire_data[\"AGENCY\"].value_counts().index\n",
        "\n",
        "admin_count = wildfire_data[\"AGENCY\"].value_counts().values\n",
        "admin_count"
      ]
    },
    {
      "cell_type": "code",
      "execution_count": null,
      "metadata": {
        "colab": {
          "base_uri": "https://localhost:8080/"
        },
        "id": "PpAp2AvlrmKl",
        "outputId": "e095c460-2403-431d-c341-43a30b25e34f"
      },
      "outputs": [
        {
          "data": {
            "image/png": "[encoded data removed]",
            "text/plain": [
              "<Figure size 576x360 with 1 Axes>"
            ]
          },
          "metadata": {
            "needs_background": "light"
          },
          "output_type": "display_data"
        }
      ],
      "source": [
        "plt.figure(figsize=(8,5))\n",
        "sns.set_context(\"talk\")\n",
        "sns.barplot(x = admin_indx, y=admin_count, palette  = \"Spectral\");\n",
        "plt.xticks(rotation = 0);\n",
        "plt.title('Number of wildfire incidents Handled based on Agency')\n",
        "plt.xlabel('Number of wildfire incidents')\n",
        "plt.show()"
      ]
    },
    {
      "cell_type": "markdown",
      "metadata": {
        "id": "AkxxG122v14h"
      },
      "source": [
        "### Fire Behaviour over the Years"
      ]
    },
    {
      "cell_type": "code",
      "execution_count": null,
      "metadata": {
        "colab": {
          "base_uri": "https://localhost:8080/"
        },
        "id": "w7bnHpARtZqV",
        "outputId": "f8953bdb-a2dc-417f-e706-e8348ef8555e"
      },
      "outputs": [
        {
          "data": {
            "text/html": [
              "\n",
              "  <div id=\"df-8af8cb61-0d6f-40a3-b50d-b3ea7e68d781\">\n",
              "    <div class=\"colab-df-container\">\n",
              "      <div>\n",
              "<style scoped>\n",
              "    .dataframe tbody tr th:only-of-type {\n",
              "        vertical-align: middle;\n",
              "    }\n",
              "\n",
              "    .dataframe tbody tr th {\n",
              "        vertical-align: top;\n",
              "    }\n",
              "\n",
              "    .dataframe thead th {\n",
              "        text-align: right;\n",
              "    }\n",
              "</style>\n",
              "<table border=\"1\" class=\"dataframe\">\n",
              "  <thead>\n",
              "    <tr style=\"text-align: right;\">\n",
              "      <th></th>\n",
              "      <th>YEAR</th>\n",
              "      <th>STATE</th>\n",
              "      <th>AGENCY</th>\n",
              "      <th>UNIT_ID</th>\n",
              "      <th>CAUSE</th>\n",
              "      <th>REPORT_AC</th>\n",
              "      <th>GIS_ACRES</th>\n",
              "      <th>C_METHOD</th>\n",
              "      <th>OBJECTIVE</th>\n",
              "      <th>DURATION</th>\n",
              "    </tr>\n",
              "  </thead>\n",
              "  <tbody>\n",
              "    <tr>\n",
              "      <th>0</th>\n",
              "      <td>1921.0</td>\n",
              "      <td>0.000000</td>\n",
              "      <td>5.000000</td>\n",
              "      <td>52.000000</td>\n",
              "      <td>12.000000</td>\n",
              "      <td>1600.000000</td>\n",
              "      <td>1551.467000</td>\n",
              "      <td>7.000000</td>\n",
              "      <td>1.0</td>\n",
              "      <td>12.000000</td>\n",
              "    </tr>\n",
              "    <tr>\n",
              "      <th>1</th>\n",
              "      <td>1922.0</td>\n",
              "      <td>0.000000</td>\n",
              "      <td>5.000000</td>\n",
              "      <td>52.000000</td>\n",
              "      <td>8.000000</td>\n",
              "      <td>400.000000</td>\n",
              "      <td>550.840400</td>\n",
              "      <td>7.000000</td>\n",
              "      <td>1.0</td>\n",
              "      <td>3.333333</td>\n",
              "    </tr>\n",
              "    <tr>\n",
              "      <th>2</th>\n",
              "      <td>1926.0</td>\n",
              "      <td>0.000000</td>\n",
              "      <td>5.000000</td>\n",
              "      <td>52.000000</td>\n",
              "      <td>13.000000</td>\n",
              "      <td>43250.000000</td>\n",
              "      <td>17619.385950</td>\n",
              "      <td>6.000000</td>\n",
              "      <td>1.0</td>\n",
              "      <td>7.500000</td>\n",
              "    </tr>\n",
              "    <tr>\n",
              "      <th>3</th>\n",
              "      <td>1928.0</td>\n",
              "      <td>0.000000</td>\n",
              "      <td>5.000000</td>\n",
              "      <td>52.000000</td>\n",
              "      <td>5.000000</td>\n",
              "      <td>15500.000000</td>\n",
              "      <td>21997.880000</td>\n",
              "      <td>7.000000</td>\n",
              "      <td>1.0</td>\n",
              "      <td>9.000000</td>\n",
              "    </tr>\n",
              "    <tr>\n",
              "      <th>4</th>\n",
              "      <td>1930.0</td>\n",
              "      <td>0.000000</td>\n",
              "      <td>5.000000</td>\n",
              "      <td>52.000000</td>\n",
              "      <td>9.000000</td>\n",
              "      <td>1125.000000</td>\n",
              "      <td>603.348500</td>\n",
              "      <td>7.000000</td>\n",
              "      <td>1.0</td>\n",
              "      <td>0.500000</td>\n",
              "    </tr>\n",
              "    <tr>\n",
              "      <th>...</th>\n",
              "      <td>...</td>\n",
              "      <td>...</td>\n",
              "      <td>...</td>\n",
              "      <td>...</td>\n",
              "      <td>...</td>\n",
              "      <td>...</td>\n",
              "      <td>...</td>\n",
              "      <td>...</td>\n",
              "      <td>...</td>\n",
              "      <td>...</td>\n",
              "    </tr>\n",
              "    <tr>\n",
              "      <th>81</th>\n",
              "      <td>2014.0</td>\n",
              "      <td>0.037037</td>\n",
              "      <td>4.629630</td>\n",
              "      <td>29.555556</td>\n",
              "      <td>5.888889</td>\n",
              "      <td>9210.018315</td>\n",
              "      <td>8898.781669</td>\n",
              "      <td>2.574074</td>\n",
              "      <td>1.0</td>\n",
              "      <td>17.777778</td>\n",
              "    </tr>\n",
              "    <tr>\n",
              "      <th>82</th>\n",
              "      <td>2015.0</td>\n",
              "      <td>0.000000</td>\n",
              "      <td>4.377778</td>\n",
              "      <td>45.444444</td>\n",
              "      <td>4.944444</td>\n",
              "      <td>6836.888111</td>\n",
              "      <td>7410.150818</td>\n",
              "      <td>2.222222</td>\n",
              "      <td>1.0</td>\n",
              "      <td>31.544444</td>\n",
              "    </tr>\n",
              "    <tr>\n",
              "      <th>83</th>\n",
              "      <td>2016.0</td>\n",
              "      <td>0.000000</td>\n",
              "      <td>3.178947</td>\n",
              "      <td>32.200000</td>\n",
              "      <td>8.463158</td>\n",
              "      <td>5052.302292</td>\n",
              "      <td>5078.488127</td>\n",
              "      <td>1.905263</td>\n",
              "      <td>1.0</td>\n",
              "      <td>19.378947</td>\n",
              "    </tr>\n",
              "    <tr>\n",
              "      <th>84</th>\n",
              "      <td>2017.0</td>\n",
              "      <td>0.000000</td>\n",
              "      <td>3.626761</td>\n",
              "      <td>42.091549</td>\n",
              "      <td>5.035211</td>\n",
              "      <td>6673.185021</td>\n",
              "      <td>8292.380089</td>\n",
              "      <td>2.626761</td>\n",
              "      <td>1.0</td>\n",
              "      <td>25.971831</td>\n",
              "    </tr>\n",
              "    <tr>\n",
              "      <th>85</th>\n",
              "      <td>2018.0</td>\n",
              "      <td>0.000000</td>\n",
              "      <td>2.000000</td>\n",
              "      <td>50.000000</td>\n",
              "      <td>2.000000</td>\n",
              "      <td>190.000000</td>\n",
              "      <td>189.537400</td>\n",
              "      <td>0.000000</td>\n",
              "      <td>1.0</td>\n",
              "      <td>2.000000</td>\n",
              "    </tr>\n",
              "  </tbody>\n",
              "</table>\n",
              "<p>86 rows × 10 columns</p>\n",
              "</div>\n",
              "      <button class=\"colab-df-convert\" onclick=\"convertToInteractive('df-8af8cb61-0d6f-40a3-b50d-b3ea7e68d781')\"\n",
              "              title=\"Convert this dataframe to an interactive table.\"\n",
              "              style=\"display:none;\">\n",
              "        \n",
              "  <svg xmlns=\"http://www.w3.org/2000/svg\" height=\"24px\"viewBox=\"0 0 24 24\"\n",
              "       width=\"24px\">\n",
              "    <path d=\"M0 0h24v24H0V0z\" fill=\"none\"/>\n",
              "    <path d=\"M18.56 5.44l.94 2.06.94-2.06 2.06-.94-2.06-.94-.94-2.06-.94 2.06-2.06.94zm-11 1L8.5 8.5l.94-2.06 2.06-.94-2.06-.94L8.5 2.5l-.94 2.06-2.06.94zm10 10l.94 2.06.94-2.06 2.06-.94-2.06-.94-.94-2.06-.94 2.06-2.06.94z\"/><path d=\"M17.41 7.96l-1.37-1.37c-.4-.4-.92-.59-1.43-.59-.52 0-1.04.2-1.43.59L10.3 9.45l-7.72 7.72c-.78.78-.78 2.05 0 2.83L4 21.41c.39.39.9.59 1.41.59.51 0 1.02-.2 1.41-.59l7.78-7.78 2.81-2.81c.8-.78.8-2.07 0-2.86zM5.41 20L4 18.59l7.72-7.72 1.47 1.35L5.41 20z\"/>\n",
              "  </svg>\n",
              "      </button>\n",
              "      \n",
              "  <style>\n",
              "    .colab-df-container {\n",
              "      display:flex;\n",
              "      flex-wrap:wrap;\n",
              "      gap: 12px;\n",
              "    }\n",
              "\n",
              "    .colab-df-convert {\n",
              "      background-color: #E8F0FE;\n",
              "      border: none;\n",
              "      border-radius: 50%;\n",
              "      cursor: pointer;\n",
              "      display: none;\n",
              "      fill: #1967D2;\n",
              "      height: 32px;\n",
              "      padding: 0 0 0 0;\n",
              "      width: 32px;\n",
              "    }\n",
              "\n",
              "    .colab-df-convert:hover {\n",
              "      background-color: #E2EBFA;\n",
              "      box-shadow: 0px 1px 2px rgba(60, 64, 67, 0.3), 0px 1px 3px 1px rgba(60, 64, 67, 0.15);\n",
              "      fill: #174EA6;\n",
              "    }\n",
              "\n",
              "    [theme=dark] .colab-df-convert {\n",
              "      background-color: #3B4455;\n",
              "      fill: #D2E3FC;\n",
              "    }\n",
              "\n",
              "    [theme=dark] .colab-df-convert:hover {\n",
              "      background-color: #434B5C;\n",
              "      box-shadow: 0px 1px 3px 1px rgba(0, 0, 0, 0.15);\n",
              "      filter: drop-shadow(0px 1px 2px rgba(0, 0, 0, 0.3));\n",
              "      fill: #FFFFFF;\n",
              "    }\n",
              "  </style>\n",
              "\n",
              "      <script>\n",
              "        const buttonEl =\n",
              "          document.querySelector('#df-8af8cb61-0d6f-40a3-b50d-b3ea7e68d781 button.colab-df-convert');\n",
              "        buttonEl.style.display =\n",
              "          google.colab.kernel.accessAllowed ? 'block' : 'none';\n",
              "\n",
              "        async function convertToInteractive(key) {\n",
              "          const element = document.querySelector('#df-8af8cb61-0d6f-40a3-b50d-b3ea7e68d781');\n",
              "          const dataTable =\n",
              "            await google.colab.kernel.invokeFunction('convertToInteractive',\n",
              "                                                     [key], {});\n",
              "          if (!dataTable) return;\n",
              "\n",
              "          const docLinkHtml = 'Like what you see? Visit the ' +\n",
              "            '<a target=\"_blank\" href=https://colab.research.google.com/notebooks/data_table.ipynb>data table notebook</a>'\n",
              "            + ' to learn more about interactive tables.';\n",
              "          element.innerHTML = '';\n",
              "          dataTable['output_type'] = 'display_data';\n",
              "          await google.colab.output.renderOutput(dataTable, element);\n",
              "          const docLink = document.createElement('div');\n",
              "          docLink.innerHTML = docLinkHtml;\n",
              "          element.appendChild(docLink);\n",
              "        }\n",
              "      </script>\n",
              "    </div>\n",
              "  </div>\n",
              "  "
            ],
            "text/plain": [
              "      YEAR     STATE    AGENCY  ...  C_METHOD  OBJECTIVE   DURATION\n",
              "0   1921.0  0.000000  5.000000  ...  7.000000        1.0  12.000000\n",
              "1   1922.0  0.000000  5.000000  ...  7.000000        1.0   3.333333\n",
              "2   1926.0  0.000000  5.000000  ...  6.000000        1.0   7.500000\n",
              "3   1928.0  0.000000  5.000000  ...  7.000000        1.0   9.000000\n",
              "4   1930.0  0.000000  5.000000  ...  7.000000        1.0   0.500000\n",
              "..     ...       ...       ...  ...       ...        ...        ...\n",
              "81  2014.0  0.037037  4.629630  ...  2.574074        1.0  17.777778\n",
              "82  2015.0  0.000000  4.377778  ...  2.222222        1.0  31.544444\n",
              "83  2016.0  0.000000  3.178947  ...  1.905263        1.0  19.378947\n",
              "84  2017.0  0.000000  3.626761  ...  2.626761        1.0  25.971831\n",
              "85  2018.0  0.000000  2.000000  ...  0.000000        1.0   2.000000\n",
              "\n",
              "[86 rows x 10 columns]"
            ]
          },
          "execution_count": 63,
          "metadata": {},
          "output_type": "execute_result"
        }
      ],
      "source": [
        "wildfire_data_by_year = wildfire_data.groupby('YEAR').mean().reset_index()\n",
        "wildfire_data_by_year"
      ]
    },
    {
      "cell_type": "code",
      "execution_count": null,
      "metadata": {
        "colab": {
          "base_uri": "https://localhost:8080/"
        },
        "id": "2C_4Y3GN2QVG",
        "outputId": "bc7dbfc1-e1a4-4b90-8cc4-0958dc4eaba4"
      },
      "outputs": [
        {
          "data": {
            "image/png": "[encoded data removed]",
            "text/plain": [
              "<Figure size 1080x720 with 1 Axes>"
            ]
          },
          "metadata": {
            "needs_background": "light"
          },
          "output_type": "display_data"
        }
      ],
      "source": [
        "plt.figure(figsize=(15,10))\n",
        "plt.plot(wildfire_data['YEAR'], wildfire_data['GIS_ACRES'], label = \"GIS_ACRES\")\n",
        "# plt.plot(wildfire_data['YEAR'], wildfire_data['DURATION'], label = \"DURATION\")\n",
        "plt.legend()\n",
        "plt.title(\"Number of acres burned by year\")\n",
        "plt.xlabel('YEAR')\n",
        "plt.ylabel('GIS_ACRES')\n",
        "plt.show()"
      ]
    },
    {
      "cell_type": "markdown",
      "metadata": {
        "id": "euklJPdo9hgv"
      },
      "source": [
        "From the above plot we can see that the number of acres burned is increasing with year"
      ]
    },
    {
      "cell_type": "code",
      "execution_count": null,
      "metadata": {
        "colab": {
          "base_uri": "https://localhost:8080/"
        },
        "id": "nnbPoGx572aK",
        "outputId": "b5ef4c11-5f59-4cdb-c737-9598ce969123"
      },
      "outputs": [
        {
          "data": {
            "image/png": "[encoded data removed]",
            "text/plain": [
              "<Figure size 1080x720 with 1 Axes>"
            ]
          },
          "metadata": {
            "needs_background": "light"
          },
          "output_type": "display_data"
        }
      ],
      "source": [
        "plt.figure(figsize=(15,10))\n",
        "plt.plot(wildfire_data['YEAR'], wildfire_data['DURATION'], label = \"DURATION\")\n",
        "plt.legend()\n",
        "plt.title(\"Duration of Fire by year\")\n",
        "plt.xlabel('YEAR')\n",
        "plt.ylabel('DURATION')\n",
        "plt.show()"
      ]
    },
    {
      "cell_type": "markdown",
      "metadata": {
        "id": "oIiehxPfAKaX"
      },
      "source": [
        "From the above plot we can see that the duration of fire is increasing with year."
      ]
    },
    {
      "cell_type": "markdown",
      "metadata": {
        "id": "ZVGgSNe1Fyfa"
      },
      "source": [
        "## Scatterplot Matrix"
      ]
    },
    {
      "cell_type": "code",
      "execution_count": null,
      "metadata": {
        "colab": {
          "base_uri": "https://localhost:8080/"
        },
        "id": "ExMboAxgrLHD",
        "outputId": "e7da5e1b-f7d4-4834-8ee0-6eb20ce81606"
      },
      "outputs": [
        {
          "data": {
            "image/png": "[encoded data removed]",
            "text/plain": [
              "<Figure size 828.575x720 with 20 Axes>"
            ]
          },
          "metadata": {
            "needs_background": "light"
          },
          "output_type": "display_data"
        }
      ],
      "source": [
        "sns.pairplot(wildfire_data.loc[:, ['YEAR','DURATION', 'GIS_ACRES', 'REPORT_AC', 'OBJECTIVE']], hue=\"OBJECTIVE\")\n",
        "plt.show()"
      ]
    },
    {
      "cell_type": "markdown",
      "metadata": {
        "id": "zBuM0oPJF3nx"
      },
      "source": [
        "The above plot shows the relationship between various features.\n",
        "\n",
        "We can see that with increasing years, the amount of acres burned and reported is increasing so is the duration of the fire.\n",
        "\n",
        "The GIS_ACRES and REPORT_AC have a linear relation among them."
      ]
    },
    {
      "cell_type": "markdown",
      "metadata": {
        "id": "lX22TgZiGxR4"
      },
      "source": [
        "## Residual Plot"
      ]
    },
    {
      "cell_type": "code",
      "execution_count": null,
      "metadata": {
        "colab": {
          "base_uri": "https://localhost:8080/"
        },
        "id": "-QQ95tuhD9XB",
        "outputId": "83b28db2-f788-401a-e788-87460126588e"
      },
      "outputs": [
        {
          "data": {
            "image/png": "[encoded data removed]",
            "text/plain": [
              "<Figure size 432x288 with 1 Axes>"
            ]
          },
          "metadata": {
            "needs_background": "light"
          },
          "output_type": "display_data"
        }
      ],
      "source": [
        "sns.residplot(x = \"GIS_ACRES\", y = \"REPORT_AC\", data = wildfire_data)\n",
        "plt.show()"
      ]
    },
    {
      "cell_type": "markdown",
      "metadata": {
        "id": "VC28hzjyHdf9"
      },
      "source": [
        "The points at distance from the x-axis represent the outliers in the above residual plot"
      ]
    }
  ],
  "metadata": {
    "colab": {
      "name": "DS-TUT1-Wildfire.ipynb",
      "provenance": []
    },
    "kernelspec": {
      "display_name": "Python 3",
      "name": "python3"
    },
    "language_info": {
      "name": "python"
    }
  },
  "nbformat": 4,
  "nbformat_minor": 0
}
