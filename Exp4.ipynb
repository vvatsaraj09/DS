{
  "cells": [
    {
      "cell_type": "markdown",
      "id": "b860585d",
      "metadata": {},
      "source": [
        "*Name: Vaidehi Anant Vatsaraj* <br>\n",
        "*UID: 2018130060*"
      ]
    },
    {
      "cell_type": "markdown",
      "id": "3b98b13f",
      "metadata": {},
      "source": [
        "#### Perform statistical data analysis such as: Estimators of the main statistical measures (mean, variance, standard deviation, covariance correlation, standard error), Main distributions ( Normal distribution, chi-square distribution), Hypothesis testing, pair-wise association (Pearson correlation test, t-test, ANOVA), Non-parametric test (Spearman rank0 etc)"
      ]
    },
    {
      "cell_type": "markdown",
      "id": "appropriate-trace",
      "metadata": {
        "id": "appropriate-trace"
      },
      "source": [
        "## Analyze statistical data using Python/R programming"
      ]
    },
    {
      "cell_type": "markdown",
      "id": "continental-stream",
      "metadata": {
        "id": "continental-stream"
      },
      "source": [
        "#### Importing the necessary libraries"
      ]
    },
    {
      "cell_type": "code",
      "execution_count": 1,
      "id": "accepted-health",
      "metadata": {
        "id": "accepted-health"
      },
      "outputs": [],
      "source": [
        "import pandas as pd\n",
        "import numpy as np\n",
        "import matplotlib.pyplot as plt\n",
        "import seaborn as sns\n",
        "import warnings\n",
        "warnings.filterwarnings('ignore')\n",
        "%matplotlib inline"
      ]
    },
    {
      "cell_type": "markdown",
      "id": "approximate-badge",
      "metadata": {
        "id": "approximate-badge"
      },
      "source": [
        "#### Loading the dataset - Medical Costs Personal Data"
      ]
    },
    {
      "cell_type": "code",
      "execution_count": 6,
      "id": "superior-natural",
      "metadata": {
        "colab": {
          "base_uri": "https://localhost:8080/",
          "height": 206
        },
        "id": "superior-natural",
        "outputId": "978bfd2f-0648-459d-c942-b57b06a68e20"
      },
      "outputs": [
        {
          "data": {
            "text/html": [
              "\n",
              "  <div id=\"df-5bf36fc9-86a1-455b-a500-ed2268a6befc\">\n",
              "    <div class=\"colab-df-container\">\n",
              "      <div>\n",
              "<style scoped>\n",
              "    .dataframe tbody tr th:only-of-type {\n",
              "        vertical-align: middle;\n",
              "    }\n",
              "\n",
              "    .dataframe tbody tr th {\n",
              "        vertical-align: top;\n",
              "    }\n",
              "\n",
              "    .dataframe thead th {\n",
              "        text-align: right;\n",
              "    }\n",
              "</style>\n",
              "<table border=\"1\" class=\"dataframe\">\n",
              "  <thead>\n",
              "    <tr style=\"text-align: right;\">\n",
              "      <th></th>\n",
              "      <th>age</th>\n",
              "      <th>sex</th>\n",
              "      <th>bmi</th>\n",
              "      <th>children</th>\n",
              "      <th>smoker</th>\n",
              "      <th>region</th>\n",
              "      <th>charges</th>\n",
              "    </tr>\n",
              "  </thead>\n",
              "  <tbody>\n",
              "    <tr>\n",
              "      <th>0</th>\n",
              "      <td>19</td>\n",
              "      <td>female</td>\n",
              "      <td>27.900</td>\n",
              "      <td>0</td>\n",
              "      <td>yes</td>\n",
              "      <td>southwest</td>\n",
              "      <td>16884.92400</td>\n",
              "    </tr>\n",
              "    <tr>\n",
              "      <th>1</th>\n",
              "      <td>18</td>\n",
              "      <td>male</td>\n",
              "      <td>33.770</td>\n",
              "      <td>1</td>\n",
              "      <td>no</td>\n",
              "      <td>southeast</td>\n",
              "      <td>1725.55230</td>\n",
              "    </tr>\n",
              "    <tr>\n",
              "      <th>2</th>\n",
              "      <td>28</td>\n",
              "      <td>male</td>\n",
              "      <td>33.000</td>\n",
              "      <td>3</td>\n",
              "      <td>no</td>\n",
              "      <td>southeast</td>\n",
              "      <td>4449.46200</td>\n",
              "    </tr>\n",
              "    <tr>\n",
              "      <th>3</th>\n",
              "      <td>33</td>\n",
              "      <td>male</td>\n",
              "      <td>22.705</td>\n",
              "      <td>0</td>\n",
              "      <td>no</td>\n",
              "      <td>northwest</td>\n",
              "      <td>21984.47061</td>\n",
              "    </tr>\n",
              "    <tr>\n",
              "      <th>4</th>\n",
              "      <td>32</td>\n",
              "      <td>male</td>\n",
              "      <td>28.880</td>\n",
              "      <td>0</td>\n",
              "      <td>no</td>\n",
              "      <td>northwest</td>\n",
              "      <td>3866.85520</td>\n",
              "    </tr>\n",
              "  </tbody>\n",
              "</table>\n",
              "</div>\n",
              "      <button class=\"colab-df-convert\" onclick=\"convertToInteractive('df-5bf36fc9-86a1-455b-a500-ed2268a6befc')\"\n",
              "              title=\"Convert this dataframe to an interactive table.\"\n",
              "              style=\"display:none;\">\n",
              "        \n",
              "  <svg xmlns=\"http://www.w3.org/2000/svg\" height=\"24px\"viewBox=\"0 0 24 24\"\n",
              "       width=\"24px\">\n",
              "    <path d=\"M0 0h24v24H0V0z\" fill=\"none\"/>\n",
              "    <path d=\"M18.56 5.44l.94 2.06.94-2.06 2.06-.94-2.06-.94-.94-2.06-.94 2.06-2.06.94zm-11 1L8.5 8.5l.94-2.06 2.06-.94-2.06-.94L8.5 2.5l-.94 2.06-2.06.94zm10 10l.94 2.06.94-2.06 2.06-.94-2.06-.94-.94-2.06-.94 2.06-2.06.94z\"/><path d=\"M17.41 7.96l-1.37-1.37c-.4-.4-.92-.59-1.43-.59-.52 0-1.04.2-1.43.59L10.3 9.45l-7.72 7.72c-.78.78-.78 2.05 0 2.83L4 21.41c.39.39.9.59 1.41.59.51 0 1.02-.2 1.41-.59l7.78-7.78 2.81-2.81c.8-.78.8-2.07 0-2.86zM5.41 20L4 18.59l7.72-7.72 1.47 1.35L5.41 20z\"/>\n",
              "  </svg>\n",
              "      </button>\n",
              "      \n",
              "  <style>\n",
              "    .colab-df-container {\n",
              "      display:flex;\n",
              "      flex-wrap:wrap;\n",
              "      gap: 12px;\n",
              "    }\n",
              "\n",
              "    .colab-df-convert {\n",
              "      background-color: #E8F0FE;\n",
              "      border: none;\n",
              "      border-radius: 50%;\n",
              "      cursor: pointer;\n",
              "      display: none;\n",
              "      fill: #1967D2;\n",
              "      height: 32px;\n",
              "      padding: 0 0 0 0;\n",
              "      width: 32px;\n",
              "    }\n",
              "\n",
              "    .colab-df-convert:hover {\n",
              "      background-color: #E2EBFA;\n",
              "      box-shadow: 0px 1px 2px rgba(60, 64, 67, 0.3), 0px 1px 3px 1px rgba(60, 64, 67, 0.15);\n",
              "      fill: #174EA6;\n",
              "    }\n",
              "\n",
              "    [theme=dark] .colab-df-convert {\n",
              "      background-color: #3B4455;\n",
              "      fill: #D2E3FC;\n",
              "    }\n",
              "\n",
              "    [theme=dark] .colab-df-convert:hover {\n",
              "      background-color: #434B5C;\n",
              "      box-shadow: 0px 1px 3px 1px rgba(0, 0, 0, 0.15);\n",
              "      filter: drop-shadow(0px 1px 2px rgba(0, 0, 0, 0.3));\n",
              "      fill: #FFFFFF;\n",
              "    }\n",
              "  </style>\n",
              "\n",
              "      <script>\n",
              "        const buttonEl =\n",
              "          document.querySelector('#df-5bf36fc9-86a1-455b-a500-ed2268a6befc button.colab-df-convert');\n",
              "        buttonEl.style.display =\n",
              "          google.colab.kernel.accessAllowed ? 'block' : 'none';\n",
              "\n",
              "        async function convertToInteractive(key) {\n",
              "          const element = document.querySelector('#df-5bf36fc9-86a1-455b-a500-ed2268a6befc');\n",
              "          const dataTable =\n",
              "            await google.colab.kernel.invokeFunction('convertToInteractive',\n",
              "                                                     [key], {});\n",
              "          if (!dataTable) return;\n",
              "\n",
              "          const docLinkHtml = 'Like what you see? Visit the ' +\n",
              "            '<a target=\"_blank\" href=https://colab.research.google.com/notebooks/data_table.ipynb>data table notebook</a>'\n",
              "            + ' to learn more about interactive tables.';\n",
              "          element.innerHTML = '';\n",
              "          dataTable['output_type'] = 'display_data';\n",
              "          await google.colab.output.renderOutput(dataTable, element);\n",
              "          const docLink = document.createElement('div');\n",
              "          docLink.innerHTML = docLinkHtml;\n",
              "          element.appendChild(docLink);\n",
              "        }\n",
              "      </script>\n",
              "    </div>\n",
              "  </div>\n",
              "  "
            ],
            "text/plain": [
              "   age     sex     bmi  children smoker     region      charges\n",
              "0   19  female  27.900         0    yes  southwest  16884.92400\n",
              "1   18    male  33.770         1     no  southeast   1725.55230\n",
              "2   28    male  33.000         3     no  southeast   4449.46200\n",
              "3   33    male  22.705         0     no  northwest  21984.47061\n",
              "4   32    male  28.880         0     no  northwest   3866.85520"
            ]
          },
          "execution_count": 6,
          "metadata": {},
          "output_type": "execute_result"
        }
      ],
      "source": [
        "df = pd.read_csv('insurance-exp-4.csv')\n",
        "df.head()"
      ]
    },
    {
      "cell_type": "code",
      "execution_count": 7,
      "id": "rocky-defensive",
      "metadata": {
        "colab": {
          "base_uri": "https://localhost:8080/"
        },
        "id": "rocky-defensive",
        "outputId": "c46f56f2-305f-4d00-9ff8-d1ad1754470f"
      },
      "outputs": [
        {
          "name": "stdout",
          "output_type": "stream",
          "text": [
            "<class 'pandas.core.frame.DataFrame'>\n",
            "RangeIndex: 1338 entries, 0 to 1337\n",
            "Data columns (total 7 columns):\n",
            " #   Column    Non-Null Count  Dtype  \n",
            "---  ------    --------------  -----  \n",
            " 0   age       1338 non-null   int64  \n",
            " 1   sex       1338 non-null   object \n",
            " 2   bmi       1338 non-null   float64\n",
            " 3   children  1338 non-null   int64  \n",
            " 4   smoker    1338 non-null   object \n",
            " 5   region    1338 non-null   object \n",
            " 6   charges   1338 non-null   float64\n",
            "dtypes: float64(2), int64(2), object(3)\n",
            "memory usage: 73.3+ KB\n"
          ]
        }
      ],
      "source": [
        "df.info()"
      ]
    },
    {
      "cell_type": "markdown",
      "id": "prompt-jacket",
      "metadata": {
        "id": "prompt-jacket"
      },
      "source": [
        "No null values present"
      ]
    },
    {
      "cell_type": "code",
      "execution_count": 8,
      "id": "indoor-inside",
      "metadata": {
        "colab": {
          "base_uri": "https://localhost:8080/"
        },
        "id": "indoor-inside",
        "outputId": "e28e97ad-dadf-4f21-8653-7b0fc6744882"
      },
      "outputs": [
        {
          "name": "stdout",
          "output_type": "stream",
          "text": [
            "Shape of data (samples, features):  (1338, 7)\n"
          ]
        }
      ],
      "source": [
        "print(\"Shape of data (samples, features): \",df.shape)"
      ]
    },
    {
      "cell_type": "markdown",
      "id": "warming-cambridge",
      "metadata": {
        "id": "warming-cambridge"
      },
      "source": [
        "The dataset has 1338 rows and 7 columns with 'charges' as the target column"
      ]
    },
    {
      "cell_type": "markdown",
      "id": "nutritional-necklace",
      "metadata": {
        "id": "nutritional-necklace"
      },
      "source": [
        "### Descriptive Statistics"
      ]
    },
    {
      "cell_type": "code",
      "execution_count": 9,
      "id": "demographic-lafayette",
      "metadata": {
        "colab": {
          "base_uri": "https://localhost:8080/",
          "height": 175
        },
        "id": "demographic-lafayette",
        "outputId": "6e9e4dc5-5336-4e2d-fa25-4b90d94ec8ca"
      },
      "outputs": [
        {
          "data": {
            "text/html": [
              "\n",
              "  <div id=\"df-5e820423-7825-4a6d-b202-e7b40aa591d1\">\n",
              "    <div class=\"colab-df-container\">\n",
              "      <div>\n",
              "<style scoped>\n",
              "    .dataframe tbody tr th:only-of-type {\n",
              "        vertical-align: middle;\n",
              "    }\n",
              "\n",
              "    .dataframe tbody tr th {\n",
              "        vertical-align: top;\n",
              "    }\n",
              "\n",
              "    .dataframe thead th {\n",
              "        text-align: right;\n",
              "    }\n",
              "</style>\n",
              "<table border=\"1\" class=\"dataframe\">\n",
              "  <thead>\n",
              "    <tr style=\"text-align: right;\">\n",
              "      <th></th>\n",
              "      <th>count</th>\n",
              "      <th>mean</th>\n",
              "      <th>std</th>\n",
              "      <th>min</th>\n",
              "      <th>25%</th>\n",
              "      <th>50%</th>\n",
              "      <th>75%</th>\n",
              "      <th>max</th>\n",
              "    </tr>\n",
              "  </thead>\n",
              "  <tbody>\n",
              "    <tr>\n",
              "      <th>age</th>\n",
              "      <td>1338.0</td>\n",
              "      <td>39.207025</td>\n",
              "      <td>14.049960</td>\n",
              "      <td>18.0000</td>\n",
              "      <td>27.00000</td>\n",
              "      <td>39.000</td>\n",
              "      <td>51.000000</td>\n",
              "      <td>64.00000</td>\n",
              "    </tr>\n",
              "    <tr>\n",
              "      <th>bmi</th>\n",
              "      <td>1338.0</td>\n",
              "      <td>30.663397</td>\n",
              "      <td>6.098187</td>\n",
              "      <td>15.9600</td>\n",
              "      <td>26.29625</td>\n",
              "      <td>30.400</td>\n",
              "      <td>34.693750</td>\n",
              "      <td>53.13000</td>\n",
              "    </tr>\n",
              "    <tr>\n",
              "      <th>children</th>\n",
              "      <td>1338.0</td>\n",
              "      <td>1.094918</td>\n",
              "      <td>1.205493</td>\n",
              "      <td>0.0000</td>\n",
              "      <td>0.00000</td>\n",
              "      <td>1.000</td>\n",
              "      <td>2.000000</td>\n",
              "      <td>5.00000</td>\n",
              "    </tr>\n",
              "    <tr>\n",
              "      <th>charges</th>\n",
              "      <td>1338.0</td>\n",
              "      <td>13270.422265</td>\n",
              "      <td>12110.011237</td>\n",
              "      <td>1121.8739</td>\n",
              "      <td>4740.28715</td>\n",
              "      <td>9382.033</td>\n",
              "      <td>16639.912515</td>\n",
              "      <td>63770.42801</td>\n",
              "    </tr>\n",
              "  </tbody>\n",
              "</table>\n",
              "</div>\n",
              "      <button class=\"colab-df-convert\" onclick=\"convertToInteractive('df-5e820423-7825-4a6d-b202-e7b40aa591d1')\"\n",
              "              title=\"Convert this dataframe to an interactive table.\"\n",
              "              style=\"display:none;\">\n",
              "        \n",
              "  <svg xmlns=\"http://www.w3.org/2000/svg\" height=\"24px\"viewBox=\"0 0 24 24\"\n",
              "       width=\"24px\">\n",
              "    <path d=\"M0 0h24v24H0V0z\" fill=\"none\"/>\n",
              "    <path d=\"M18.56 5.44l.94 2.06.94-2.06 2.06-.94-2.06-.94-.94-2.06-.94 2.06-2.06.94zm-11 1L8.5 8.5l.94-2.06 2.06-.94-2.06-.94L8.5 2.5l-.94 2.06-2.06.94zm10 10l.94 2.06.94-2.06 2.06-.94-2.06-.94-.94-2.06-.94 2.06-2.06.94z\"/><path d=\"M17.41 7.96l-1.37-1.37c-.4-.4-.92-.59-1.43-.59-.52 0-1.04.2-1.43.59L10.3 9.45l-7.72 7.72c-.78.78-.78 2.05 0 2.83L4 21.41c.39.39.9.59 1.41.59.51 0 1.02-.2 1.41-.59l7.78-7.78 2.81-2.81c.8-.78.8-2.07 0-2.86zM5.41 20L4 18.59l7.72-7.72 1.47 1.35L5.41 20z\"/>\n",
              "  </svg>\n",
              "      </button>\n",
              "      \n",
              "  <style>\n",
              "    .colab-df-container {\n",
              "      display:flex;\n",
              "      flex-wrap:wrap;\n",
              "      gap: 12px;\n",
              "    }\n",
              "\n",
              "    .colab-df-convert {\n",
              "      background-color: #E8F0FE;\n",
              "      border: none;\n",
              "      border-radius: 50%;\n",
              "      cursor: pointer;\n",
              "      display: none;\n",
              "      fill: #1967D2;\n",
              "      height: 32px;\n",
              "      padding: 0 0 0 0;\n",
              "      width: 32px;\n",
              "    }\n",
              "\n",
              "    .colab-df-convert:hover {\n",
              "      background-color: #E2EBFA;\n",
              "      box-shadow: 0px 1px 2px rgba(60, 64, 67, 0.3), 0px 1px 3px 1px rgba(60, 64, 67, 0.15);\n",
              "      fill: #174EA6;\n",
              "    }\n",
              "\n",
              "    [theme=dark] .colab-df-convert {\n",
              "      background-color: #3B4455;\n",
              "      fill: #D2E3FC;\n",
              "    }\n",
              "\n",
              "    [theme=dark] .colab-df-convert:hover {\n",
              "      background-color: #434B5C;\n",
              "      box-shadow: 0px 1px 3px 1px rgba(0, 0, 0, 0.15);\n",
              "      filter: drop-shadow(0px 1px 2px rgba(0, 0, 0, 0.3));\n",
              "      fill: #FFFFFF;\n",
              "    }\n",
              "  </style>\n",
              "\n",
              "      <script>\n",
              "        const buttonEl =\n",
              "          document.querySelector('#df-5e820423-7825-4a6d-b202-e7b40aa591d1 button.colab-df-convert');\n",
              "        buttonEl.style.display =\n",
              "          google.colab.kernel.accessAllowed ? 'block' : 'none';\n",
              "\n",
              "        async function convertToInteractive(key) {\n",
              "          const element = document.querySelector('#df-5e820423-7825-4a6d-b202-e7b40aa591d1');\n",
              "          const dataTable =\n",
              "            await google.colab.kernel.invokeFunction('convertToInteractive',\n",
              "                                                     [key], {});\n",
              "          if (!dataTable) return;\n",
              "\n",
              "          const docLinkHtml = 'Like what you see? Visit the ' +\n",
              "            '<a target=\"_blank\" href=https://colab.research.google.com/notebooks/data_table.ipynb>data table notebook</a>'\n",
              "            + ' to learn more about interactive tables.';\n",
              "          element.innerHTML = '';\n",
              "          dataTable['output_type'] = 'display_data';\n",
              "          await google.colab.output.renderOutput(dataTable, element);\n",
              "          const docLink = document.createElement('div');\n",
              "          docLink.innerHTML = docLinkHtml;\n",
              "          element.appendChild(docLink);\n",
              "        }\n",
              "      </script>\n",
              "    </div>\n",
              "  </div>\n",
              "  "
            ],
            "text/plain": [
              "           count          mean           std        min         25%       50%  \\\n",
              "age       1338.0     39.207025     14.049960    18.0000    27.00000    39.000   \n",
              "bmi       1338.0     30.663397      6.098187    15.9600    26.29625    30.400   \n",
              "children  1338.0      1.094918      1.205493     0.0000     0.00000     1.000   \n",
              "charges   1338.0  13270.422265  12110.011237  1121.8739  4740.28715  9382.033   \n",
              "\n",
              "                   75%          max  \n",
              "age          51.000000     64.00000  \n",
              "bmi          34.693750     53.13000  \n",
              "children      2.000000      5.00000  \n",
              "charges   16639.912515  63770.42801  "
            ]
          },
          "execution_count": 9,
          "metadata": {},
          "output_type": "execute_result"
        }
      ],
      "source": [
        "df_descrb = df.describe().T\n",
        "df_descrb"
      ]
    },
    {
      "cell_type": "markdown",
      "id": "bright-opportunity",
      "metadata": {
        "id": "bright-opportunity"
      },
      "source": [
        "The above table shows the various descriptive statistical features such as the count, mean, standard deviation along with the maximum and minimum values and the quartiles (25%, 50% i.e. median, 75%)"
      ]
    },
    {
      "cell_type": "code",
      "execution_count": 10,
      "id": "optimum-realtor",
      "metadata": {
        "colab": {
          "base_uri": "https://localhost:8080/"
        },
        "id": "optimum-realtor",
        "outputId": "2210f922-3421-499b-f266-3eec2b7234d5"
      },
      "outputs": [
        {
          "data": {
            "text/plain": [
              "Index(['age', 'bmi', 'children', 'charges'], dtype='object')"
            ]
          },
          "execution_count": 10,
          "metadata": {},
          "output_type": "execute_result"
        }
      ],
      "source": [
        "df_descrb.index"
      ]
    },
    {
      "cell_type": "code",
      "execution_count": 11,
      "id": "breeding-roman",
      "metadata": {
        "colab": {
          "base_uri": "https://localhost:8080/"
        },
        "id": "breeding-roman",
        "outputId": "13fe8f51-30f4-4adc-de58-a0ed9fd3c17c"
      },
      "outputs": [
        {
          "name": "stdout",
          "output_type": "stream",
          "text": [
            "Range for age variable: 46.0\n",
            "Range for bmi variable: 37.17\n",
            "Range for children variable: 5.0\n",
            "Range for charges variable: 62648.554110000005\n"
          ]
        }
      ],
      "source": [
        "print('Range for age variable:',df_descrb.loc['age']['max']-df_descrb.loc['age']['min'])\n",
        "print('Range for bmi variable:',df_descrb.loc['bmi']['max']-df_descrb.loc['bmi']['min'])\n",
        "print('Range for children variable:',df_descrb.loc['children']['max']-df_descrb.loc['children']['min'])\n",
        "print('Range for charges variable:',df_descrb.loc['charges']['max']-df_descrb.loc['charges']['min'])"
      ]
    },
    {
      "cell_type": "code",
      "execution_count": 12,
      "id": "understanding-highlight",
      "metadata": {
        "colab": {
          "base_uri": "https://localhost:8080/"
        },
        "id": "understanding-highlight",
        "outputId": "6367fe5b-91f5-43e2-ebed-af91d42884a8"
      },
      "outputs": [
        {
          "data": {
            "text/plain": [
              "age         0.055673\n",
              "bmi         0.284047\n",
              "children    0.938380\n",
              "charges     1.515880\n",
              "dtype: float64"
            ]
          },
          "execution_count": 12,
          "metadata": {},
          "output_type": "execute_result"
        }
      ],
      "source": [
        "df.skew(axis = 0, skipna = True)"
      ]
    },
    {
      "cell_type": "markdown",
      "id": "geographic-validation",
      "metadata": {
        "id": "geographic-validation"
      },
      "source": [
        "We can see that skew value for age is very low\n",
        "\n",
        "Skew for charges is positive and high so, it is skewed right or positively skewed, even the bmi and children attributes distribution is positively skewed but bmi attribute is not much skewed compared to children."
      ]
    },
    {
      "cell_type": "code",
      "execution_count": 13,
      "id": "noted-minnesota",
      "metadata": {
        "colab": {
          "base_uri": "https://localhost:8080/",
          "height": 295
        },
        "id": "noted-minnesota",
        "outputId": "e200784b-99df-4953-b39b-2c01cffe1ec7"
      },
      "outputs": [
        {
          "data": {
            "image/png": "[encoded data removed]",
            "text/plain": [
              "<Figure size 432x288 with 1 Axes>"
            ]
          },
          "metadata": {
            "needs_background": "light"
          },
          "output_type": "display_data"
        }
      ],
      "source": [
        "sns.distplot(df['charges'], color='orchid');\n",
        "plt.axvline(df['charges'].quantile(q=0.25),color='green',linestyle='--',label='25% Quartile');\n",
        "plt.axvline(df['charges'].mean(),color='red',linestyle='--',label='Mean');\n",
        "plt.axvline(df['charges'].median(),color='black',linestyle='--',label='Median');\n",
        "plt.axvline(df['charges'].quantile(q=0.75),color='blue',linestyle='--',label='75% Quartile');\n",
        "plt.text(70000, 3e-5, 'skewness: {}' .format(str(round(df['charges'].skew(),3))), ha='right', va='center', size=11)\n",
        "plt.title('Charges');\n",
        "plt.xlabel('Charges [$USD]');\n",
        "plt.legend();"
      ]
    },
    {
      "cell_type": "markdown",
      "id": "ambient-rabbit",
      "metadata": {
        "id": "ambient-rabbit"
      },
      "source": [
        "Charges target attribute has Right skewed distribution"
      ]
    },
    {
      "cell_type": "code",
      "execution_count": 14,
      "id": "spread-player",
      "metadata": {
        "colab": {
          "base_uri": "https://localhost:8080/",
          "height": 313
        },
        "id": "spread-player",
        "outputId": "f1d68e7e-7ff8-4aee-e26c-164bd4fd0218"
      },
      "outputs": [
        {
          "name": "stdout",
          "output_type": "stream",
          "text": [
            "Skewness: 0.056\n"
          ]
        },
        {
          "data": {
            "image/png": "[encoded data removed]",
            "text/plain": [
              "<Figure size 432x288 with 1 Axes>"
            ]
          },
          "metadata": {
            "needs_background": "light"
          },
          "output_type": "display_data"
        }
      ],
      "source": [
        "sns.distplot(df['age']);\n",
        "plt.axvline(df['age'].quantile(q=0.25),color='green',linestyle='--',label='25% Quartile');\n",
        "plt.axvline(df['age'].mean(),color='red',linestyle='--',label='Mean');\n",
        "plt.axvline(df['age'].median(),color='black',linestyle='--',label='Median');\n",
        "plt.axvline(df['age'].quantile(q=0.75),color='blue',linestyle='--',label='75% Quartile');\n",
        "plt.title('Age');\n",
        "plt.xlabel('Age');\n",
        "plt.legend();\n",
        "print('Skewness:',round(df['age'].skew(),3))"
      ]
    },
    {
      "cell_type": "markdown",
      "id": "opposed-monkey",
      "metadata": {
        "id": "opposed-monkey"
      },
      "source": [
        "Age attribute has a very low skew value but is not even close to a normal distribution"
      ]
    },
    {
      "cell_type": "code",
      "execution_count": 15,
      "id": "liberal-ridge",
      "metadata": {
        "colab": {
          "base_uri": "https://localhost:8080/",
          "height": 313
        },
        "id": "liberal-ridge",
        "outputId": "74b6a984-f6f2-4f32-d8ac-66915243bc25"
      },
      "outputs": [
        {
          "name": "stdout",
          "output_type": "stream",
          "text": [
            "Skewness: 0.284\n"
          ]
        },
        {
          "data": {
            "image/png": "[encoded data removed]",
            "text/plain": [
              "<Figure size 432x288 with 1 Axes>"
            ]
          },
          "metadata": {
            "needs_background": "light"
          },
          "output_type": "display_data"
        }
      ],
      "source": [
        "sns.distplot(df['bmi'], color='red');\n",
        "plt.axvline(df['bmi'].quantile(q=0.25),color='green',linestyle='--',label='25% Quartile');\n",
        "plt.axvline(df['bmi'].mean(),color='red',linestyle='--',label='Mean');\n",
        "plt.axvline(df['bmi'].median(),color='black',linestyle='--',label='Median');\n",
        "plt.axvline(df['bmi'].quantile(q=0.75),color='blue',linestyle='--',label='75% Quartile');\n",
        "plt.title('BMI');\n",
        "plt.xlabel('BMI');\n",
        "plt.legend();\n",
        "print('Skewness:',round(df['bmi'].skew(),3))"
      ]
    },
    {
      "cell_type": "markdown",
      "id": "direct-welcome",
      "metadata": {
        "id": "direct-welcome"
      },
      "source": [
        "BMI attribute has almost symmetrical distribution, very close to normal distribution"
      ]
    },
    {
      "cell_type": "markdown",
      "id": "driven-consciousness",
      "metadata": {
        "id": "driven-consciousness"
      },
      "source": [
        "### Hypothesis Testing\n",
        "#### Prove (or disprove) with statistical evidence that the BMI of females is different from that of males."
      ]
    },
    {
      "cell_type": "markdown",
      "id": "deadly-ebony",
      "metadata": {
        "id": "deadly-ebony"
      },
      "source": [
        "Let  μ1, μ2  and be the respective population means for BMI of males and BMI of females\n",
        "\n",
        "**Step 1: Define null and alternative hypothesis**\n",
        "\n",
        " **H0:** μ1−μ2=0 There is no difference between the BMI of Male and BMI of female.\n",
        " \n",
        " **Ha:** μ1−μ2!=0  There is difference between the BMI of Male and BMI of female."
      ]
    },
    {
      "cell_type": "markdown",
      "id": "removable-handling",
      "metadata": {
        "id": "removable-handling"
      },
      "source": [
        "**Step 2: Decide the significance level**: α = 0.05"
      ]
    },
    {
      "cell_type": "markdown",
      "id": "painted-milton",
      "metadata": {
        "id": "painted-milton"
      },
      "source": [
        "**Step 3: Identify the test**: Independent T-test\n",
        "\n",
        "A t-test is used to compare the mean of two given samples. Like a z-test, a t-test also assumes a normal distribution of the sample. A t-test is used when the population parameters (mean and standard deviation) are not known.\n",
        "\n",
        "Independent T-Test: Independent samples t-test which compares mean for two groups."
      ]
    },
    {
      "cell_type": "markdown",
      "id": "instrumental-reverse",
      "metadata": {
        "id": "instrumental-reverse"
      },
      "source": [
        "**Step 4: Calculate the test-statistics and p-value**\n",
        "    \n",
        "Here, the test-statistic is called t-statistic, the score for which is calculated as:\n",
        "    \n",
        "t = (x1 — x2) / (σ / √n1 + σ / √n2)\n",
        "\n",
        "where\n",
        "\n",
        "x1 = mean of sample 1\n",
        "\n",
        "x2 = mean of sample 2\n",
        "\n",
        "n1 = size of sample 1\n",
        "\n",
        "n2 = size of sample 2"
      ]
    },
    {
      "cell_type": "code",
      "execution_count": 16,
      "id": "adjustable-calibration",
      "metadata": {
        "colab": {
          "base_uri": "https://localhost:8080/",
          "height": 549
        },
        "id": "adjustable-calibration",
        "outputId": "98e6ff07-e3b5-4b50-fc89-60f38249dc58"
      },
      "outputs": [
        {
          "name": "stdout",
          "output_type": "stream",
          "text": [
            "Mean BMI for Males = 30.943128698224832\n",
            "Mean BMI for Females = 30.377749244713023\n"
          ]
        },
        {
          "data": {
            "image/png": "[encoded data removed]",
            "text/plain": [
              "<Figure size 576x576 with 1 Axes>"
            ]
          },
          "metadata": {
            "needs_background": "light"
          },
          "output_type": "display_data"
        }
      ],
      "source": [
        "df_male = df[df['sex']=='male']\n",
        "df_female = df[df['sex']=='female']\n",
        "bmi_female = df_female.bmi\n",
        "bmi_male = df_male.bmi\n",
        "alpha = 0.05\n",
        "\n",
        "plt.figure(figsize=(8,8))\n",
        "sns.distplot(df_male['bmi'], hist=False);\n",
        "sns.distplot(df_female['bmi'], hist=False, color='red');\n",
        "plt.axvline(df_male['bmi'].mean(),linestyle='--',label='Mean for Males');\n",
        "plt.axvline(df_female['bmi'].mean(),color='red',linestyle='--',label='Mean for Females');\n",
        "plt.title('BMI');\n",
        "plt.xlabel('BMI');\n",
        "plt.legend();\n",
        "print('Mean BMI for Males =',df_male['bmi'].mean())\n",
        "print('Mean BMI for Females =',df_female['bmi'].mean())"
      ]
    },
    {
      "cell_type": "code",
      "execution_count": 17,
      "id": "extensive-reason",
      "metadata": {
        "colab": {
          "base_uri": "https://localhost:8080/"
        },
        "id": "extensive-reason",
        "outputId": "dcc18bdc-66ec-4a32-83be-c0f965ddeaab"
      },
      "outputs": [
        {
          "name": "stdout",
          "output_type": "stream",
          "text": [
            "t-statistic = 1.697\n",
            "p-value = 0.09\n"
          ]
        }
      ],
      "source": [
        "from scipy import stats\n",
        "ind_t_stat, p_value = stats.ttest_ind(bmi_male, bmi_female)\n",
        "in_t_stat = round(ind_t_stat,3)\n",
        "p_value = round(p_value,3)\n",
        "print(\"t-statistic =\",round(ind_t_stat,3))\n",
        "print(\"p-value =\",round(p_value,3))"
      ]
    },
    {
      "cell_type": "code",
      "execution_count": 18,
      "id": "dedicated-processing",
      "metadata": {
        "colab": {
          "base_uri": "https://localhost:8080/"
        },
        "id": "dedicated-processing",
        "outputId": "3120a12d-f913-4592-9e96-a491914a457c"
      },
      "outputs": [
        {
          "name": "stdout",
          "output_type": "stream",
          "text": [
            "Conclusion: Since P value 0.09 is greater than alpha 0.05 \n",
            "Failed to Reject Null Hypothesis i.e. there is difference in bmi of men and bmi of female\n"
          ]
        }
      ],
      "source": [
        "if p_value<alpha :\n",
        "    print(\"Conclusion: Since P value {} is less than alpha {} \".format(p_value,alpha))\n",
        "    print(\"Reject Null Hypothesis i.e. that there is no difference in bmi of men and bmi of female\")\n",
        "    \n",
        "else:\n",
        "    print(\"Conclusion: Since P value {} is greater than alpha {} \".format(p_value,alpha))\n",
        "    print(\"Failed to Reject Null Hypothesis i.e. there is difference in bmi of men and bmi of female\")"
      ]
    },
    {
      "cell_type": "markdown",
      "id": "opening-communications",
      "metadata": {
        "id": "opening-communications"
      },
      "source": [
        "**Step 5: Decide to reject or accept null hypothesis**\n",
        "\n",
        "The observation is that p-value(0.09) is greater than the significance level alpha(0.05).\n",
        "\n",
        "#### **Conclusion**\n",
        "\n",
        "Here, I failed to reject the null hypothesis and I conclude that there is no difference between BMI of Females and BMI of Males. For hypothesis testing  considered data of insurance price based on different health parameter. I formulated a hypothesis, but based on the observation (P and alpha), the hypothesis failed and the it was observed that there is no difference between BMI of females and males."
      ]
    }
  ],
  "metadata": {
    "colab": {
      "include_colab_link": true,
      "name": "DS-Exp4.ipynb",
      "provenance": []
    },
    "kernelspec": {
      "display_name": "Python 3",
      "language": "python",
      "name": "python3"
    },
    "language_info": {
      "codemirror_mode": {
        "name": "ipython",
        "version": 3
      },
      "file_extension": ".py",
      "mimetype": "text/x-python",
      "name": "python",
      "nbconvert_exporter": "python",
      "pygments_lexer": "ipython3",
      "version": "3.7.9"
    }
  },
  "nbformat": 4,
  "nbformat_minor": 5
}
