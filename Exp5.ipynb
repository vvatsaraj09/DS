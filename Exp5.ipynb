{
 "cells": [
  {
   "cell_type": "markdown",
   "id": "6485765f",
   "metadata": {},
   "source": [
    "*Name: Vaidehi Anant Vatsaraj* <br>\n",
    "*UID: 2018130060*"
   ]
  },
  {
   "cell_type": "markdown",
   "id": "33d1c8fd",
   "metadata": {},
   "source": [
    "![alt text](Screen.PNG \"Title\")"
   ]
  },
  {
   "cell_type": "markdown",
   "id": "d443c303",
   "metadata": {},
   "source": [
    "## Rank: 1292"
   ]
  },
  {
   "cell_type": "markdown",
   "id": "968cbe7f",
   "metadata": {},
   "source": [
    "#### Based on competition available at Kaggle, https://www.kaggle.com/c/house-prices-advanced-regression-techniques/overview/description, revolving around predicting the house price through regression techniques. your objective is to build a regression model and measure the performance of the model in terms of accuracy, recall, sensitivity, specificity, ROC curves, precision recall curves and loss function for regression."
   ]
  },
  {
   "cell_type": "markdown",
   "id": "f510bf31",
   "metadata": {},
   "source": [
    "#### **Conclusion**<br>\n",
    "In this experiment, I was able to take part in an active Kaggle competition and submit my results to see my ranking. I was also able to improve my rank by making another submission while the competition was live. I understood the importance of Kaggle competitions and learnt how to use them to boost my data science skills."
   ]
  }
 ],
 "metadata": {
  "kernelspec": {
   "display_name": "Python 3",
   "language": "python",
   "name": "python3"
  },
  "language_info": {
   "codemirror_mode": {
    "name": "ipython",
    "version": 3
   },
   "file_extension": ".py",
   "mimetype": "text/x-python",
   "name": "python",
   "nbconvert_exporter": "python",
   "pygments_lexer": "ipython3",
   "version": "3.9.5"
  },
  "papermill": {
   "default_parameters": {},
   "duration": 15.782793,
   "end_time": "2022-03-02T07:03:18.101339",
   "environment_variables": {},
   "exception": null,
   "input_path": "__notebook__.ipynb",
   "output_path": "__notebook__.ipynb",
   "parameters": {},
   "start_time": "2022-03-02T07:03:02.318546",
   "version": "2.3.3"
  }
 },
 "nbformat": 4,
 "nbformat_minor": 5
}
