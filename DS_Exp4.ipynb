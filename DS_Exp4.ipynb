{
  "cells": [
    {
      "cell_type": "markdown",
      "metadata": {},
      "source": [
        "### Exp 4\n",
        "### Vaidehi Vatsaraj\n",
        "### 2018130060"
      ]
    },
    {
      "cell_type": "markdown",
      "metadata": {},
      "source": [
        "#### Perform statistical data analysis such as: Estimators of the main statistical measures (mean, variance, standard deviation, covariance correlation, standard error), Main distributions ( Normal distribution, chi-square distribution), Hypothesis testing, pair-wise association (Pearson correlation test, t-test, ANOVA), Non-parametric test (Spearman rank0 etc)"
      ]
    },
    {
      "cell_type": "markdown",
      "metadata": {},
      "source": [
        "## Analyze statistical data using Python/R programming"
      ]
    },
    {
      "cell_type": "markdown",
      "metadata": {},
      "source": [
        "#### Importing the necessary libraries"
      ]
    },
    {
      "cell_type": "code",
      "execution_count": 8,
      "metadata": {
        "colab": {
          "base_uri": "https://localhost:8080/"
        },
        "id": "biOhU3DvM4Hz",
        "outputId": "2be279a4-894e-4eab-e6d7-1c934b702134"
      },
      "outputs": [],
      "source": [
        "import pandas as pd\n",
        "import numpy as np"
      ]
    },
    {
      "cell_type": "code",
      "execution_count": 10,
      "metadata": {
        "colab": {
          "base_uri": "https://localhost:8080/",
          "height": 206
        },
        "id": "kqAI3q1kOTsF",
        "outputId": "587eac3c-82fb-458d-c651-282f46e17d15"
      },
      "outputs": [
        {
          "data": {
            "text/html": [
              "<div>\n",
              "<style scoped>\n",
              "    .dataframe tbody tr th:only-of-type {\n",
              "        vertical-align: middle;\n",
              "    }\n",
              "\n",
              "    .dataframe tbody tr th {\n",
              "        vertical-align: top;\n",
              "    }\n",
              "\n",
              "    .dataframe thead th {\n",
              "        text-align: right;\n",
              "    }\n",
              "</style>\n",
              "<table border=\"1\" class=\"dataframe\">\n",
              "  <thead>\n",
              "    <tr style=\"text-align: right;\">\n",
              "      <th></th>\n",
              "      <th>Formatted Date</th>\n",
              "      <th>Summary</th>\n",
              "      <th>Precip Type</th>\n",
              "      <th>Temperature (C)</th>\n",
              "      <th>Apparent Temperature (C)</th>\n",
              "      <th>Humidity</th>\n",
              "      <th>Wind Speed (km/h)</th>\n",
              "      <th>Wind Bearing (degrees)</th>\n",
              "      <th>Visibility (km)</th>\n",
              "      <th>Loud Cover</th>\n",
              "      <th>Pressure (millibars)</th>\n",
              "      <th>Daily Summary</th>\n",
              "    </tr>\n",
              "  </thead>\n",
              "  <tbody>\n",
              "    <tr>\n",
              "      <th>0</th>\n",
              "      <td>2006-04-01 00:00:00.000 +0200</td>\n",
              "      <td>Partly Cloudy</td>\n",
              "      <td>rain</td>\n",
              "      <td>9.472222</td>\n",
              "      <td>7.388889</td>\n",
              "      <td>0.89</td>\n",
              "      <td>14.1197</td>\n",
              "      <td>251.0</td>\n",
              "      <td>15.8263</td>\n",
              "      <td>0.0</td>\n",
              "      <td>1015.13</td>\n",
              "      <td>Partly cloudy throughout the day.</td>\n",
              "    </tr>\n",
              "    <tr>\n",
              "      <th>1</th>\n",
              "      <td>2006-04-01 01:00:00.000 +0200</td>\n",
              "      <td>Partly Cloudy</td>\n",
              "      <td>rain</td>\n",
              "      <td>9.355556</td>\n",
              "      <td>7.227778</td>\n",
              "      <td>0.86</td>\n",
              "      <td>14.2646</td>\n",
              "      <td>259.0</td>\n",
              "      <td>15.8263</td>\n",
              "      <td>0.0</td>\n",
              "      <td>1015.63</td>\n",
              "      <td>Partly cloudy throughout the day.</td>\n",
              "    </tr>\n",
              "    <tr>\n",
              "      <th>2</th>\n",
              "      <td>2006-04-01 02:00:00.000 +0200</td>\n",
              "      <td>Mostly Cloudy</td>\n",
              "      <td>rain</td>\n",
              "      <td>9.377778</td>\n",
              "      <td>9.377778</td>\n",
              "      <td>0.89</td>\n",
              "      <td>3.9284</td>\n",
              "      <td>204.0</td>\n",
              "      <td>14.9569</td>\n",
              "      <td>0.0</td>\n",
              "      <td>1015.94</td>\n",
              "      <td>Partly cloudy throughout the day.</td>\n",
              "    </tr>\n",
              "    <tr>\n",
              "      <th>3</th>\n",
              "      <td>2006-04-01 03:00:00.000 +0200</td>\n",
              "      <td>Partly Cloudy</td>\n",
              "      <td>rain</td>\n",
              "      <td>8.288889</td>\n",
              "      <td>5.944444</td>\n",
              "      <td>0.83</td>\n",
              "      <td>14.1036</td>\n",
              "      <td>269.0</td>\n",
              "      <td>15.8263</td>\n",
              "      <td>0.0</td>\n",
              "      <td>1016.41</td>\n",
              "      <td>Partly cloudy throughout the day.</td>\n",
              "    </tr>\n",
              "    <tr>\n",
              "      <th>4</th>\n",
              "      <td>2006-04-01 04:00:00.000 +0200</td>\n",
              "      <td>Mostly Cloudy</td>\n",
              "      <td>rain</td>\n",
              "      <td>8.755556</td>\n",
              "      <td>6.977778</td>\n",
              "      <td>0.83</td>\n",
              "      <td>11.0446</td>\n",
              "      <td>259.0</td>\n",
              "      <td>15.8263</td>\n",
              "      <td>0.0</td>\n",
              "      <td>1016.51</td>\n",
              "      <td>Partly cloudy throughout the day.</td>\n",
              "    </tr>\n",
              "  </tbody>\n",
              "</table>\n",
              "</div>"
            ],
            "text/plain": [
              "                  Formatted Date        Summary Precip Type  Temperature (C)  \\\n",
              "0  2006-04-01 00:00:00.000 +0200  Partly Cloudy        rain         9.472222   \n",
              "1  2006-04-01 01:00:00.000 +0200  Partly Cloudy        rain         9.355556   \n",
              "2  2006-04-01 02:00:00.000 +0200  Mostly Cloudy        rain         9.377778   \n",
              "3  2006-04-01 03:00:00.000 +0200  Partly Cloudy        rain         8.288889   \n",
              "4  2006-04-01 04:00:00.000 +0200  Mostly Cloudy        rain         8.755556   \n",
              "\n",
              "   Apparent Temperature (C)  Humidity  Wind Speed (km/h)  \\\n",
              "0                  7.388889      0.89            14.1197   \n",
              "1                  7.227778      0.86            14.2646   \n",
              "2                  9.377778      0.89             3.9284   \n",
              "3                  5.944444      0.83            14.1036   \n",
              "4                  6.977778      0.83            11.0446   \n",
              "\n",
              "   Wind Bearing (degrees)  Visibility (km)  Loud Cover  Pressure (millibars)  \\\n",
              "0                   251.0          15.8263         0.0               1015.13   \n",
              "1                   259.0          15.8263         0.0               1015.63   \n",
              "2                   204.0          14.9569         0.0               1015.94   \n",
              "3                   269.0          15.8263         0.0               1016.41   \n",
              "4                   259.0          15.8263         0.0               1016.51   \n",
              "\n",
              "                       Daily Summary  \n",
              "0  Partly cloudy throughout the day.  \n",
              "1  Partly cloudy throughout the day.  \n",
              "2  Partly cloudy throughout the day.  \n",
              "3  Partly cloudy throughout the day.  \n",
              "4  Partly cloudy throughout the day.  "
            ]
          },
          "execution_count": 10,
          "metadata": {},
          "output_type": "execute_result"
        }
      ],
      "source": [
        "df = pd.read_csv('./weatherHistory.csv')\n",
        "df.head()"
      ]
    },
    {
      "cell_type": "code",
      "execution_count": 11,
      "metadata": {
        "colab": {
          "base_uri": "https://localhost:8080/"
        },
        "id": "zKEo8qmgPdz0",
        "outputId": "49cc53f4-f923-4f50-c58b-783ebe735d1c"
      },
      "outputs": [
        {
          "name": "stdout",
          "output_type": "stream",
          "text": [
            "Shape of data:  (96453, 12)\n",
            "<class 'pandas.core.frame.DataFrame'>\n",
            "RangeIndex: 96453 entries, 0 to 96452\n",
            "Data columns (total 12 columns):\n",
            " #   Column                    Non-Null Count  Dtype  \n",
            "---  ------                    --------------  -----  \n",
            " 0   Formatted Date            96453 non-null  object \n",
            " 1   Summary                   96453 non-null  object \n",
            " 2   Precip Type               95936 non-null  object \n",
            " 3   Temperature (C)           96453 non-null  float64\n",
            " 4   Apparent Temperature (C)  96453 non-null  float64\n",
            " 5   Humidity                  96453 non-null  float64\n",
            " 6   Wind Speed (km/h)         96453 non-null  float64\n",
            " 7   Wind Bearing (degrees)    96453 non-null  float64\n",
            " 8   Visibility (km)           96453 non-null  float64\n",
            " 9   Loud Cover                96453 non-null  float64\n",
            " 10  Pressure (millibars)      96453 non-null  float64\n",
            " 11  Daily Summary             96453 non-null  object \n",
            "dtypes: float64(8), object(4)\n",
            "memory usage: 7.4+ MB\n"
          ]
        }
      ],
      "source": [
        "print(\"Shape of data: \",df.shape)\n",
        "df.info()"
      ]
    },
    {
      "cell_type": "code",
      "execution_count": 12,
      "metadata": {
        "colab": {
          "base_uri": "https://localhost:8080/"
        },
        "id": "QMsEisWAPLk4",
        "outputId": "e1f8cc0b-9c6d-4f44-99f5-13089f1d5884"
      },
      "outputs": [
        {
          "data": {
            "text/plain": [
              "Index(['Formatted Date', 'Summary', 'Precip Type', 'Temperature (C)',\n",
              "       'Apparent Temperature (C)', 'Humidity', 'Wind Speed (km/h)',\n",
              "       'Wind Bearing (degrees)', 'Visibility (km)', 'Loud Cover',\n",
              "       'Pressure (millibars)', 'Daily Summary'],\n",
              "      dtype='object')"
            ]
          },
          "execution_count": 12,
          "metadata": {},
          "output_type": "execute_result"
        }
      ],
      "source": [
        "df.columns"
      ]
    },
    {
      "cell_type": "code",
      "execution_count": 13,
      "metadata": {
        "colab": {
          "base_uri": "https://localhost:8080/",
          "height": 300
        },
        "id": "4uz_th4JPSn3",
        "outputId": "5af33d2c-5977-4825-8bbd-b966190f65e0"
      },
      "outputs": [
        {
          "name": "stdout",
          "output_type": "stream",
          "text": [
            "Range for temperature variable: 61.727777777777774\n",
            "Range for Apparent Tempearture variable: 67.0611111111111\n",
            "Range for Wind variable: 63.8526\n",
            "Range for Humidity variable: 1.0\n",
            "Range for Visibility variable: 16.1\n"
          ]
        },
        {
          "data": {
            "text/html": [
              "<div>\n",
              "<style scoped>\n",
              "    .dataframe tbody tr th:only-of-type {\n",
              "        vertical-align: middle;\n",
              "    }\n",
              "\n",
              "    .dataframe tbody tr th {\n",
              "        vertical-align: top;\n",
              "    }\n",
              "\n",
              "    .dataframe thead th {\n",
              "        text-align: right;\n",
              "    }\n",
              "</style>\n",
              "<table border=\"1\" class=\"dataframe\">\n",
              "  <thead>\n",
              "    <tr style=\"text-align: right;\">\n",
              "      <th></th>\n",
              "      <th>count</th>\n",
              "      <th>mean</th>\n",
              "      <th>std</th>\n",
              "      <th>min</th>\n",
              "      <th>25%</th>\n",
              "      <th>50%</th>\n",
              "      <th>75%</th>\n",
              "      <th>max</th>\n",
              "    </tr>\n",
              "  </thead>\n",
              "  <tbody>\n",
              "    <tr>\n",
              "      <th>Temperature (C)</th>\n",
              "      <td>96453.0</td>\n",
              "      <td>11.932678</td>\n",
              "      <td>9.551546</td>\n",
              "      <td>-21.822222</td>\n",
              "      <td>4.688889</td>\n",
              "      <td>12.0000</td>\n",
              "      <td>18.838889</td>\n",
              "      <td>39.905556</td>\n",
              "    </tr>\n",
              "    <tr>\n",
              "      <th>Apparent Temperature (C)</th>\n",
              "      <td>96453.0</td>\n",
              "      <td>10.855029</td>\n",
              "      <td>10.696847</td>\n",
              "      <td>-27.716667</td>\n",
              "      <td>2.311111</td>\n",
              "      <td>12.0000</td>\n",
              "      <td>18.838889</td>\n",
              "      <td>39.344444</td>\n",
              "    </tr>\n",
              "    <tr>\n",
              "      <th>Humidity</th>\n",
              "      <td>96453.0</td>\n",
              "      <td>0.734899</td>\n",
              "      <td>0.195473</td>\n",
              "      <td>0.000000</td>\n",
              "      <td>0.600000</td>\n",
              "      <td>0.7800</td>\n",
              "      <td>0.890000</td>\n",
              "      <td>1.000000</td>\n",
              "    </tr>\n",
              "    <tr>\n",
              "      <th>Wind Speed (km/h)</th>\n",
              "      <td>96453.0</td>\n",
              "      <td>10.810640</td>\n",
              "      <td>6.913571</td>\n",
              "      <td>0.000000</td>\n",
              "      <td>5.828200</td>\n",
              "      <td>9.9659</td>\n",
              "      <td>14.135800</td>\n",
              "      <td>63.852600</td>\n",
              "    </tr>\n",
              "    <tr>\n",
              "      <th>Wind Bearing (degrees)</th>\n",
              "      <td>96453.0</td>\n",
              "      <td>187.509232</td>\n",
              "      <td>107.383428</td>\n",
              "      <td>0.000000</td>\n",
              "      <td>116.000000</td>\n",
              "      <td>180.0000</td>\n",
              "      <td>290.000000</td>\n",
              "      <td>359.000000</td>\n",
              "    </tr>\n",
              "    <tr>\n",
              "      <th>Visibility (km)</th>\n",
              "      <td>96453.0</td>\n",
              "      <td>10.347325</td>\n",
              "      <td>4.192123</td>\n",
              "      <td>0.000000</td>\n",
              "      <td>8.339800</td>\n",
              "      <td>10.0464</td>\n",
              "      <td>14.812000</td>\n",
              "      <td>16.100000</td>\n",
              "    </tr>\n",
              "    <tr>\n",
              "      <th>Loud Cover</th>\n",
              "      <td>96453.0</td>\n",
              "      <td>0.000000</td>\n",
              "      <td>0.000000</td>\n",
              "      <td>0.000000</td>\n",
              "      <td>0.000000</td>\n",
              "      <td>0.0000</td>\n",
              "      <td>0.000000</td>\n",
              "      <td>0.000000</td>\n",
              "    </tr>\n",
              "    <tr>\n",
              "      <th>Pressure (millibars)</th>\n",
              "      <td>96453.0</td>\n",
              "      <td>1003.235956</td>\n",
              "      <td>116.969906</td>\n",
              "      <td>0.000000</td>\n",
              "      <td>1011.900000</td>\n",
              "      <td>1016.4500</td>\n",
              "      <td>1021.090000</td>\n",
              "      <td>1046.380000</td>\n",
              "    </tr>\n",
              "  </tbody>\n",
              "</table>\n",
              "</div>"
            ],
            "text/plain": [
              "                            count         mean         std        min  \\\n",
              "Temperature (C)           96453.0    11.932678    9.551546 -21.822222   \n",
              "Apparent Temperature (C)  96453.0    10.855029   10.696847 -27.716667   \n",
              "Humidity                  96453.0     0.734899    0.195473   0.000000   \n",
              "Wind Speed (km/h)         96453.0    10.810640    6.913571   0.000000   \n",
              "Wind Bearing (degrees)    96453.0   187.509232  107.383428   0.000000   \n",
              "Visibility (km)           96453.0    10.347325    4.192123   0.000000   \n",
              "Loud Cover                96453.0     0.000000    0.000000   0.000000   \n",
              "Pressure (millibars)      96453.0  1003.235956  116.969906   0.000000   \n",
              "\n",
              "                                  25%        50%          75%          max  \n",
              "Temperature (C)              4.688889    12.0000    18.838889    39.905556  \n",
              "Apparent Temperature (C)     2.311111    12.0000    18.838889    39.344444  \n",
              "Humidity                     0.600000     0.7800     0.890000     1.000000  \n",
              "Wind Speed (km/h)            5.828200     9.9659    14.135800    63.852600  \n",
              "Wind Bearing (degrees)     116.000000   180.0000   290.000000   359.000000  \n",
              "Visibility (km)              8.339800    10.0464    14.812000    16.100000  \n",
              "Loud Cover                   0.000000     0.0000     0.000000     0.000000  \n",
              "Pressure (millibars)      1011.900000  1016.4500  1021.090000  1046.380000  "
            ]
          },
          "execution_count": 13,
          "metadata": {},
          "output_type": "execute_result"
        }
      ],
      "source": [
        "df_descrb = df.describe().T\n",
        "print('Range for temperature variable:',df_descrb.loc['Temperature (C)']['max']-df_descrb.loc['Temperature (C)']['min'])\n",
        "print('Range for Apparent Tempearture variable:',df_descrb.loc['Apparent Temperature (C)']['max']-df_descrb.loc['Apparent Temperature (C)']['min'])\n",
        "print('Range for Wind variable:',df_descrb.loc['Wind Speed (km/h)']['max']-df_descrb.loc['Wind Speed (km/h)']['min'])\n",
        "print('Range for Humidity variable:',df_descrb.loc['Humidity']['max']-df_descrb.loc['Humidity']['min'])\n",
        "print('Range for Visibility variable:',df_descrb.loc['Visibility (km)']['max']-df_descrb.loc['Visibility (km)']['min'])\n",
        "df_descrb"
      ]
    },
    {
      "cell_type": "code",
      "execution_count": 17,
      "metadata": {
        "colab": {
          "base_uri": "https://localhost:8080/"
        },
        "id": "c-kJJ2yrRsQO",
        "outputId": "89d1d0bb-490c-42eb-a9da-b04ff797bc69"
      },
      "outputs": [
        {
          "name": "stdout",
          "output_type": "stream",
          "text": [
            "0.7348989663359355\n"
          ]
        }
      ],
      "source": [
        "from scipy.stats import ttest_1samp\n",
        "humidity_mean = np.mean(df['Humidity'])\n",
        "print(humidity_mean)"
      ]
    },
    {
      "cell_type": "code",
      "execution_count": 18,
      "metadata": {
        "colab": {
          "base_uri": "https://localhost:8080/"
        },
        "id": "ptZe0v-AXTvW",
        "outputId": "edebe471-b7b9-4e86-bd0b-d205c50b9d80"
      },
      "outputs": [
        {
          "name": "stdout",
          "output_type": "stream",
          "text": [
            "0.8254960806848837\n"
          ]
        }
      ],
      "source": [
        "sample = df['Humidity'].sample(n=20)\n",
        "tset, pval = ttest_1samp(sample, humidity_mean)\n",
        "print(pval)"
      ]
    },
    {
      "cell_type": "code",
      "execution_count": 19,
      "metadata": {
        "colab": {
          "base_uri": "https://localhost:8080/"
        },
        "id": "322vR-pGYYbr",
        "outputId": "d54bb3b0-5588-4b5e-8c33-b8d503cbfe8f"
      },
      "outputs": [
        {
          "name": "stdout",
          "output_type": "stream",
          "text": [
            "we are accepting null hypothesis\n"
          ]
        }
      ],
      "source": [
        "if pval < 0.05:    # alpha value is 0.05 or 5%\n",
        "   print(\" we are rejecting null hypothesis\")\n",
        "else:\n",
        "  print(\"we are accepting null hypothesis\")"
      ]
    },
    {
      "cell_type": "markdown",
      "metadata": {},
      "source": [
        "### Hypothesis Testing\n",
        "#### Prove (or disprove) with statistical evidence that the humidity of high means is different from humidity from low means.\n",
        "Let  μ1, μ2  and be the respective population means for Ozone of lows and Ozone of highs\n",
        "\n",
        "\n",
        "**Step 1: Define null and alternative hypothesis**\n",
        "\n",
        " **H0:** μ1−μ2=0 There is no difference between the humidity of low and humidity of high.\n",
        " \n",
        " **Ha:** μ1−μ2!=0  There is difference between the humidity of low and humidity of high.\n",
        "\n",
        "\n",
        "**Step 2: Decide the significance level**: α = 0.05\n",
        "\n",
        "\n",
        "**Step 3: Identify the test**: Independent T-test\n",
        "\n",
        "A t-test is used to compare the mean of two given samples. Like a z-test, a t-test also assumes a normal distribution of the sample. A t-test is used when the population parameters (mean and standard deviation) are not known.\n",
        "\n",
        "Independent T-Test: Independent samples t-test which compares mean for two groups.\n",
        "\n",
        "\n",
        "**Step 4: Calculate the test-statistics and p-value**\n",
        "    \n",
        "Here, the test-statistic is called t-statistic, the score for which is calculated as:\n",
        "    \n",
        "t = (x1 — x2) / (σ / √n1 + σ / √n2)\n",
        "\n",
        "where\n",
        "\n",
        "x1 = mean of sample 1\n",
        "\n",
        "x2 = mean of sample 2\n",
        "\n",
        "n1 = size of sample 1\n",
        "\n",
        "n2 = size of sample 2\n",
        "\n",
        "\n",
        "**Step 5: Decide to reject or accept null hypothesis**\n",
        "\n",
        "The observation is that p-value(0.09) is greater than the significance level alpha(0.05)."
      ]
    },
    {
      "cell_type": "markdown",
      "metadata": {
        "id": "UOzjBWHlLlCO"
      },
      "source": [
        "#### **Conclusion**\n",
        "\n",
        "1) Hence, I failed to reject the null hypothesis and I conclude that there is no difference between Humidity of highs and Ozone of lows.\n",
        "2) I formulated a hypothesis, but based on the observation (P and alpha), the hypothesis failed and the it was observed that there is no difference between Ozone of highs and Lows."
      ]
    }
  ],
  "metadata": {
    "colab": {
      "name": "Ds_expt4.ipynb",
      "provenance": []
    },
    "kernelspec": {
      "display_name": "Python 3",
      "name": "python3"
    },
    "language_info": {
      "codemirror_mode": {
        "name": "ipython",
        "version": 3
      },
      "file_extension": ".py",
      "mimetype": "text/x-python",
      "name": "python",
      "nbconvert_exporter": "python",
      "pygments_lexer": "ipython3",
      "version": "3.8.2"
    }
  },
  "nbformat": 4,
  "nbformat_minor": 0
}
